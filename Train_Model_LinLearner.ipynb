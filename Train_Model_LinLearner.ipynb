{
 "cells": [
  {
   "cell_type": "code",
   "execution_count": null,
   "id": "f4994e51",
   "metadata": {},
   "outputs": [],
   "source": [
    "!pip install sagemaker==1.72.0"
   ]
  },
  {
   "cell_type": "code",
   "execution_count": 1,
   "id": "279c1b98",
   "metadata": {},
   "outputs": [],
   "source": [
    "## Import relevant libraries\n",
    "import os\n",
    "import boto3\n",
    "import re\n",
    "import sagemaker\n",
    "import pandas as pd\n",
    "import numpy as np\n",
    "import matplotlib.pyplot as plt\n",
    "import io\n",
    "import time\n",
    "import json\n",
    "import sagemaker.amazon.common as smac\n",
    "import scipy\n",
    "from sklearn.model_selection import train_test_split\n",
    "from sagemaker.amazon.amazon_estimator import get_image_uri\n",
    "\n",
    "## Defin role, region, session, and default s3 bucket ##\n",
    "role = sagemaker.get_execution_role()\n",
    "region = boto3.Session().region_name\n",
    "session = sagemaker.Session()\n",
    "bucket = session.default_bucket()"
   ]
  },
  {
   "cell_type": "code",
   "execution_count": 2,
   "id": "a04b8586",
   "metadata": {},
   "outputs": [],
   "source": [
    "## Read in processed datasets ##\n",
    "X_sparse = scipy.sparse.load_npz('./readmissions_X.npz')\n",
    "y_sparse = scipy.sparse.load_npz('./readmissions_y.npz')\n",
    "X = pd.DataFrame(np.array(X_sparse.todense()))\n",
    "y = pd.DataFrame(np.array(y_sparse.todense()).reshape(-1,1))"
   ]
  },
  {
   "cell_type": "code",
   "execution_count": 3,
   "id": "0055c5c8",
   "metadata": {},
   "outputs": [],
   "source": [
    "## Create train/test/validation sets ##\n",
    "X_train, X_test, y_train, y_test = train_test_split(X, y, test_size=0.33)\n",
    "X_train, X_val, y_train, y_val = train_test_split(X_train, y_train, test_size=0.33)"
   ]
  },
  {
   "cell_type": "markdown",
   "id": "40030851",
   "metadata": {},
   "source": [
    "#### Build XGboost Classifier "
   ]
  },
  {
   "cell_type": "code",
   "execution_count": 4,
   "id": "93e6cc32",
   "metadata": {},
   "outputs": [],
   "source": [
    "prefix = 'readmission-xgboost'\n",
    "data_dir = './data/'\n",
    "if not os.path.exists(data_dir):\n",
    "    os.makedirs(data_dir)\n",
    "\n",
    "## Save train/test/validation sets to local data directory ##\n",
    "pd.DataFrame(X_test).to_csv(os.path.join(data_dir, 'test.csv'), header=False, index=False)\n",
    "pd.concat([y_val, X_val], axis=1).to_csv(os.path.join(data_dir, 'validation.csv'), header=False, index=False)\n",
    "pd.concat([y_train, X_train], axis=1).to_csv(os.path.join(data_dir, 'train.csv'), header=False, index=False)\n",
    "\n",
    "## Upload train/test/validation sets from local directory to s3 bucket ##\n",
    "test_location = session.upload_data(os.path.join(data_dir, 'test.csv'), key_prefix=prefix)\n",
    "val_location = session.upload_data(os.path.join(data_dir, 'validation.csv'), key_prefix=prefix)\n",
    "train_location = session.upload_data(os.path.join(data_dir, 'train.csv'), key_prefix=prefix)"
   ]
  },
  {
   "cell_type": "code",
   "execution_count": 5,
   "id": "1c9825b2",
   "metadata": {},
   "outputs": [
    {
     "name": "stderr",
     "output_type": "stream",
     "text": [
      "'get_image_uri' method will be deprecated in favor of 'ImageURIProvider' class in SageMaker Python SDK v2.\n",
      "There is a more up to date SageMaker XGBoost image. To use the newer image, please set 'repo_version'='1.0-1'. For example:\n",
      "\tget_image_uri(region, 'xgboost', '1.0-1').\n",
      "Parameter image_name will be renamed to image_uri in SageMaker Python SDK v2.\n"
     ]
    }
   ],
   "source": [
    "## Define estimator object\n",
    "from sagemaker.tuner import IntegerParameter, ContinuousParameter, HyperparameterTuner\n",
    "container = get_image_uri(session.boto_region_name, 'xgboost')\n",
    "xgb = sagemaker.estimator.Estimator(container, \n",
    "                                    role,                                   \n",
    "                                    train_instance_count=1,                 \n",
    "                                    train_instance_type='ml.m4.xlarge',    \n",
    "                                    output_path='s3://{}/{}/output'.format(bucket, prefix),\n",
    "                                    sagemaker_session=session)"
   ]
  },
  {
   "cell_type": "code",
   "execution_count": 6,
   "id": "4f8a99ce",
   "metadata": {},
   "outputs": [],
   "source": [
    "## Define default and tunable hyperparameters ## \n",
    "xgb.set_hyperparameters(silent=0,\n",
    "                        objective='binary:logistic',\n",
    "                        early_stopping_rounds=10,\n",
    "                        num_round=500)\n",
    "\n",
    "xgb_hyperparameter_tuner = HyperparameterTuner(estimator = xgb, \n",
    "                                               objective_metric_name = 'validation:auc', \n",
    "                                               objective_type = 'Maximize',\n",
    "                                               max_jobs = 20,\n",
    "                                               max_parallel_jobs = 3,\n",
    "                                               hyperparameter_ranges = {\n",
    "                                                    'max_depth': IntegerParameter(3, 12),\n",
    "                                                    'eta'      : ContinuousParameter(0.05, 0.5),\n",
    "                                                    'min_child_weight': IntegerParameter(2, 8),\n",
    "                                                    'subsample': ContinuousParameter(0.5, 0.9),\n",
    "                                                    'gamma': ContinuousParameter(0, 10)})"
   ]
  },
  {
   "cell_type": "code",
   "execution_count": 7,
   "id": "84bd6f24",
   "metadata": {},
   "outputs": [
    {
     "name": "stderr",
     "output_type": "stream",
     "text": [
      "'s3_input' class will be renamed to 'TrainingInput' in SageMaker Python SDK v2.\n",
      "'s3_input' class will be renamed to 'TrainingInput' in SageMaker Python SDK v2.\n"
     ]
    }
   ],
   "source": [
    "## Point hyperparameter tuner object to training/validation data in s3 ##\n",
    "s3_input_train = sagemaker.s3_input(s3_data=train_location, content_type='csv')\n",
    "s3_input_validation = sagemaker.s3_input(s3_data=val_location, content_type='csv')"
   ]
  },
  {
   "cell_type": "code",
   "execution_count": null,
   "id": "ceb8a0c2",
   "metadata": {},
   "outputs": [
    {
     "name": "stdout",
     "output_type": "stream",
     "text": [
      "..............."
     ]
    }
   ],
   "source": [
    "## Fit hyperparameter tuner object ##\n",
    "xgb_hyperparameter_tuner.fit({'train': s3_input_train, 'validation': s3_input_validation})\n",
    "xgb_hyperparameter_tuner.wait()"
   ]
  },
  {
   "cell_type": "code",
   "execution_count": null,
   "id": "c2836854",
   "metadata": {},
   "outputs": [],
   "source": [
    "my_tuner_analytics = xgb_hyperparameter_tuner.analytics()\n",
    "my_dataframe = my_tuner_analytics.dataframe()\n",
    "\n",
    "best_job = xgb_hyperparameter_tuner.best_training_job()\n",
    "my_dataframe[my_dataframe['TrainingJobName'] == best_job]"
   ]
  },
  {
   "cell_type": "code",
   "execution_count": null,
   "id": "2c20c66a",
   "metadata": {},
   "outputs": [],
   "source": [
    "xgb_best = sagemaker.estimator.Estimator.attach(xgb_hyperparameter_tuner.best_training_job())\n",
    "xgb_transformer = xgb_best.transformer(instance_count = 1, instance_type = 'ml.m4.xlarge')\n",
    "xgb_transformer.transform(test_location, content_type='text/csv', split_type='Line')\n",
    "\n",
    "xgb_transformer.wait()"
   ]
  },
  {
   "cell_type": "code",
   "execution_count": null,
   "id": "796775f4",
   "metadata": {},
   "outputs": [],
   "source": [
    "!aws s3 cp --recursive $xgb_transformer.output_path $data_dir\n",
    "\n",
    "output = pd.read_csv(os.path.join(data_dir, 'test.csv.out'), header=None)\n",
    "predictions = [round(num) for num in output.squeeze().values]\n",
    "probs = [p for p in output.squeeze().values]\n",
    "\n",
    "from sklearn.metrics import accuracy_score\n",
    "print (accuracy_score(y_test, predictions))\n",
    "\n",
    "from sklearn.metrics import roc_auc_score\n",
    "print (roc_auc_score(y_test, probs))"
   ]
  },
  {
   "cell_type": "code",
   "execution_count": null,
   "id": "f6234245",
   "metadata": {},
   "outputs": [],
   "source": []
  },
  {
   "cell_type": "code",
   "execution_count": null,
   "id": "1acd1792",
   "metadata": {},
   "outputs": [],
   "source": [
    "prefix = \"readmissions/linreg\"\n",
    "\n",
    "import io\n",
    "import numpy as np\n",
    "import sagemaker.amazon.common as smac\n",
    "\n",
    "buf = io.BytesIO()\n",
    "smac.write_numpy_to_dense_tensor(buf, X_train.values.astype(\"float32\"), y_train.values[:,0].astype(\"float32\"))\n",
    "buf.seek(0)\n",
    "\n",
    "key = \"recordio-pb-data\"\n",
    "boto3.resource(\"s3\").Bucket(bucket).Object(os.path.join(prefix, \"train\", key)).upload_fileobj(buf)\n",
    "s3_train_data = f\"s3://{bucket}/{prefix}/train/{key}\"\n",
    "print(f\"uploaded training data location: {s3_train_data}\")\n",
    "\n",
    "buf = io.BytesIO()\n",
    "smac.write_numpy_to_dense_tensor(buf, X_val.values.astype(\"float32\"), y_val.values[:,0].astype(\"float32\"))\n",
    "buf.seek(0)\n",
    "\n",
    "key = \"recordio-pb-data\"\n",
    "boto3.resource(\"s3\").Bucket(bucket).Object(os.path.join(prefix, \"val\", key)).upload_fileobj(buf)\n",
    "s3_val_data = f\"s3://{bucket}/{prefix}/val/{key}\"\n",
    "print(f\"uploaded validation data location: {s3_val_data}\")"
   ]
  },
  {
   "cell_type": "code",
   "execution_count": null,
   "id": "4be16fe7",
   "metadata": {},
   "outputs": [],
   "source": [
    "container = get_image_uri(session.boto_region_name, 'linear-learner')"
   ]
  },
  {
   "cell_type": "code",
   "execution_count": null,
   "id": "cf3e6aa5",
   "metadata": {},
   "outputs": [],
   "source": [
    "from sagemaker.tuner import IntegerParameter, ContinuousParameter, CategoricalParameter, HyperparameterTuner\n",
    "linear = sagemaker.estimator.Estimator(\n",
    "         container,\n",
    "         role,\n",
    "         train_instance_count=1,\n",
    "         train_instance_type=\"ml.c4.xlarge\",\n",
    "         output_path='s3://{}/{}/output'.format(session.default_bucket(), prefix),\n",
    "         sagemaker_session=session)\n",
    "\n",
    "linear.set_hyperparameters(feature_dim=105, predictor_type=\"binary_classifier\")\n",
    "\n",
    "lin_hyperparameter_tuner = HyperparameterTuner(estimator = linear, \n",
    "                                               objective_metric_name = 'validation:binary_classification_accuracy', \n",
    "                                               objective_type = 'Maximize',\n",
    "                                               max_jobs = 20,\n",
    "                                               max_parallel_jobs = 3,\n",
    "                                               hyperparameter_ranges = {\n",
    "                                                    'wd': ContinuousParameter(0.1, 1.0),\n",
    "                                                    'l1'      : ContinuousParameter(0.1, 1.0),\n",
    "                                                    'learning_rate': ContinuousParameter(0.1, 1.0),\n",
    "                                                    'mini_batch_size': IntegerParameter(100, 5000),\n",
    "                                                    'use_bias': CategoricalParameter([True, False])})"
   ]
  },
  {
   "cell_type": "code",
   "execution_count": null,
   "id": "ce0f4ce0",
   "metadata": {},
   "outputs": [],
   "source": [
    "lin_hyperparameter_tuner.fit({'train': s3_train_data, 'validation': s3_val_data})\n",
    "lin_hyperparameter_tuner.wait()"
   ]
  },
  {
   "cell_type": "code",
   "execution_count": null,
   "id": "3f1f553f",
   "metadata": {},
   "outputs": [],
   "source": [
    "my_tuner_analytics = lin_hyperparameter_tuner.analytics()\n",
    "my_dataframe = my_tuner_analytics.dataframe()\n",
    "\n",
    "best_job = lin_hyperparameter_tuner.best_training_job()\n",
    "my_dataframe[my_dataframe['TrainingJobName'] == best_job]"
   ]
  },
  {
   "cell_type": "code",
   "execution_count": null,
   "id": "9049fa3c",
   "metadata": {},
   "outputs": [],
   "source": [
    "lin_best = sagemaker.estimator.Estimator.attach(lin_hyperparameter_tuner.best_training_job())\n",
    "lin_transformer = lin_best.transformer(instance_count = 1, instance_type = 'ml.m4.xlarge')\n",
    "lin_transformer.transform(test_location, content_type='text/csv', split_type='Line')\n",
    "\n",
    "lin_transformer.wait()"
   ]
  },
  {
   "cell_type": "code",
   "execution_count": null,
   "id": "878b3a58",
   "metadata": {},
   "outputs": [],
   "source": [
    "!aws s3 cp --recursive $lin_transformer.output_path $data_dir\n",
    "\n",
    "results = pd.read_csv(os.path.join(data_dir, 'test.csv.out'), header=None)\n",
    "predictions = [int(p.split(':')[1]) for p in results[0]]\n",
    "probs = [float(p.split(':')[1].split('}')[0]) for p in results[1]]"
   ]
  },
  {
   "cell_type": "code",
   "execution_count": null,
   "id": "e42de21c",
   "metadata": {},
   "outputs": [],
   "source": [
    "from sklearn.metrics import accuracy_score\n",
    "accuracy_score(y_test, predictions)"
   ]
  },
  {
   "cell_type": "code",
   "execution_count": null,
   "id": "781b6d4f",
   "metadata": {},
   "outputs": [],
   "source": [
    "from sklearn.metrics import roc_auc_score\n",
    "print (roc_auc_score(y_test, probs))"
   ]
  },
  {
   "cell_type": "code",
   "execution_count": null,
   "id": "bbccd9ba",
   "metadata": {},
   "outputs": [],
   "source": [
    "lin_hyperparameter_tuner.best_training_job()"
   ]
  },
  {
   "cell_type": "code",
   "execution_count": null,
   "id": "590e931b",
   "metadata": {},
   "outputs": [],
   "source": [
    "session.default_bucket()"
   ]
  },
  {
   "cell_type": "code",
   "execution_count": null,
   "id": "5adc87fe",
   "metadata": {},
   "outputs": [],
   "source": [
    "prefix"
   ]
  },
  {
   "cell_type": "code",
   "execution_count": null,
   "id": "2550a8af",
   "metadata": {},
   "outputs": [],
   "source": [
    "import os\n",
    "import mxnet as mx\n",
    "import boto3\n",
    "\n",
    "key = '/readmissions/linreg/output/linear-learner-211230-1808-005-a9e8df26/output/'\n",
    "boto3.resource('s3').Bucket(session.default_bucket()).download_file(key, 'model.tar.gz')\n",
    " \n",
    "os.system('tar -zxvf model.tar.gz')\n",
    " \n",
    "# Linear learner model is itself a zip file, containing a mxnet model and other metadata.\n",
    "# First unzip the model.\n",
    "os.system('unzip model_algo-1') \n",
    " \n",
    "# Load the mxnet module\n",
    "mod = mx.module.Module.load(\"mx-mod\", 0)\n",
    " \n",
    "# model's weights\n",
    "mod._arg_params['fc0_weight'].asnumpy().flatten()\n",
    " \n",
    "# model bias\n",
    "mod._arg_params['fc0_bias'].asnumpy().flatten()\n",
    " \n",
    "# Using the model for prediction\n",
    "# First create a mxnet data iterator:\n",
    "# https://mxnet.incubator.apache.org/tutorials/basic/data.html#reading-data-in-memory\n",
    "# https://mxnet.incubator.apache.org/tutorials/basic/data.html#reading-data-from-csv-files\n",
    "data_iter = create_data_iter()\n",
    " \n",
    "# Next bind the module with the data shapes.\n",
    "mod.bind(data_shapes=data_iter.provide_data)\n",
    " \n",
    "# Predict\n",
    "mod.predict(data_iter)"
   ]
  },
  {
   "cell_type": "code",
   "execution_count": null,
   "id": "f803ad47",
   "metadata": {},
   "outputs": [],
   "source": []
  }
 ],
 "metadata": {
  "kernelspec": {
   "display_name": "conda_amazonei_mxnet_p36",
   "language": "python",
   "name": "conda_amazonei_mxnet_p36"
  },
  "language_info": {
   "codemirror_mode": {
    "name": "ipython",
    "version": 3
   },
   "file_extension": ".py",
   "mimetype": "text/x-python",
   "name": "python",
   "nbconvert_exporter": "python",
   "pygments_lexer": "ipython3",
   "version": "3.6.13"
  }
 },
 "nbformat": 4,
 "nbformat_minor": 5
}
