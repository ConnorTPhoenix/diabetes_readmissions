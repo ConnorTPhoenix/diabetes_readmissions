{
 "cells": [
  {
   "cell_type": "code",
   "execution_count": 1,
   "id": "943b58a9",
   "metadata": {},
   "outputs": [],
   "source": [
    "import pandas as pd\n",
    "import numpy as np\n",
    "import scipy\n",
    "import os\n",
    "import matplotlib.pyplot as plt\n",
    "from sklearn.feature_selection import VarianceThreshold\n",
    "from sklearn.feature_selection import SelectKBest\n",
    "from sklearn.feature_selection import chi2\n",
    "pd.set_option('display.float_format', lambda x: '%.f' % x)"
   ]
  },
  {
   "cell_type": "code",
   "execution_count": 2,
   "id": "058eb051",
   "metadata": {},
   "outputs": [],
   "source": [
    "## Read in Data ##\n",
    "df = pd.read_csv('./datasources/raw/diabetic_data.csv')\n",
    "mapping = pd.read_csv('./datasources/raw/IDs_mapping.csv')"
   ]
  },
  {
   "cell_type": "code",
   "execution_count": 3,
   "id": "e85b2bfa",
   "metadata": {},
   "outputs": [],
   "source": [
    "## Filter out instances where patient was deceased at discharge ##\n",
    "df = df[~df.discharge_disposition_id.isin([11,13,14,19,20,21])]"
   ]
  },
  {
   "cell_type": "code",
   "execution_count": 4,
   "id": "04ba3a0a",
   "metadata": {},
   "outputs": [
    {
     "data": {
      "text/plain": [
       "1.4193884840691526"
      ]
     },
     "execution_count": 4,
     "metadata": {},
     "output_type": "execute_result"
    }
   ],
   "source": [
    "## View encounter per member ##\n",
    "df.encounter_id.nunique() / df.patient_nbr.nunique()"
   ]
  },
  {
   "cell_type": "code",
   "execution_count": 5,
   "id": "0773d502",
   "metadata": {},
   "outputs": [],
   "source": [
    "## Convert target variable (reamitted) to binary 1/0 for any reasmission type ##\n",
    "df.readmitted = df.readmitted.apply(lambda x: 0 if x=='NO' else 1)"
   ]
  },
  {
   "cell_type": "code",
   "execution_count": 6,
   "id": "ac82d5d3",
   "metadata": {},
   "outputs": [],
   "source": [
    "## Create descriptive dataframe ##\n",
    "nulls = df.replace('?', np.nan).isnull().sum()\n",
    "describe_df = pd.DataFrame(nulls, columns = ['# nulls'])\n",
    "describe_df['# unique'] = [df[c].nunique() for c in nulls.index]\n",
    "describe_df['unique values'] = [df[c].unique() for c in nulls.index]\n",
    "describe_df['dtype'] = [df[c].dtypes for c in nulls.index]"
   ]
  },
  {
   "cell_type": "code",
   "execution_count": 7,
   "id": "7bc88596",
   "metadata": {},
   "outputs": [],
   "source": [
    "## Group fields by category ##\n",
    "fields = {}\n",
    "\n",
    "fields['ID'] = ['encounter_id', 'admission_type_id', 'discharge_disposition_id',\n",
    "                'admission_source_id', 'patient_nbr']\n",
    "\n",
    "fields['DEMO'] = ['race', 'gender', 'age', 'weight']\n",
    "\n",
    "fields['DIAG'] = ['diag_3', 'diag_2', 'diag_1']\n",
    "\n",
    "fields['INT'] = ['num_medications', 'time_in_hospital', 'num_lab_procedures', \n",
    "                 'num_procedures', 'number_outpatient', 'number_emergency',\n",
    "                 'number_inpatient', 'number_diagnoses']\n",
    "\n",
    "fields['LAB'] = ['A1Cresult', 'max_glu_serum']\n",
    "\n",
    "fields['MED'] = ['metformin', 'repaglinide', 'nateglinide', 'chlorpropamide',\n",
    "                 'glimepiride', 'acetohexamide', 'glipizide', 'glyburide',\n",
    "                 'tolbutamide', 'pioglitazone', 'rosiglitazone', 'acarbose',\n",
    "                 'miglitol', 'troglitazone', 'tolazamide', 'examide', 'citoglipton',\n",
    "                 'insulin', 'glyburide-metformin', 'glipizide-metformin', \n",
    "                 'glimepiride-pioglitazone', 'metformin-rosiglitazone', \n",
    "                 'metformin-pioglitazone', 'change', 'diabetesMed']\n",
    "\n",
    "fields['TARGET'] = ['readmitted']\n",
    "\n",
    "fields['OTHER'] = ['payer_code', 'medical_specialty']"
   ]
  },
  {
   "cell_type": "code",
   "execution_count": 78,
   "id": "77e4f5bc",
   "metadata": {},
   "outputs": [
    {
     "data": {
      "text/html": [
       "<div>\n",
       "<style scoped>\n",
       "    .dataframe tbody tr th:only-of-type {\n",
       "        vertical-align: middle;\n",
       "    }\n",
       "\n",
       "    .dataframe tbody tr th {\n",
       "        vertical-align: top;\n",
       "    }\n",
       "\n",
       "    .dataframe thead th {\n",
       "        text-align: right;\n",
       "    }\n",
       "</style>\n",
       "<table border=\"1\" class=\"dataframe\">\n",
       "  <thead>\n",
       "    <tr style=\"text-align: right;\">\n",
       "      <th></th>\n",
       "      <th># nulls</th>\n",
       "      <th># unique</th>\n",
       "      <th>unique values</th>\n",
       "      <th>dtype</th>\n",
       "    </tr>\n",
       "  </thead>\n",
       "  <tbody>\n",
       "    <tr>\n",
       "      <th>race</th>\n",
       "      <td>2234</td>\n",
       "      <td>6</td>\n",
       "      <td>[Caucasian, AfricanAmerican, ?, Other, Asian, ...</td>\n",
       "      <td>object</td>\n",
       "    </tr>\n",
       "    <tr>\n",
       "      <th>gender</th>\n",
       "      <td>0</td>\n",
       "      <td>3</td>\n",
       "      <td>[Female, Male, Unknown/Invalid]</td>\n",
       "      <td>object</td>\n",
       "    </tr>\n",
       "    <tr>\n",
       "      <th>age</th>\n",
       "      <td>0</td>\n",
       "      <td>10</td>\n",
       "      <td>[[0-10), [10-20), [20-30), [30-40), [40-50), [...</td>\n",
       "      <td>object</td>\n",
       "    </tr>\n",
       "    <tr>\n",
       "      <th>weight</th>\n",
       "      <td>96218</td>\n",
       "      <td>10</td>\n",
       "      <td>[?, [75-100), [50-75), [0-25), [100-125), [25-...</td>\n",
       "      <td>object</td>\n",
       "    </tr>\n",
       "  </tbody>\n",
       "</table>\n",
       "</div>"
      ],
      "text/plain": [
       "        # nulls  # unique                                      unique values  \\\n",
       "race       2234         6  [Caucasian, AfricanAmerican, ?, Other, Asian, ...   \n",
       "gender        0         3                    [Female, Male, Unknown/Invalid]   \n",
       "age           0        10  [[0-10), [10-20), [20-30), [30-40), [40-50), [...   \n",
       "weight    96218        10  [?, [75-100), [50-75), [0-25), [100-125), [25-...   \n",
       "\n",
       "         dtype  \n",
       "race    object  \n",
       "gender  object  \n",
       "age     object  \n",
       "weight  object  "
      ]
     },
     "execution_count": 78,
     "metadata": {},
     "output_type": "execute_result"
    }
   ],
   "source": [
    "describe_df.loc[fields['DEMO'], :]"
   ]
  },
  {
   "cell_type": "code",
   "execution_count": 79,
   "id": "e9ad1d21",
   "metadata": {},
   "outputs": [
    {
     "data": {
      "text/html": [
       "<div>\n",
       "<style scoped>\n",
       "    .dataframe tbody tr th:only-of-type {\n",
       "        vertical-align: middle;\n",
       "    }\n",
       "\n",
       "    .dataframe tbody tr th {\n",
       "        vertical-align: top;\n",
       "    }\n",
       "\n",
       "    .dataframe thead th {\n",
       "        text-align: right;\n",
       "    }\n",
       "</style>\n",
       "<table border=\"1\" class=\"dataframe\">\n",
       "  <thead>\n",
       "    <tr style=\"text-align: right;\">\n",
       "      <th></th>\n",
       "      <th># nulls</th>\n",
       "      <th># unique</th>\n",
       "      <th>unique values</th>\n",
       "      <th>dtype</th>\n",
       "    </tr>\n",
       "  </thead>\n",
       "  <tbody>\n",
       "    <tr>\n",
       "      <th>diag_3</th>\n",
       "      <td>1419</td>\n",
       "      <td>787</td>\n",
       "      <td>[?, 255, V27, 403, 250, V45, 38, 486, 996, 197...</td>\n",
       "      <td>object</td>\n",
       "    </tr>\n",
       "    <tr>\n",
       "      <th>diag_2</th>\n",
       "      <td>356</td>\n",
       "      <td>748</td>\n",
       "      <td>[?, 250.01, 250, 250.43, 157, 411, 492, 427, 1...</td>\n",
       "      <td>object</td>\n",
       "    </tr>\n",
       "    <tr>\n",
       "      <th>diag_1</th>\n",
       "      <td>20</td>\n",
       "      <td>716</td>\n",
       "      <td>[250.83, 276, 648, 8, 197, 414, 428, 398, 434,...</td>\n",
       "      <td>object</td>\n",
       "    </tr>\n",
       "  </tbody>\n",
       "</table>\n",
       "</div>"
      ],
      "text/plain": [
       "        # nulls  # unique                                      unique values  \\\n",
       "diag_3     1419       787  [?, 255, V27, 403, 250, V45, 38, 486, 996, 197...   \n",
       "diag_2      356       748  [?, 250.01, 250, 250.43, 157, 411, 492, 427, 1...   \n",
       "diag_1       20       716  [250.83, 276, 648, 8, 197, 414, 428, 398, 434,...   \n",
       "\n",
       "         dtype  \n",
       "diag_3  object  \n",
       "diag_2  object  \n",
       "diag_1  object  "
      ]
     },
     "execution_count": 79,
     "metadata": {},
     "output_type": "execute_result"
    }
   ],
   "source": [
    "describe_df.loc[fields['DIAG'], :]"
   ]
  },
  {
   "cell_type": "code",
   "execution_count": 80,
   "id": "3c92d426",
   "metadata": {},
   "outputs": [
    {
     "data": {
      "text/html": [
       "<div>\n",
       "<style scoped>\n",
       "    .dataframe tbody tr th:only-of-type {\n",
       "        vertical-align: middle;\n",
       "    }\n",
       "\n",
       "    .dataframe tbody tr th {\n",
       "        vertical-align: top;\n",
       "    }\n",
       "\n",
       "    .dataframe thead th {\n",
       "        text-align: right;\n",
       "    }\n",
       "</style>\n",
       "<table border=\"1\" class=\"dataframe\">\n",
       "  <thead>\n",
       "    <tr style=\"text-align: right;\">\n",
       "      <th></th>\n",
       "      <th># nulls</th>\n",
       "      <th># unique</th>\n",
       "      <th>unique values</th>\n",
       "      <th>dtype</th>\n",
       "    </tr>\n",
       "  </thead>\n",
       "  <tbody>\n",
       "    <tr>\n",
       "      <th>num_medications</th>\n",
       "      <td>0</td>\n",
       "      <td>75</td>\n",
       "      <td>[1, 18, 13, 16, 8, 21, 12, 28, 17, 11, 15, 31,...</td>\n",
       "      <td>int64</td>\n",
       "    </tr>\n",
       "    <tr>\n",
       "      <th>time_in_hospital</th>\n",
       "      <td>0</td>\n",
       "      <td>14</td>\n",
       "      <td>[1, 3, 2, 4, 5, 13, 12, 9, 7, 10, 6, 11, 8, 14]</td>\n",
       "      <td>int64</td>\n",
       "    </tr>\n",
       "    <tr>\n",
       "      <th>num_lab_procedures</th>\n",
       "      <td>0</td>\n",
       "      <td>118</td>\n",
       "      <td>[41, 59, 11, 44, 51, 31, 70, 73, 68, 33, 47, 6...</td>\n",
       "      <td>int64</td>\n",
       "    </tr>\n",
       "    <tr>\n",
       "      <th>num_procedures</th>\n",
       "      <td>0</td>\n",
       "      <td>7</td>\n",
       "      <td>[0, 5, 1, 6, 2, 3, 4]</td>\n",
       "      <td>int64</td>\n",
       "    </tr>\n",
       "    <tr>\n",
       "      <th>number_outpatient</th>\n",
       "      <td>0</td>\n",
       "      <td>39</td>\n",
       "      <td>[0, 2, 1, 5, 7, 9, 3, 8, 4, 12, 11, 6, 20, 15,...</td>\n",
       "      <td>int64</td>\n",
       "    </tr>\n",
       "    <tr>\n",
       "      <th>number_emergency</th>\n",
       "      <td>0</td>\n",
       "      <td>33</td>\n",
       "      <td>[0, 1, 2, 4, 3, 9, 5, 7, 6, 8, 22, 25, 10, 13,...</td>\n",
       "      <td>int64</td>\n",
       "    </tr>\n",
       "    <tr>\n",
       "      <th>number_inpatient</th>\n",
       "      <td>0</td>\n",
       "      <td>21</td>\n",
       "      <td>[0, 1, 2, 3, 6, 5, 4, 7, 9, 8, 15, 10, 11, 14,...</td>\n",
       "      <td>int64</td>\n",
       "    </tr>\n",
       "    <tr>\n",
       "      <th>number_diagnoses</th>\n",
       "      <td>0</td>\n",
       "      <td>16</td>\n",
       "      <td>[1, 9, 6, 7, 5, 8, 3, 4, 2, 16, 12, 13, 15, 10...</td>\n",
       "      <td>int64</td>\n",
       "    </tr>\n",
       "  </tbody>\n",
       "</table>\n",
       "</div>"
      ],
      "text/plain": [
       "                    # nulls  # unique  \\\n",
       "num_medications           0        75   \n",
       "time_in_hospital          0        14   \n",
       "num_lab_procedures        0       118   \n",
       "num_procedures            0         7   \n",
       "number_outpatient         0        39   \n",
       "number_emergency          0        33   \n",
       "number_inpatient          0        21   \n",
       "number_diagnoses          0        16   \n",
       "\n",
       "                                                        unique values  dtype  \n",
       "num_medications     [1, 18, 13, 16, 8, 21, 12, 28, 17, 11, 15, 31,...  int64  \n",
       "time_in_hospital      [1, 3, 2, 4, 5, 13, 12, 9, 7, 10, 6, 11, 8, 14]  int64  \n",
       "num_lab_procedures  [41, 59, 11, 44, 51, 31, 70, 73, 68, 33, 47, 6...  int64  \n",
       "num_procedures                                  [0, 5, 1, 6, 2, 3, 4]  int64  \n",
       "number_outpatient   [0, 2, 1, 5, 7, 9, 3, 8, 4, 12, 11, 6, 20, 15,...  int64  \n",
       "number_emergency    [0, 1, 2, 4, 3, 9, 5, 7, 6, 8, 22, 25, 10, 13,...  int64  \n",
       "number_inpatient    [0, 1, 2, 3, 6, 5, 4, 7, 9, 8, 15, 10, 11, 14,...  int64  \n",
       "number_diagnoses    [1, 9, 6, 7, 5, 8, 3, 4, 2, 16, 12, 13, 15, 10...  int64  "
      ]
     },
     "execution_count": 80,
     "metadata": {},
     "output_type": "execute_result"
    }
   ],
   "source": [
    "describe_df.loc[fields['INT'], :]"
   ]
  },
  {
   "cell_type": "code",
   "execution_count": 81,
   "id": "d9785bb5",
   "metadata": {},
   "outputs": [
    {
     "data": {
      "text/html": [
       "<div>\n",
       "<style scoped>\n",
       "    .dataframe tbody tr th:only-of-type {\n",
       "        vertical-align: middle;\n",
       "    }\n",
       "\n",
       "    .dataframe tbody tr th {\n",
       "        vertical-align: top;\n",
       "    }\n",
       "\n",
       "    .dataframe thead th {\n",
       "        text-align: right;\n",
       "    }\n",
       "</style>\n",
       "<table border=\"1\" class=\"dataframe\">\n",
       "  <thead>\n",
       "    <tr style=\"text-align: right;\">\n",
       "      <th></th>\n",
       "      <th># nulls</th>\n",
       "      <th># unique</th>\n",
       "      <th>unique values</th>\n",
       "      <th>dtype</th>\n",
       "    </tr>\n",
       "  </thead>\n",
       "  <tbody>\n",
       "    <tr>\n",
       "      <th>A1Cresult</th>\n",
       "      <td>0</td>\n",
       "      <td>4</td>\n",
       "      <td>[None, &gt;7, &gt;8, Norm]</td>\n",
       "      <td>object</td>\n",
       "    </tr>\n",
       "    <tr>\n",
       "      <th>max_glu_serum</th>\n",
       "      <td>0</td>\n",
       "      <td>4</td>\n",
       "      <td>[None, &gt;300, Norm, &gt;200]</td>\n",
       "      <td>object</td>\n",
       "    </tr>\n",
       "  </tbody>\n",
       "</table>\n",
       "</div>"
      ],
      "text/plain": [
       "               # nulls  # unique             unique values   dtype\n",
       "A1Cresult            0         4      [None, >7, >8, Norm]  object\n",
       "max_glu_serum        0         4  [None, >300, Norm, >200]  object"
      ]
     },
     "execution_count": 81,
     "metadata": {},
     "output_type": "execute_result"
    }
   ],
   "source": [
    "describe_df.loc[fields['LAB'], :]"
   ]
  },
  {
   "cell_type": "code",
   "execution_count": 82,
   "id": "a9187891",
   "metadata": {},
   "outputs": [
    {
     "data": {
      "text/html": [
       "<div>\n",
       "<style scoped>\n",
       "    .dataframe tbody tr th:only-of-type {\n",
       "        vertical-align: middle;\n",
       "    }\n",
       "\n",
       "    .dataframe tbody tr th {\n",
       "        vertical-align: top;\n",
       "    }\n",
       "\n",
       "    .dataframe thead th {\n",
       "        text-align: right;\n",
       "    }\n",
       "</style>\n",
       "<table border=\"1\" class=\"dataframe\">\n",
       "  <thead>\n",
       "    <tr style=\"text-align: right;\">\n",
       "      <th></th>\n",
       "      <th># nulls</th>\n",
       "      <th># unique</th>\n",
       "      <th>unique values</th>\n",
       "      <th>dtype</th>\n",
       "    </tr>\n",
       "  </thead>\n",
       "  <tbody>\n",
       "    <tr>\n",
       "      <th>metformin</th>\n",
       "      <td>0</td>\n",
       "      <td>4</td>\n",
       "      <td>[No, Steady, Up, Down]</td>\n",
       "      <td>object</td>\n",
       "    </tr>\n",
       "    <tr>\n",
       "      <th>repaglinide</th>\n",
       "      <td>0</td>\n",
       "      <td>4</td>\n",
       "      <td>[No, Up, Steady, Down]</td>\n",
       "      <td>object</td>\n",
       "    </tr>\n",
       "    <tr>\n",
       "      <th>nateglinide</th>\n",
       "      <td>0</td>\n",
       "      <td>4</td>\n",
       "      <td>[No, Steady, Down, Up]</td>\n",
       "      <td>object</td>\n",
       "    </tr>\n",
       "    <tr>\n",
       "      <th>chlorpropamide</th>\n",
       "      <td>0</td>\n",
       "      <td>4</td>\n",
       "      <td>[No, Steady, Down, Up]</td>\n",
       "      <td>object</td>\n",
       "    </tr>\n",
       "    <tr>\n",
       "      <th>glimepiride</th>\n",
       "      <td>0</td>\n",
       "      <td>4</td>\n",
       "      <td>[No, Steady, Down, Up]</td>\n",
       "      <td>object</td>\n",
       "    </tr>\n",
       "  </tbody>\n",
       "</table>\n",
       "</div>"
      ],
      "text/plain": [
       "                # nulls  # unique           unique values   dtype\n",
       "metformin             0         4  [No, Steady, Up, Down]  object\n",
       "repaglinide           0         4  [No, Up, Steady, Down]  object\n",
       "nateglinide           0         4  [No, Steady, Down, Up]  object\n",
       "chlorpropamide        0         4  [No, Steady, Down, Up]  object\n",
       "glimepiride           0         4  [No, Steady, Down, Up]  object"
      ]
     },
     "execution_count": 82,
     "metadata": {},
     "output_type": "execute_result"
    }
   ],
   "source": [
    "describe_df.loc[fields['MED'], :].head()"
   ]
  },
  {
   "cell_type": "code",
   "execution_count": 83,
   "id": "20fc9f89",
   "metadata": {},
   "outputs": [
    {
     "data": {
      "text/html": [
       "<div>\n",
       "<style scoped>\n",
       "    .dataframe tbody tr th:only-of-type {\n",
       "        vertical-align: middle;\n",
       "    }\n",
       "\n",
       "    .dataframe tbody tr th {\n",
       "        vertical-align: top;\n",
       "    }\n",
       "\n",
       "    .dataframe thead th {\n",
       "        text-align: right;\n",
       "    }\n",
       "</style>\n",
       "<table border=\"1\" class=\"dataframe\">\n",
       "  <thead>\n",
       "    <tr style=\"text-align: right;\">\n",
       "      <th></th>\n",
       "      <th># nulls</th>\n",
       "      <th># unique</th>\n",
       "      <th>unique values</th>\n",
       "      <th>dtype</th>\n",
       "    </tr>\n",
       "  </thead>\n",
       "  <tbody>\n",
       "    <tr>\n",
       "      <th>payer_code</th>\n",
       "      <td>39398</td>\n",
       "      <td>18</td>\n",
       "      <td>[?, MC, MD, HM, UN, BC, SP, CP, SI, DM, CM, CH...</td>\n",
       "      <td>object</td>\n",
       "    </tr>\n",
       "    <tr>\n",
       "      <th>medical_specialty</th>\n",
       "      <td>48616</td>\n",
       "      <td>73</td>\n",
       "      <td>[Pediatrics-Endocrinology, ?, InternalMedicine...</td>\n",
       "      <td>object</td>\n",
       "    </tr>\n",
       "  </tbody>\n",
       "</table>\n",
       "</div>"
      ],
      "text/plain": [
       "                   # nulls  # unique  \\\n",
       "payer_code           39398        18   \n",
       "medical_specialty    48616        73   \n",
       "\n",
       "                                                       unique values   dtype  \n",
       "payer_code         [?, MC, MD, HM, UN, BC, SP, CP, SI, DM, CM, CH...  object  \n",
       "medical_specialty  [Pediatrics-Endocrinology, ?, InternalMedicine...  object  "
      ]
     },
     "execution_count": 83,
     "metadata": {},
     "output_type": "execute_result"
    }
   ],
   "source": [
    "describe_df.loc[fields['OTHER'], :]"
   ]
  },
  {
   "cell_type": "code",
   "execution_count": 8,
   "id": "fd6c9e49",
   "metadata": {},
   "outputs": [
    {
     "data": {
      "text/plain": [
       "0    52527\n",
       "1    46816\n",
       "Name: readmitted, dtype: int64"
      ]
     },
     "execution_count": 8,
     "metadata": {},
     "output_type": "execute_result"
    }
   ],
   "source": [
    "## View distribution of target variable (readmitted)\n",
    "df.readmitted.value_counts()"
   ]
  },
  {
   "cell_type": "code",
   "execution_count": 19,
   "id": "b1ddfebb",
   "metadata": {},
   "outputs": [],
   "source": [
    "## Define plot function ##\n",
    "def custom_plot(cols, fontsize=8, field_sort=False):\n",
    "\n",
    "    fig = plt.figure(figsize=(16,4))\n",
    "    for i, c in enumerate(cols[:4]):\n",
    "        if field_sort:\n",
    "            sort = c\n",
    "        else:\n",
    "            sort = 'encounter_id'\n",
    "        cx0 = fig.add_subplot(140 + i+1)\n",
    "        cx1 = cx0.twinx()\n",
    "\n",
    "        grouped_df = df.replace(np.nan, 'null').groupby(c)\\\n",
    "                    .agg({'readmitted':'mean', 'encounter_id':'count'})\\\n",
    "                    .sort_values(sort)\\\n",
    "                    .reset_index()\n",
    "\n",
    "        grouped_df['encounter_id'].plot(kind='bar', ax=cx0, fontsize=fontsize, title=c)\n",
    "        grouped_df['readmitted'].plot(ax=cx1, color='orange',secondary_y=True, fontsize=fontsize)\n",
    "        cx0.set_xticklabels(grouped_df[c], fontsize=12)\n",
    "        plt.ylim(0,1)\n",
    "\n",
    "    fig = plt.figure(figsize=(16,4))\n",
    "    for i, c in enumerate(cols[4:8]):\n",
    "        if field_sort:\n",
    "            sort = c\n",
    "        else:\n",
    "            sort = 'encounter_id'\n",
    "        cx0 = fig.add_subplot(140 + i+1)\n",
    "        cx1 = cx0.twinx()\n",
    "\n",
    "        grouped_df = df.replace(np.nan, 'null').groupby(c)\\\n",
    "                    .agg({'readmitted':'mean', 'encounter_id':'count'})\\\n",
    "                    .sort_values(sort)\\\n",
    "                    .reset_index()\n",
    "\n",
    "        grouped_df['encounter_id'].plot(kind='bar', ax=cx0, fontsize=fontsize, title=c)\n",
    "        grouped_df['readmitted'].plot(ax=cx1, color='orange',secondary_y=True, fontsize=fontsize)\n",
    "        cx0.set_xticklabels(grouped_df[c], fontsize=fontsize)\n",
    "        plt.ylim(0,1)"
   ]
  },
  {
   "cell_type": "code",
   "execution_count": 20,
   "id": "db181edb",
   "metadata": {},
   "outputs": [],
   "source": [
    "## Clean integer category fields for visualization ##\n",
    "df = df.replace('?', np.nan)\n",
    "weight_mapping = {'null':-1,\n",
    "                    '[75-100)':75,   \n",
    "                    '[50-75)':50,\n",
    "                    '[100-125)':100,    \n",
    "                    '[125-150)': 125, \n",
    "                    '[25-50)':25,         \n",
    "                    '[0-25)':0,        \n",
    "                    '[150-175)':150,       \n",
    "                    '[175-200)':175,    \n",
    "                    '>200':200}             \n",
    "df = df.fillna('null')\n",
    "df['weight_mod'] = df['weight'].apply(lambda x: weight_mapping[x])\n",
    "\n",
    "age_mapping = {'[70-80)':70,\n",
    "                '[60-70)': 60,\n",
    "                '[50-60)': 50,\n",
    "                '[80-90)': 80,\n",
    "                '[40-50)': 40,\n",
    "                '[30-40)':30,\n",
    "                '[90-100)':90,\n",
    "                '[20-30)':20,\n",
    "                '[10-20)':10,\n",
    "                '[0-10)':0}\n",
    "\n",
    "df['age_mod'] = df['age'].apply(lambda x: age_mapping[x])"
   ]
  },
  {
   "cell_type": "code",
   "execution_count": 21,
   "id": "8507a0ac",
   "metadata": {},
   "outputs": [
    {
     "data": {
      "image/png": "[encoded data removed]",
      "text/plain": [
       "<Figure size 1152x288 with 12 Axes>"
      ]
     },
     "metadata": {
      "needs_background": "light"
     },
     "output_type": "display_data"
    },
    {
     "data": {
      "text/plain": [
       "<Figure size 1152x288 with 0 Axes>"
      ]
     },
     "metadata": {},
     "output_type": "display_data"
    }
   ],
   "source": [
    "custom_plot(['race', 'gender', 'age_mod', 'weight_mod'], fontsize=8, field_sort=True)"
   ]
  },
  {
   "cell_type": "code",
   "execution_count": 22,
   "id": "02c72537",
   "metadata": {},
   "outputs": [
    {
     "data": {
      "image/png": "[encoded data removed]",
      "text/plain": [
       "<Figure size 1152x288 with 12 Axes>"
      ]
     },
     "metadata": {
      "needs_background": "light"
     },
     "output_type": "display_data"
    },
    {
     "data": {
      "image/png": "[encoded data removed]",
      "text/plain": [
       "<Figure size 1152x288 with 12 Axes>"
      ]
     },
     "metadata": {
      "needs_background": "light"
     },
     "output_type": "display_data"
    }
   ],
   "source": [
    "custom_plot(fields['INT'], fontsize=8, field_sort=True)"
   ]
  },
  {
   "cell_type": "code",
   "execution_count": 9,
   "id": "34089133",
   "metadata": {},
   "outputs": [],
   "source": [
    "## Create dummy fields for all categorical variables ##\n",
    "dummy_fields = fields['DEMO']+fields['DIAG']+fields['OTHER']+fields['LAB']+fields['MED']\n",
    "dummies = pd.get_dummies(df[dummy_fields])\n",
    "## Segment numeric fields ##\n",
    "numeric_fields = fields['INT']\n",
    "\n",
    "## Define feature array and target variable ##\n",
    "X = pd.concat([df[numeric_fields] , dummies], axis=1)\n",
    "y = df[fields['TARGET']]"
   ]
  },
  {
   "cell_type": "code",
   "execution_count": 10,
   "id": "9fbf4317",
   "metadata": {},
   "outputs": [
    {
     "name": "stdout",
     "output_type": "stream",
     "text": [
      "Feature Selection - Variance Threshold\n",
      "Input dimensions: (99343, 2462)\n",
      "Output dimensions: (99343, 143)\n"
     ]
    }
   ],
   "source": [
    "def filter_on_variance(X, threshold = 0.01):\n",
    "    \n",
    "    X_sparse = scipy.sparse.csc_matrix(X.values)\n",
    "    var_filter = VarianceThreshold(threshold=threshold)\n",
    "    X_filtered = var_filter.fit_transform(X_sparse)\n",
    "    filtered_cols = [i for i in X.columns[var_filter.get_support()]]\n",
    "    X_filtered = pd.DataFrame(X_filtered.todense(), columns = filtered_cols)\n",
    "    \n",
    "    return X_filtered\n",
    "\n",
    "print ('Feature Selection - Variance Threshold')\n",
    "print ('Input dimensions: {}'.format(X.shape))\n",
    "X = filter_on_variance(X, threshold = 0.01)\n",
    "print ('Output dimensions: {}'.format(X.shape))"
   ]
  },
  {
   "cell_type": "code",
   "execution_count": 11,
   "id": "268b977c",
   "metadata": {},
   "outputs": [
    {
     "name": "stdout",
     "output_type": "stream",
     "text": [
      "Feature Selection - Chi Square\n",
      "Input dimensions: (99343, 143)\n",
      "Output dimensions: (99343, 105)\n"
     ]
    }
   ],
   "source": [
    "def chi_filter(X, p_thres = 0.0, chi_thres = 0):\n",
    "    chi_vals, p_vals = chi2(X, y)\n",
    "    chi_filter = [True if c>=chi_thres else False for c in chi_vals]\n",
    "    p_filter = [True if p<=p_thres else False for p in p_vals]\n",
    "    stat_filter = np.logical_and(chi_filter, p_filter)\n",
    "    X_filtered = X.loc[:,stat_filter]\n",
    "    return X_filtered\n",
    "\n",
    "print ('Feature Selection - Chi Square')\n",
    "print ('Input dimensions: {}'.format(X.shape))\n",
    "X = chi_filter(X, p_thres = 0.05, chi_thres = 0.0)\n",
    "print ('Output dimensions: {}'.format(X.shape))"
   ]
  },
  {
   "cell_type": "code",
   "execution_count": 13,
   "id": "f19c12eb",
   "metadata": {},
   "outputs": [
    {
     "data": {
      "text/plain": [
       "(99343, 106)"
      ]
     },
     "execution_count": 13,
     "metadata": {},
     "output_type": "execute_result"
    }
   ],
   "source": [
    "## Combine features and target back into single dataframe ##\n",
    "df = pd.concat([X.reset_index(drop=True), y.reset_index(drop=True)], axis=1)\n",
    "df.shape"
   ]
  },
  {
   "cell_type": "code",
   "execution_count": 14,
   "id": "36857845",
   "metadata": {},
   "outputs": [
    {
     "data": {
      "text/plain": [
       "1    46816\n",
       "0    46816\n",
       "Name: readmitted, dtype: int64"
      ]
     },
     "execution_count": 14,
     "metadata": {},
     "output_type": "execute_result"
    }
   ],
   "source": [
    "## Down sample majority class (not readmitted) to match the number of readmitted encounters ##\n",
    "def downsample(df):\n",
    "    df_maj = df[df['readmitted']==0]\n",
    "    df_min = df[df['readmitted']==1]\n",
    "\n",
    "    df_maj_ds = resample(df_maj, \n",
    "                         replace=True,     \n",
    "                         n_samples=len(df_min),\n",
    "                         random_state=42)\n",
    "\n",
    "    df_ds = pd.concat([df_min, df_maj_ds])\n",
    "    return df_ds\n",
    "\n",
    "df = downsample(df)\n",
    "df.readmitted.value_counts()"
   ]
  },
  {
   "cell_type": "code",
   "execution_count": 16,
   "id": "a16f6cf6",
   "metadata": {},
   "outputs": [],
   "source": [
    "## Write out processed datasets in sparse format ##\n",
    "X = df.drop('readmitted', axis=1)\n",
    "y = df.readmitted\n",
    "\n",
    "X_sparse = scipy.sparse.csc_matrix(X.values)\n",
    "y_sparse = scipy.sparse.csc_matrix(y.values)\n",
    "\n",
    "scipy.sparse.save_npz('./readmissions_X.npz', X_sparse)\n",
    "scipy.sparse.save_npz('./readmissions_y.npz', y_sparse)"
   ]
  }
 ],
 "metadata": {
  "kernelspec": {
   "display_name": "conda_amazonei_mxnet_p36",
   "language": "python",
   "name": "conda_amazonei_mxnet_p36"
  },
  "language_info": {
   "codemirror_mode": {
    "name": "ipython",
    "version": 3
   },
   "file_extension": ".py",
   "mimetype": "text/x-python",
   "name": "python",
   "nbconvert_exporter": "python",
   "pygments_lexer": "ipython3",
   "version": "3.6.13"
  }
 },
 "nbformat": 4,
 "nbformat_minor": 5
}
