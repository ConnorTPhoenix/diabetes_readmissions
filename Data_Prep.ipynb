{
 "cells": [
  {
   "cell_type": "code",
   "execution_count": 1,
   "id": "bbf5e48c",
   "metadata": {},
   "outputs": [],
   "source": [
    "import pandas as pd\n",
    "import numpy as np\n",
    "import os\n",
    "import matplotlib.pyplot as plt\n",
    "pd.set_option('display.float_format', lambda x: '%.f' % x)"
   ]
  },
  {
   "cell_type": "code",
   "execution_count": 2,
   "id": "347df1ab",
   "metadata": {},
   "outputs": [],
   "source": [
    "import pandas as pd\n",
    "import numpy as np\n",
    "import os\n",
    "import matplotlib.pyplot as plt\n",
    "pd.set_option('display.float_format', lambda x: '%.f' % x)\n",
    "\n",
    "## Read in Data ##\n",
    "df = pd.read_csv('./datasources/raw/diabetic_data.csv')\n",
    "mapping = pd.read_csv('./datasources/raw/IDs_mapping.csv')\n",
    "\n",
    "fields = {}\n",
    "\n",
    "fields['ID'] = ['encounter_id', 'admission_type_id', 'discharge_disposition_id',\n",
    "                'admission_source_id', 'patient_nbr']\n",
    "\n",
    "fields['DEMO'] = ['race', 'gender', 'age', 'weight']\n",
    "\n",
    "fields['DIAG'] = ['diag_3', 'diag_2', 'diag_1']\n",
    "\n",
    "fields['INT'] = ['num_medications', 'time_in_hospital', 'num_lab_procedures', \n",
    "                 'num_procedures', 'number_outpatient', 'number_emergency',\n",
    "                 'number_inpatient', 'number_diagnoses']\n",
    "\n",
    "fields['LAB'] = ['A1Cresult', 'max_glu_serum']\n",
    "\n",
    "fields['MED'] = ['metformin', 'repaglinide', 'nateglinide', 'chlorpropamide',\n",
    "                 'glimepiride', 'acetohexamide', 'glipizide', 'glyburide',\n",
    "                 'tolbutamide', 'pioglitazone', 'rosiglitazone', 'acarbose',\n",
    "                 'miglitol', 'troglitazone', 'tolazamide', 'examide', 'citoglipton',\n",
    "                 'insulin', 'glyburide-metformin', 'glipizide-metformin', \n",
    "                 'glimepiride-pioglitazone', 'metformin-rosiglitazone', \n",
    "                 'metformin-pioglitazone', 'change', 'diabetesMed']\n",
    "\n",
    "fields['TARGET'] = ['readmitted']\n",
    "\n",
    "fields['OTHER'] = ['payer_code', 'medical_specialty']"
   ]
  },
  {
   "cell_type": "code",
   "execution_count": 3,
   "id": "ee8d4466",
   "metadata": {},
   "outputs": [],
   "source": [
    "## Filter out instances where patient was deceased at discharge ##\n",
    "df = df[~df.discharge_disposition_id.isin([11,13,14,19,20,21])]"
   ]
  },
  {
   "cell_type": "code",
   "execution_count": 4,
   "id": "b0754845",
   "metadata": {},
   "outputs": [
    {
     "data": {
      "text/plain": [
       "1.4193884840691526"
      ]
     },
     "execution_count": 4,
     "metadata": {},
     "output_type": "execute_result"
    }
   ],
   "source": [
    "df.encounter_id.nunique() / df.patient_nbr.nunique()"
   ]
  },
  {
   "cell_type": "code",
   "execution_count": 5,
   "id": "bc2c1ed7",
   "metadata": {},
   "outputs": [],
   "source": [
    "## Convert target variable (reamitted) to binary 1/0 for any reasmission type ##\n",
    "df.readmitted = df.readmitted.apply(lambda x: 0 if x=='NO' else 1)"
   ]
  },
  {
   "cell_type": "code",
   "execution_count": 6,
   "id": "ae4585e6",
   "metadata": {},
   "outputs": [],
   "source": [
    "nulls = df.replace('?', np.nan).isnull().sum()\n",
    "describe_df = pd.DataFrame(nulls, columns = ['# nulls'])\n",
    "describe_df['# unique'] = [df[c].nunique() for c in nulls.index]\n",
    "describe_df['unique values'] = [df[c].unique() for c in nulls.index]\n",
    "describe_df['dtype'] = [df[c].dtypes for c in nulls.index]"
   ]
  },
  {
   "cell_type": "code",
   "execution_count": 7,
   "id": "b5b4b5df",
   "metadata": {},
   "outputs": [
    {
     "data": {
      "text/html": [
       "<div>\n",
       "<style scoped>\n",
       "    .dataframe tbody tr th:only-of-type {\n",
       "        vertical-align: middle;\n",
       "    }\n",
       "\n",
       "    .dataframe tbody tr th {\n",
       "        vertical-align: top;\n",
       "    }\n",
       "\n",
       "    .dataframe thead th {\n",
       "        text-align: right;\n",
       "    }\n",
       "</style>\n",
       "<table border=\"1\" class=\"dataframe\">\n",
       "  <thead>\n",
       "    <tr style=\"text-align: right;\">\n",
       "      <th></th>\n",
       "      <th># nulls</th>\n",
       "      <th># unique</th>\n",
       "      <th>unique values</th>\n",
       "      <th>dtype</th>\n",
       "    </tr>\n",
       "  </thead>\n",
       "  <tbody>\n",
       "    <tr>\n",
       "      <th>race</th>\n",
       "      <td>2234</td>\n",
       "      <td>6</td>\n",
       "      <td>[Caucasian, AfricanAmerican, ?, Other, Asian, ...</td>\n",
       "      <td>object</td>\n",
       "    </tr>\n",
       "    <tr>\n",
       "      <th>gender</th>\n",
       "      <td>0</td>\n",
       "      <td>3</td>\n",
       "      <td>[Female, Male, Unknown/Invalid]</td>\n",
       "      <td>object</td>\n",
       "    </tr>\n",
       "    <tr>\n",
       "      <th>age</th>\n",
       "      <td>0</td>\n",
       "      <td>10</td>\n",
       "      <td>[[0-10), [10-20), [20-30), [30-40), [40-50), [...</td>\n",
       "      <td>object</td>\n",
       "    </tr>\n",
       "    <tr>\n",
       "      <th>weight</th>\n",
       "      <td>96218</td>\n",
       "      <td>10</td>\n",
       "      <td>[?, [75-100), [50-75), [0-25), [100-125), [25-...</td>\n",
       "      <td>object</td>\n",
       "    </tr>\n",
       "  </tbody>\n",
       "</table>\n",
       "</div>"
      ],
      "text/plain": [
       "        # nulls  # unique                                      unique values  \\\n",
       "race       2234         6  [Caucasian, AfricanAmerican, ?, Other, Asian, ...   \n",
       "gender        0         3                    [Female, Male, Unknown/Invalid]   \n",
       "age           0        10  [[0-10), [10-20), [20-30), [30-40), [40-50), [...   \n",
       "weight    96218        10  [?, [75-100), [50-75), [0-25), [100-125), [25-...   \n",
       "\n",
       "         dtype  \n",
       "race    object  \n",
       "gender  object  \n",
       "age     object  \n",
       "weight  object  "
      ]
     },
     "execution_count": 7,
     "metadata": {},
     "output_type": "execute_result"
    }
   ],
   "source": [
    "describe_df.loc[fields['DEMO'], :]"
   ]
  },
  {
   "cell_type": "code",
   "execution_count": 8,
   "id": "7cb4eecd",
   "metadata": {},
   "outputs": [
    {
     "data": {
      "text/html": [
       "<div>\n",
       "<style scoped>\n",
       "    .dataframe tbody tr th:only-of-type {\n",
       "        vertical-align: middle;\n",
       "    }\n",
       "\n",
       "    .dataframe tbody tr th {\n",
       "        vertical-align: top;\n",
       "    }\n",
       "\n",
       "    .dataframe thead th {\n",
       "        text-align: right;\n",
       "    }\n",
       "</style>\n",
       "<table border=\"1\" class=\"dataframe\">\n",
       "  <thead>\n",
       "    <tr style=\"text-align: right;\">\n",
       "      <th></th>\n",
       "      <th># nulls</th>\n",
       "      <th># unique</th>\n",
       "      <th>unique values</th>\n",
       "      <th>dtype</th>\n",
       "    </tr>\n",
       "  </thead>\n",
       "  <tbody>\n",
       "    <tr>\n",
       "      <th>diag_3</th>\n",
       "      <td>1419</td>\n",
       "      <td>787</td>\n",
       "      <td>[?, 255, V27, 403, 250, V45, 38, 486, 996, 197...</td>\n",
       "      <td>object</td>\n",
       "    </tr>\n",
       "    <tr>\n",
       "      <th>diag_2</th>\n",
       "      <td>356</td>\n",
       "      <td>748</td>\n",
       "      <td>[?, 250.01, 250, 250.43, 157, 411, 492, 427, 1...</td>\n",
       "      <td>object</td>\n",
       "    </tr>\n",
       "    <tr>\n",
       "      <th>diag_1</th>\n",
       "      <td>20</td>\n",
       "      <td>716</td>\n",
       "      <td>[250.83, 276, 648, 8, 197, 414, 428, 398, 434,...</td>\n",
       "      <td>object</td>\n",
       "    </tr>\n",
       "  </tbody>\n",
       "</table>\n",
       "</div>"
      ],
      "text/plain": [
       "        # nulls  # unique                                      unique values  \\\n",
       "diag_3     1419       787  [?, 255, V27, 403, 250, V45, 38, 486, 996, 197...   \n",
       "diag_2      356       748  [?, 250.01, 250, 250.43, 157, 411, 492, 427, 1...   \n",
       "diag_1       20       716  [250.83, 276, 648, 8, 197, 414, 428, 398, 434,...   \n",
       "\n",
       "         dtype  \n",
       "diag_3  object  \n",
       "diag_2  object  \n",
       "diag_1  object  "
      ]
     },
     "execution_count": 8,
     "metadata": {},
     "output_type": "execute_result"
    }
   ],
   "source": [
    "describe_df.loc[fields['DIAG'], :]"
   ]
  },
  {
   "cell_type": "code",
   "execution_count": 9,
   "id": "2119019e",
   "metadata": {},
   "outputs": [
    {
     "data": {
      "text/html": [
       "<div>\n",
       "<style scoped>\n",
       "    .dataframe tbody tr th:only-of-type {\n",
       "        vertical-align: middle;\n",
       "    }\n",
       "\n",
       "    .dataframe tbody tr th {\n",
       "        vertical-align: top;\n",
       "    }\n",
       "\n",
       "    .dataframe thead th {\n",
       "        text-align: right;\n",
       "    }\n",
       "</style>\n",
       "<table border=\"1\" class=\"dataframe\">\n",
       "  <thead>\n",
       "    <tr style=\"text-align: right;\">\n",
       "      <th></th>\n",
       "      <th># nulls</th>\n",
       "      <th># unique</th>\n",
       "      <th>unique values</th>\n",
       "      <th>dtype</th>\n",
       "    </tr>\n",
       "  </thead>\n",
       "  <tbody>\n",
       "    <tr>\n",
       "      <th>num_medications</th>\n",
       "      <td>0</td>\n",
       "      <td>75</td>\n",
       "      <td>[1, 18, 13, 16, 8, 21, 12, 28, 17, 11, 15, 31,...</td>\n",
       "      <td>int64</td>\n",
       "    </tr>\n",
       "    <tr>\n",
       "      <th>time_in_hospital</th>\n",
       "      <td>0</td>\n",
       "      <td>14</td>\n",
       "      <td>[1, 3, 2, 4, 5, 13, 12, 9, 7, 10, 6, 11, 8, 14]</td>\n",
       "      <td>int64</td>\n",
       "    </tr>\n",
       "    <tr>\n",
       "      <th>num_lab_procedures</th>\n",
       "      <td>0</td>\n",
       "      <td>118</td>\n",
       "      <td>[41, 59, 11, 44, 51, 31, 70, 73, 68, 33, 47, 6...</td>\n",
       "      <td>int64</td>\n",
       "    </tr>\n",
       "    <tr>\n",
       "      <th>num_procedures</th>\n",
       "      <td>0</td>\n",
       "      <td>7</td>\n",
       "      <td>[0, 5, 1, 6, 2, 3, 4]</td>\n",
       "      <td>int64</td>\n",
       "    </tr>\n",
       "    <tr>\n",
       "      <th>number_outpatient</th>\n",
       "      <td>0</td>\n",
       "      <td>39</td>\n",
       "      <td>[0, 2, 1, 5, 7, 9, 3, 8, 4, 12, 11, 6, 20, 15,...</td>\n",
       "      <td>int64</td>\n",
       "    </tr>\n",
       "    <tr>\n",
       "      <th>number_emergency</th>\n",
       "      <td>0</td>\n",
       "      <td>33</td>\n",
       "      <td>[0, 1, 2, 4, 3, 9, 5, 7, 6, 8, 22, 25, 10, 13,...</td>\n",
       "      <td>int64</td>\n",
       "    </tr>\n",
       "    <tr>\n",
       "      <th>number_inpatient</th>\n",
       "      <td>0</td>\n",
       "      <td>21</td>\n",
       "      <td>[0, 1, 2, 3, 6, 5, 4, 7, 9, 8, 15, 10, 11, 14,...</td>\n",
       "      <td>int64</td>\n",
       "    </tr>\n",
       "    <tr>\n",
       "      <th>number_diagnoses</th>\n",
       "      <td>0</td>\n",
       "      <td>16</td>\n",
       "      <td>[1, 9, 6, 7, 5, 8, 3, 4, 2, 16, 12, 13, 15, 10...</td>\n",
       "      <td>int64</td>\n",
       "    </tr>\n",
       "  </tbody>\n",
       "</table>\n",
       "</div>"
      ],
      "text/plain": [
       "                    # nulls  # unique  \\\n",
       "num_medications           0        75   \n",
       "time_in_hospital          0        14   \n",
       "num_lab_procedures        0       118   \n",
       "num_procedures            0         7   \n",
       "number_outpatient         0        39   \n",
       "number_emergency          0        33   \n",
       "number_inpatient          0        21   \n",
       "number_diagnoses          0        16   \n",
       "\n",
       "                                                        unique values  dtype  \n",
       "num_medications     [1, 18, 13, 16, 8, 21, 12, 28, 17, 11, 15, 31,...  int64  \n",
       "time_in_hospital      [1, 3, 2, 4, 5, 13, 12, 9, 7, 10, 6, 11, 8, 14]  int64  \n",
       "num_lab_procedures  [41, 59, 11, 44, 51, 31, 70, 73, 68, 33, 47, 6...  int64  \n",
       "num_procedures                                  [0, 5, 1, 6, 2, 3, 4]  int64  \n",
       "number_outpatient   [0, 2, 1, 5, 7, 9, 3, 8, 4, 12, 11, 6, 20, 15,...  int64  \n",
       "number_emergency    [0, 1, 2, 4, 3, 9, 5, 7, 6, 8, 22, 25, 10, 13,...  int64  \n",
       "number_inpatient    [0, 1, 2, 3, 6, 5, 4, 7, 9, 8, 15, 10, 11, 14,...  int64  \n",
       "number_diagnoses    [1, 9, 6, 7, 5, 8, 3, 4, 2, 16, 12, 13, 15, 10...  int64  "
      ]
     },
     "execution_count": 9,
     "metadata": {},
     "output_type": "execute_result"
    }
   ],
   "source": [
    "describe_df.loc[fields['INT'], :]"
   ]
  },
  {
   "cell_type": "code",
   "execution_count": 10,
   "id": "b6e4b8d3",
   "metadata": {},
   "outputs": [
    {
     "data": {
      "text/html": [
       "<div>\n",
       "<style scoped>\n",
       "    .dataframe tbody tr th:only-of-type {\n",
       "        vertical-align: middle;\n",
       "    }\n",
       "\n",
       "    .dataframe tbody tr th {\n",
       "        vertical-align: top;\n",
       "    }\n",
       "\n",
       "    .dataframe thead th {\n",
       "        text-align: right;\n",
       "    }\n",
       "</style>\n",
       "<table border=\"1\" class=\"dataframe\">\n",
       "  <thead>\n",
       "    <tr style=\"text-align: right;\">\n",
       "      <th></th>\n",
       "      <th># nulls</th>\n",
       "      <th># unique</th>\n",
       "      <th>unique values</th>\n",
       "      <th>dtype</th>\n",
       "    </tr>\n",
       "  </thead>\n",
       "  <tbody>\n",
       "    <tr>\n",
       "      <th>A1Cresult</th>\n",
       "      <td>0</td>\n",
       "      <td>4</td>\n",
       "      <td>[None, &gt;7, &gt;8, Norm]</td>\n",
       "      <td>object</td>\n",
       "    </tr>\n",
       "    <tr>\n",
       "      <th>max_glu_serum</th>\n",
       "      <td>0</td>\n",
       "      <td>4</td>\n",
       "      <td>[None, &gt;300, Norm, &gt;200]</td>\n",
       "      <td>object</td>\n",
       "    </tr>\n",
       "  </tbody>\n",
       "</table>\n",
       "</div>"
      ],
      "text/plain": [
       "               # nulls  # unique             unique values   dtype\n",
       "A1Cresult            0         4      [None, >7, >8, Norm]  object\n",
       "max_glu_serum        0         4  [None, >300, Norm, >200]  object"
      ]
     },
     "execution_count": 10,
     "metadata": {},
     "output_type": "execute_result"
    }
   ],
   "source": [
    "describe_df.loc[fields['LAB'], :]"
   ]
  },
  {
   "cell_type": "code",
   "execution_count": 11,
   "id": "d1194dfa",
   "metadata": {},
   "outputs": [
    {
     "data": {
      "text/html": [
       "<div>\n",
       "<style scoped>\n",
       "    .dataframe tbody tr th:only-of-type {\n",
       "        vertical-align: middle;\n",
       "    }\n",
       "\n",
       "    .dataframe tbody tr th {\n",
       "        vertical-align: top;\n",
       "    }\n",
       "\n",
       "    .dataframe thead th {\n",
       "        text-align: right;\n",
       "    }\n",
       "</style>\n",
       "<table border=\"1\" class=\"dataframe\">\n",
       "  <thead>\n",
       "    <tr style=\"text-align: right;\">\n",
       "      <th></th>\n",
       "      <th># nulls</th>\n",
       "      <th># unique</th>\n",
       "      <th>unique values</th>\n",
       "      <th>dtype</th>\n",
       "    </tr>\n",
       "  </thead>\n",
       "  <tbody>\n",
       "    <tr>\n",
       "      <th>metformin</th>\n",
       "      <td>0</td>\n",
       "      <td>4</td>\n",
       "      <td>[No, Steady, Up, Down]</td>\n",
       "      <td>object</td>\n",
       "    </tr>\n",
       "    <tr>\n",
       "      <th>repaglinide</th>\n",
       "      <td>0</td>\n",
       "      <td>4</td>\n",
       "      <td>[No, Up, Steady, Down]</td>\n",
       "      <td>object</td>\n",
       "    </tr>\n",
       "    <tr>\n",
       "      <th>nateglinide</th>\n",
       "      <td>0</td>\n",
       "      <td>4</td>\n",
       "      <td>[No, Steady, Down, Up]</td>\n",
       "      <td>object</td>\n",
       "    </tr>\n",
       "    <tr>\n",
       "      <th>chlorpropamide</th>\n",
       "      <td>0</td>\n",
       "      <td>4</td>\n",
       "      <td>[No, Steady, Down, Up]</td>\n",
       "      <td>object</td>\n",
       "    </tr>\n",
       "    <tr>\n",
       "      <th>glimepiride</th>\n",
       "      <td>0</td>\n",
       "      <td>4</td>\n",
       "      <td>[No, Steady, Down, Up]</td>\n",
       "      <td>object</td>\n",
       "    </tr>\n",
       "  </tbody>\n",
       "</table>\n",
       "</div>"
      ],
      "text/plain": [
       "                # nulls  # unique           unique values   dtype\n",
       "metformin             0         4  [No, Steady, Up, Down]  object\n",
       "repaglinide           0         4  [No, Up, Steady, Down]  object\n",
       "nateglinide           0         4  [No, Steady, Down, Up]  object\n",
       "chlorpropamide        0         4  [No, Steady, Down, Up]  object\n",
       "glimepiride           0         4  [No, Steady, Down, Up]  object"
      ]
     },
     "execution_count": 11,
     "metadata": {},
     "output_type": "execute_result"
    }
   ],
   "source": [
    "describe_df.loc[fields['MED'], :].head()"
   ]
  },
  {
   "cell_type": "code",
   "execution_count": 12,
   "id": "d86d144d",
   "metadata": {},
   "outputs": [
    {
     "data": {
      "text/html": [
       "<div>\n",
       "<style scoped>\n",
       "    .dataframe tbody tr th:only-of-type {\n",
       "        vertical-align: middle;\n",
       "    }\n",
       "\n",
       "    .dataframe tbody tr th {\n",
       "        vertical-align: top;\n",
       "    }\n",
       "\n",
       "    .dataframe thead th {\n",
       "        text-align: right;\n",
       "    }\n",
       "</style>\n",
       "<table border=\"1\" class=\"dataframe\">\n",
       "  <thead>\n",
       "    <tr style=\"text-align: right;\">\n",
       "      <th></th>\n",
       "      <th># nulls</th>\n",
       "      <th># unique</th>\n",
       "      <th>unique values</th>\n",
       "      <th>dtype</th>\n",
       "    </tr>\n",
       "  </thead>\n",
       "  <tbody>\n",
       "    <tr>\n",
       "      <th>payer_code</th>\n",
       "      <td>39398</td>\n",
       "      <td>18</td>\n",
       "      <td>[?, MC, MD, HM, UN, BC, SP, CP, SI, DM, CM, CH...</td>\n",
       "      <td>object</td>\n",
       "    </tr>\n",
       "    <tr>\n",
       "      <th>medical_specialty</th>\n",
       "      <td>48616</td>\n",
       "      <td>73</td>\n",
       "      <td>[Pediatrics-Endocrinology, ?, InternalMedicine...</td>\n",
       "      <td>object</td>\n",
       "    </tr>\n",
       "  </tbody>\n",
       "</table>\n",
       "</div>"
      ],
      "text/plain": [
       "                   # nulls  # unique  \\\n",
       "payer_code           39398        18   \n",
       "medical_specialty    48616        73   \n",
       "\n",
       "                                                       unique values   dtype  \n",
       "payer_code         [?, MC, MD, HM, UN, BC, SP, CP, SI, DM, CM, CH...  object  \n",
       "medical_specialty  [Pediatrics-Endocrinology, ?, InternalMedicine...  object  "
      ]
     },
     "execution_count": 12,
     "metadata": {},
     "output_type": "execute_result"
    }
   ],
   "source": [
    "describe_df.loc[fields['OTHER'], :]"
   ]
  },
  {
   "cell_type": "code",
   "execution_count": 13,
   "id": "f48a1eff",
   "metadata": {},
   "outputs": [
    {
     "data": {
      "text/plain": [
       "0    52527\n",
       "1    46816\n",
       "Name: readmitted, dtype: int64"
      ]
     },
     "execution_count": 13,
     "metadata": {},
     "output_type": "execute_result"
    }
   ],
   "source": [
    "df.readmitted.value_counts()"
   ]
  },
  {
   "cell_type": "code",
   "execution_count": null,
   "id": "13d55754",
   "metadata": {},
   "outputs": [],
   "source": [
    "def custom_plot(cols, fontsize=8, field_sort=False):\n",
    "\n",
    "    fig = plt.figure(figsize=(16,4))\n",
    "    for i, c in enumerate(cols[:4]):\n",
    "        if field_sort:\n",
    "            sort = c\n",
    "        else:\n",
    "            sort = 'encounter_id'\n",
    "        cx0 = fig.add_subplot(140 + i+1)\n",
    "        cx1 = cx0.twinx()\n",
    "\n",
    "        grouped_df = df.replace(np.nan, 'null').groupby(c)\\\n",
    "                    .agg({'readmitted':'mean', 'encounter_id':'count'})\\\n",
    "                    .sort_values(sort)\\\n",
    "                    .reset_index()\n",
    "\n",
    "        grouped_df['encounter_id'].plot(kind='bar', ax=cx0, fontsize=fontsize, title=c)\n",
    "        grouped_df['readmitted'].plot(ax=cx1, color='orange',secondary_y=True, fontsize=fontsize)\n",
    "        cx0.set_xticklabels(grouped_df[c], fontsize=12)\n",
    "        plt.ylim(0,1)\n",
    "\n",
    "    fig = plt.figure(figsize=(16,4))\n",
    "    for i, c in enumerate(cols[4:8]):\n",
    "        if field_sort:\n",
    "            sort = c\n",
    "        else:\n",
    "            sort = 'encounter_id'\n",
    "        cx0 = fig.add_subplot(140 + i+1)\n",
    "        cx1 = cx0.twinx()\n",
    "\n",
    "        grouped_df = df.replace(np.nan, 'null').groupby(c)\\\n",
    "                    .agg({'readmitted':'mean', 'encounter_id':'count'})\\\n",
    "                    .sort_values(sort)\\\n",
    "                    .reset_index()\n",
    "\n",
    "        grouped_df['encounter_id'].plot(kind='bar', ax=cx0, fontsize=fontsize, title=c)\n",
    "        grouped_df['readmitted'].plot(ax=cx1, color='orange',secondary_y=True, fontsize=fontsize)\n",
    "        cx0.set_xticklabels(grouped_df[c], fontsize=fontsize)\n",
    "        plt.ylim(0,1)"
   ]
  },
  {
   "cell_type": "code",
   "execution_count": 14,
   "id": "7495633b",
   "metadata": {},
   "outputs": [],
   "source": [
    "df = df.replace('?', np.nan)\n",
    "weight_mapping = {'null':-1,\n",
    "                    '[75-100)':75,   \n",
    "                    '[50-75)':50,\n",
    "                    '[100-125)':100,    \n",
    "                    '[125-150)': 125, \n",
    "                    '[25-50)':25,         \n",
    "                    '[0-25)':0,        \n",
    "                    '[150-175)':150,       \n",
    "                    '[175-200)':175,    \n",
    "                    '>200':200}             \n",
    "df = df.fillna('null')\n",
    "df['weight_mod'] = df['weight'].apply(lambda x: weight_mapping[x])\n",
    "\n",
    "age_mapping = {'[70-80)':70,\n",
    "                '[60-70)': 60,\n",
    "                '[50-60)': 50,\n",
    "                '[80-90)': 80,\n",
    "                '[40-50)': 40,\n",
    "                '[30-40)':30,\n",
    "                '[90-100)':90,\n",
    "                '[20-30)':20,\n",
    "                '[10-20)':10,\n",
    "                '[0-10)':0}\n",
    "\n",
    "df['age_mod'] = df['age'].apply(lambda x: age_mapping[x])"
   ]
  },
  {
   "cell_type": "code",
   "execution_count": null,
   "id": "59961185",
   "metadata": {},
   "outputs": [],
   "source": [
    "custom_plot(['race', 'gender', 'age_mod', 'weight_mod'], fontsize=8, field_sort=True)"
   ]
  },
  {
   "cell_type": "code",
   "execution_count": null,
   "id": "9f8c56af",
   "metadata": {},
   "outputs": [],
   "source": [
    "custom_plot(fields['INT'], fontsize=8, field_sort=True)"
   ]
  },
  {
   "cell_type": "code",
   "execution_count": 15,
   "id": "3ec19c01",
   "metadata": {},
   "outputs": [],
   "source": [
    "dummy_fields = fields['DEMO']+fields['DIAG']+fields['OTHER']+fields['LAB']+fields['MED']\n",
    "numeric_fields = fields['INT']\n",
    "\n",
    "dummies = pd.get_dummies(df[dummy_fields])\n",
    "X = pd.concat([df[numeric_fields] , dummies], axis=1)\n",
    "\n",
    "y = df[fields['TARGET']]"
   ]
  },
  {
   "cell_type": "code",
   "execution_count": null,
   "id": "233af93f",
   "metadata": {},
   "outputs": [],
   "source": [
    ".shape"
   ]
  },
  {
   "cell_type": "code",
   "execution_count": 16,
   "id": "4420d161",
   "metadata": {},
   "outputs": [],
   "source": [
    "import scipy\n",
    "from sklearn.feature_selection import VarianceThreshold\n",
    "X_sparse = scipy.sparse.csc_matrix(X.values)\n",
    "y_sparse = scipy.sparse.csc_matrix(y.values)"
   ]
  },
  {
   "cell_type": "code",
   "execution_count": 19,
   "id": "b150d26f",
   "metadata": {},
   "outputs": [
    {
     "data": {
      "text/plain": [
       "(99343, 143)"
      ]
     },
     "execution_count": 19,
     "metadata": {},
     "output_type": "execute_result"
    }
   ],
   "source": [
    "var_filter = VarianceThreshold(threshold=0.01)\n",
    "X_var = var_filter.fit_transform(X_sparse)\n",
    "cols = [i for i in X.columns[var_filter.get_support()]]\n",
    "\n",
    "X_var.shape"
   ]
  },
  {
   "cell_type": "code",
   "execution_count": 24,
   "id": "af90c552",
   "metadata": {},
   "outputs": [],
   "source": [
    "X_var = pd.DataFrame(X_var.todense(), columns = cols)"
   ]
  },
  {
   "cell_type": "code",
   "execution_count": null,
   "id": "c62f2c0a",
   "metadata": {},
   "outputs": [],
   "source": []
  },
  {
   "cell_type": "code",
   "execution_count": 26,
   "id": "a7cbb36c",
   "metadata": {},
   "outputs": [],
   "source": [
    "from sklearn.feature_selection import SelectKBest\n",
    "from sklearn.feature_selection import chi2\n",
    "\n",
    "chi_vals, p_vals = chi2(X_var, y)"
   ]
  },
  {
   "cell_type": "code",
   "execution_count": 27,
   "id": "ccad5708",
   "metadata": {},
   "outputs": [],
   "source": [
    "chi_thres = 0\n",
    "p_thres = 0.05\n",
    "chi_filter = [True if c>=chi_thres else False for c in chi_vals]\n",
    "p_filter = [True if p<=p_thres else False for p in p_vals]\n",
    "stat_filter = np.logical_and(chi_filter, p_filter)"
   ]
  },
  {
   "cell_type": "code",
   "execution_count": 28,
   "id": "3da1796a",
   "metadata": {},
   "outputs": [],
   "source": [
    "X = X_var.loc[:,stat_filter]"
   ]
  },
  {
   "cell_type": "code",
   "execution_count": 29,
   "id": "89a96273",
   "metadata": {},
   "outputs": [],
   "source": [
    "df = pd.concat([X.reset_index(drop=True), y.reset_index(drop=True)], axis=1)"
   ]
  },
  {
   "cell_type": "code",
   "execution_count": 30,
   "id": "eb8b7de1",
   "metadata": {},
   "outputs": [
    {
     "data": {
      "text/plain": [
       "0    52527\n",
       "1    46816\n",
       "Name: readmitted, dtype: int64"
      ]
     },
     "execution_count": 30,
     "metadata": {},
     "output_type": "execute_result"
    }
   ],
   "source": [
    "df.readmitted.value_counts()"
   ]
  },
  {
   "cell_type": "code",
   "execution_count": 31,
   "id": "142f99f0",
   "metadata": {},
   "outputs": [
    {
     "data": {
      "text/plain": [
       "(99343, 106)"
      ]
     },
     "execution_count": 31,
     "metadata": {},
     "output_type": "execute_result"
    }
   ],
   "source": [
    "df.shape"
   ]
  },
  {
   "cell_type": "code",
   "execution_count": 32,
   "id": "4ca4982d",
   "metadata": {},
   "outputs": [
    {
     "data": {
      "text/plain": [
       "1    46816\n",
       "0    46816\n",
       "Name: readmitted, dtype: int64"
      ]
     },
     "execution_count": 32,
     "metadata": {},
     "output_type": "execute_result"
    }
   ],
   "source": [
    "from sklearn.utils import resample\n",
    "\n",
    "df_majority = df[df['readmitted']==0]\n",
    "df_minority = df[df['readmitted']==1]\n",
    "\n",
    "# Upsample minority class\n",
    "df_majority_dnsampled = resample(df_majority, \n",
    "                                 replace=True,     # sample with replacement\n",
    "                                 n_samples=len(df_minority),    # to match majority class\n",
    "                                 random_state=42) # reproducible results\n",
    "\n",
    "# Combine majority class with upsampled minority class\n",
    "df_dnsampled = pd.concat([df_minority, df_majority_dnsampled])\n",
    "\n",
    "# Display new class counts\n",
    "df_dnsampled.readmitted.value_counts()"
   ]
  },
  {
   "cell_type": "code",
   "execution_count": 33,
   "id": "92e4b31e",
   "metadata": {},
   "outputs": [],
   "source": [
    "X = df_dnsampled.drop('readmitted', axis=1)\n",
    "y = df_dnsampled.readmitted"
   ]
  },
  {
   "cell_type": "code",
   "execution_count": null,
   "id": "81a0986c",
   "metadata": {},
   "outputs": [],
   "source": [
    "import scipy\n",
    "X_sparse = scipy.sparse.csc_matrix(X.values)\n",
    "y_sparse = scipy.sparse.csc_matrix(y.values)\n",
    "scipy.sparse.save_npz('./readmissions_X.npz', X_sparse)\n",
    "scipy.sparse.save_npz('./readmissions_y.npz', y_sparse)"
   ]
  }
 ],
 "metadata": {
  "kernelspec": {
   "display_name": "conda_amazonei_mxnet_p36",
   "language": "python",
   "name": "conda_amazonei_mxnet_p36"
  },
  "language_info": {
   "codemirror_mode": {
    "name": "ipython",
    "version": 3
   },
   "file_extension": ".py",
   "mimetype": "text/x-python",
   "name": "python",
   "nbconvert_exporter": "python",
   "pygments_lexer": "ipython3",
   "version": "3.6.13"
  }
 },
 "nbformat": 4,
 "nbformat_minor": 5
}
