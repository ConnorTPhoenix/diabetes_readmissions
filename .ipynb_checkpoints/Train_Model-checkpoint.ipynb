{
 "cells": [
  {
   "cell_type": "code",
   "execution_count": null,
   "id": "e4f7df14",
   "metadata": {},
   "outputs": [],
   "source": [
    "!pip install sagemaker==1.72.0"
   ]
  },
  {
   "cell_type": "code",
   "execution_count": 59,
   "id": "81e1b107",
   "metadata": {},
   "outputs": [],
   "source": [
    "import os\n",
    "import boto3\n",
    "import re\n",
    "import sagemaker\n",
    "import pandas as pd\n",
    "import numpy as np\n",
    "import matplotlib.pyplot as plt\n",
    "import io\n",
    "import time\n",
    "import json\n",
    "import sagemaker.amazon.common as smac\n",
    "import scipy\n",
    "from sklearn.model_selection import train_test_split\n",
    "from sagemaker.amazon.amazon_estimator import get_image_uri\n",
    "\n",
    "role = sagemaker.get_execution_role()\n",
    "region = boto3.Session().region_name\n",
    "session = sagemaker.Session()\n",
    "bucket = session.default_bucket()"
   ]
  },
  {
   "cell_type": "code",
   "execution_count": 60,
   "id": "44e49f40",
   "metadata": {},
   "outputs": [],
   "source": [
    "X_sparse = scipy.sparse.load_npz('./readmissions_X.npz')\n",
    "y_sparse = scipy.sparse.load_npz('./readmissions_y.npz')\n",
    "X = pd.DataFrame(np.array(X_sparse.todense()))\n",
    "y = pd.DataFrame(np.array(y_sparse.todense()).reshape(-1,1))\n",
    "\n",
    "X_train, X_test, y_train, y_test = train_test_split(X, y, test_size=0.33)\n",
    "X_train, X_val, y_train, y_val = train_test_split(X_train, y_train, test_size=0.33)\n",
    "\n",
    "data_dir = './data/'\n",
    "if not os.path.exists(data_dir):\n",
    "    os.makedirs(data_dir)\n",
    "    \n",
    "pd.DataFrame(X_test).to_csv(os.path.join(data_dir, 'test.csv'), header=False, index=False)\n",
    "pd.concat([y_val, X_val], axis=1).to_csv(os.path.join(data_dir, 'validation.csv'), header=False, index=False)\n",
    "pd.concat([y_train, X_train], axis=1).to_csv(os.path.join(data_dir, 'train.csv'), header=False, index=False)\n",
    "\n",
    "test_location = session.upload_data(os.path.join(data_dir, 'test.csv'), key_prefix=prefix)\n",
    "val_location = session.upload_data(os.path.join(data_dir, 'validation.csv'), key_prefix=prefix)\n",
    "train_location = session.upload_data(os.path.join(data_dir, 'train.csv'), key_prefix=prefix)"
   ]
  },
  {
   "cell_type": "code",
   "execution_count": 3,
   "id": "317b0a31",
   "metadata": {},
   "outputs": [],
   "source": []
  },
  {
   "cell_type": "code",
   "execution_count": null,
   "id": "471b0a03",
   "metadata": {},
   "outputs": [],
   "source": [
    "prefix = 'readmission-xgboost'\n",
    "\n",
    "from sagemaker.tuner import IntegerParameter, ContinuousParameter, HyperparameterTuner\n",
    "container = get_image_uri(session.boto_region_name, 'xgboost')\n",
    "\n",
    "xgb = sagemaker.estimator.Estimator(container, \n",
    "                                    role,                                   \n",
    "                                    train_instance_count=1,                 \n",
    "                                    train_instance_type='ml.m4.xlarge',    \n",
    "                                    output_path='s3://{}/{}/output'.format(bucket, prefix),\n",
    "                                    sagemaker_session=session)\n",
    "\n",
    "xgb.set_hyperparameters(silent=0,\n",
    "                        objective='binary:logistic',\n",
    "                        early_stopping_rounds=10,\n",
    "                        num_round=500)\n",
    "\n",
    "xgb_hyperparameter_tuner = HyperparameterTuner(estimator = xgb, \n",
    "                                               objective_metric_name = 'validation:auc', \n",
    "                                               objective_type = 'Maximize',\n",
    "                                               max_jobs = 20,\n",
    "                                               max_parallel_jobs = 3,\n",
    "                                               hyperparameter_ranges = {\n",
    "                                                    'max_depth': IntegerParameter(3, 12),\n",
    "                                                    'eta'      : ContinuousParameter(0.05, 0.5),\n",
    "                                                    'min_child_weight': IntegerParameter(2, 8),\n",
    "                                                    'subsample': ContinuousParameter(0.5, 0.9),\n",
    "                                                    'gamma': ContinuousParameter(0, 10)})"
   ]
  },
  {
   "cell_type": "code",
   "execution_count": null,
   "id": "afb3b5b4",
   "metadata": {},
   "outputs": [],
   "source": [
    "s3_input_train = sagemaker.s3_input(s3_data=train_location, content_type='csv')\n",
    "s3_input_validation = sagemaker.s3_input(s3_data=val_location, content_type='csv')\n",
    "\n",
    "xgb_hyperparameter_tuner.fit({'train': s3_input_train, 'validation': s3_input_validation})\n",
    "\n",
    "xgb_hyperparameter_tuner.wait()"
   ]
  },
  {
   "cell_type": "code",
   "execution_count": null,
   "id": "2c142865",
   "metadata": {},
   "outputs": [],
   "source": [
    "my_tuner_analytics = xgb_hyperparameter_tuner.analytics()\n",
    "my_dataframe = my_tuner_analytics.dataframe()\n",
    "\n",
    "best_job = xgb_hyperparameter_tuner.best_training_job()\n",
    "my_dataframe[my_dataframe['TrainingJobName'] == best_job]"
   ]
  },
  {
   "cell_type": "code",
   "execution_count": null,
   "id": "ac494ef0",
   "metadata": {},
   "outputs": [],
   "source": [
    "xgb_best = sagemaker.estimator.Estimator.attach(xgb_hyperparameter_tuner.best_training_job())\n",
    "xgb_transformer = xgb_best.transformer(instance_count = 1, instance_type = 'ml.m4.xlarge')\n",
    "xgb_transformer.transform(test_location, content_type='text/csv', split_type='Line')\n",
    "\n",
    "xgb_transformer.wait()"
   ]
  },
  {
   "cell_type": "code",
   "execution_count": null,
   "id": "39e3c250",
   "metadata": {},
   "outputs": [],
   "source": [
    "!aws s3 cp --recursive $xgb_transformer.output_path $data_dir\n",
    "\n",
    "output = pd.read_csv(os.path.join(data_dir, 'test.csv.out'), header=None)\n",
    "predictions = [round(num) for num in output.squeeze().values]\n",
    "probs = [p for p in output.squeeze().values]\n",
    "\n",
    "from sklearn.metrics import accuracy_score\n",
    "print (accuracy_score(y_test, predictions))\n",
    "\n",
    "from sklearn.metrics import roc_auc_score\n",
    "print (roc_auc_score(y_test, probs))"
   ]
  },
  {
   "cell_type": "code",
   "execution_count": 46,
   "id": "9bb7d8a0",
   "metadata": {},
   "outputs": [
    {
     "data": {
      "text/plain": [
       "'readmissions/linreg'"
      ]
     },
     "execution_count": 46,
     "metadata": {},
     "output_type": "execute_result"
    }
   ],
   "source": []
  },
  {
   "cell_type": "code",
   "execution_count": 61,
   "id": "f86761b4",
   "metadata": {},
   "outputs": [
    {
     "name": "stdout",
     "output_type": "stream",
     "text": [
      "uploaded training data location: s3://sagemaker-us-east-1-345989147144/readmissions/linreg/train/recordio-pb-data\n",
      "uploaded validation data location: s3://sagemaker-us-east-1-345989147144/readmissions/linreg/val/recordio-pb-data\n"
     ]
    }
   ],
   "source": [
    "prefix = \"readmissions/linreg\"\n",
    "\n",
    "import io\n",
    "import numpy as np\n",
    "import sagemaker.amazon.common as smac\n",
    "\n",
    "buf = io.BytesIO()\n",
    "smac.write_numpy_to_dense_tensor(buf, X_train.values.astype(\"float32\"), y_train.values[:,0].astype(\"float32\"))\n",
    "buf.seek(0)\n",
    "\n",
    "key = \"recordio-pb-data\"\n",
    "boto3.resource(\"s3\").Bucket(bucket).Object(os.path.join(prefix, \"train\", key)).upload_fileobj(buf)\n",
    "s3_train_data = f\"s3://{bucket}/{prefix}/train/{key}\"\n",
    "print(f\"uploaded training data location: {s3_train_data}\")\n",
    "\n",
    "buf = io.BytesIO()\n",
    "smac.write_numpy_to_dense_tensor(buf, X_val.values.astype(\"float32\"), y_val.values[:,0].astype(\"float32\"))\n",
    "buf.seek(0)\n",
    "\n",
    "key = \"recordio-pb-data\"\n",
    "boto3.resource(\"s3\").Bucket(bucket).Object(os.path.join(prefix, \"val\", key)).upload_fileobj(buf)\n",
    "s3_val_data = f\"s3://{bucket}/{prefix}/val/{key}\"\n",
    "print(f\"uploaded validation data location: {s3_val_data}\")"
   ]
  },
  {
   "cell_type": "code",
   "execution_count": 62,
   "id": "c8dbbc46",
   "metadata": {},
   "outputs": [
    {
     "name": "stderr",
     "output_type": "stream",
     "text": [
      "'get_image_uri' method will be deprecated in favor of 'ImageURIProvider' class in SageMaker Python SDK v2.\n"
     ]
    }
   ],
   "source": [
    "container = get_image_uri(session.boto_region_name, 'linear-learner')"
   ]
  },
  {
   "cell_type": "code",
   "execution_count": 63,
   "id": "4bf2dc7d",
   "metadata": {},
   "outputs": [
    {
     "name": "stderr",
     "output_type": "stream",
     "text": [
      "Parameter image_name will be renamed to image_uri in SageMaker Python SDK v2.\n"
     ]
    }
   ],
   "source": [
    "from sagemaker.tuner import IntegerParameter, ContinuousParameter, CategoricalParameter, HyperparameterTuner\n",
    "linear = sagemaker.estimator.Estimator(\n",
    "         container,\n",
    "         role,\n",
    "         train_instance_count=1,\n",
    "         train_instance_type=\"ml.c4.xlarge\",\n",
    "         output_path='s3://{}/{}/output'.format(session.default_bucket(), prefix),\n",
    "         sagemaker_session=session)\n",
    "\n",
    "linear.set_hyperparameters(feature_dim=105, predictor_type=\"binary_classifier\")\n",
    "\n",
    "lin_hyperparameter_tuner = HyperparameterTuner(estimator = linear, \n",
    "                                               objective_metric_name = 'validation:binary_classification_accuracy', \n",
    "                                               objective_type = 'Maximize',\n",
    "                                               max_jobs = 20,\n",
    "                                               max_parallel_jobs = 3,\n",
    "                                               hyperparameter_ranges = {\n",
    "                                                    'wd': ContinuousParameter(0.1, 1.0),\n",
    "                                                    'l1'      : ContinuousParameter(0.1, 1.0),\n",
    "                                                    'learning_rate': ContinuousParameter(0.1, 1.0),\n",
    "                                                    'mini_batch_size': IntegerParameter(100, 5000),\n",
    "                                                    'use_bias': CategoricalParameter([True, False])})"
   ]
  },
  {
   "cell_type": "code",
   "execution_count": 64,
   "id": "ae83522a",
   "metadata": {},
   "outputs": [
    {
     "name": "stderr",
     "output_type": "stream",
     "text": [
      "'s3_input' class will be renamed to 'TrainingInput' in SageMaker Python SDK v2.\n",
      "'s3_input' class will be renamed to 'TrainingInput' in SageMaker Python SDK v2.\n"
     ]
    },
    {
     "name": "stdout",
     "output_type": "stream",
     "text": [
      "................................................................................................................................................................................................................................................................................................................................................................................!\n"
     ]
    }
   ],
   "source": [
    "lin_hyperparameter_tuner.fit({'train': s3_train_data, 'validation': s3_val_data})\n",
    "lin_hyperparameter_tuner.wait()"
   ]
  },
  {
   "cell_type": "code",
   "execution_count": 65,
   "id": "5d47e9c6",
   "metadata": {},
   "outputs": [
    {
     "data": {
      "text/html": [
       "<div>\n",
       "<style scoped>\n",
       "    .dataframe tbody tr th:only-of-type {\n",
       "        vertical-align: middle;\n",
       "    }\n",
       "\n",
       "    .dataframe tbody tr th {\n",
       "        vertical-align: top;\n",
       "    }\n",
       "\n",
       "    .dataframe thead th {\n",
       "        text-align: right;\n",
       "    }\n",
       "</style>\n",
       "<table border=\"1\" class=\"dataframe\">\n",
       "  <thead>\n",
       "    <tr style=\"text-align: right;\">\n",
       "      <th></th>\n",
       "      <th>l1</th>\n",
       "      <th>learning_rate</th>\n",
       "      <th>mini_batch_size</th>\n",
       "      <th>use_bias</th>\n",
       "      <th>wd</th>\n",
       "      <th>TrainingJobName</th>\n",
       "      <th>TrainingJobStatus</th>\n",
       "      <th>FinalObjectiveValue</th>\n",
       "      <th>TrainingStartTime</th>\n",
       "      <th>TrainingEndTime</th>\n",
       "      <th>TrainingElapsedTimeSeconds</th>\n",
       "    </tr>\n",
       "  </thead>\n",
       "  <tbody>\n",
       "    <tr>\n",
       "      <th>15</th>\n",
       "      <td>1.0</td>\n",
       "      <td>0.285439</td>\n",
       "      <td>2043.0</td>\n",
       "      <td>False</td>\n",
       "      <td>0.873948</td>\n",
       "      <td>linear-learner-211230-1808-005-a9e8df26</td>\n",
       "      <td>Completed</td>\n",
       "      <td>0.603661</td>\n",
       "      <td>2021-12-30 18:16:02+00:00</td>\n",
       "      <td>2021-12-30 18:17:25+00:00</td>\n",
       "      <td>83.0</td>\n",
       "    </tr>\n",
       "  </tbody>\n",
       "</table>\n",
       "</div>"
      ],
      "text/plain": [
       "     l1  learning_rate  mini_batch_size use_bias        wd  \\\n",
       "15  1.0       0.285439           2043.0    False  0.873948   \n",
       "\n",
       "                            TrainingJobName TrainingJobStatus  \\\n",
       "15  linear-learner-211230-1808-005-a9e8df26         Completed   \n",
       "\n",
       "    FinalObjectiveValue         TrainingStartTime           TrainingEndTime  \\\n",
       "15             0.603661 2021-12-30 18:16:02+00:00 2021-12-30 18:17:25+00:00   \n",
       "\n",
       "    TrainingElapsedTimeSeconds  \n",
       "15                        83.0  "
      ]
     },
     "execution_count": 65,
     "metadata": {},
     "output_type": "execute_result"
    }
   ],
   "source": [
    "my_tuner_analytics = lin_hyperparameter_tuner.analytics()\n",
    "my_dataframe = my_tuner_analytics.dataframe()\n",
    "\n",
    "best_job = lin_hyperparameter_tuner.best_training_job()\n",
    "my_dataframe[my_dataframe['TrainingJobName'] == best_job]"
   ]
  },
  {
   "cell_type": "code",
   "execution_count": 66,
   "id": "7fec176b",
   "metadata": {
    "collapsed": true,
    "jupyter": {
     "outputs_hidden": true
    }
   },
   "outputs": [
    {
     "name": "stderr",
     "output_type": "stream",
     "text": [
      "Parameter image_name will be renamed to image_uri in SageMaker Python SDK v2.\n"
     ]
    },
    {
     "name": "stdout",
     "output_type": "stream",
     "text": [
      "2021-12-30 18:17:25 Starting - Preparing the instances for training\n",
      "2021-12-30 18:17:25 Downloading - Downloading input data\n",
      "2021-12-30 18:17:25 Training - Training image download completed. Training in progress.\n",
      "2021-12-30 18:17:25 Uploading - Uploading generated training model\n",
      "2021-12-30 18:17:25 Completed - Training job completed\u001b[34mDocker entrypoint called with argument(s): train\u001b[0m\n",
      "\u001b[34mRunning default environment configuration script\u001b[0m\n",
      "\u001b[34m[12/30/2021 18:17:11 INFO 140579261622080] Reading default configuration from /opt/amazon/lib/python3.7/site-packages/algorithm/resources/default-input.json: {'mini_batch_size': '1000', 'epochs': '15', 'feature_dim': 'auto', 'use_bias': 'true', 'binary_classifier_model_selection_criteria': 'accuracy', 'f_beta': '1.0', 'target_recall': '0.8', 'target_precision': '0.8', 'num_models': 'auto', 'num_calibration_samples': '10000000', 'init_method': 'uniform', 'init_scale': '0.07', 'init_sigma': '0.01', 'init_bias': '0.0', 'optimizer': 'auto', 'loss': 'auto', 'margin': '1.0', 'quantile': '0.5', 'loss_insensitivity': '0.01', 'huber_delta': '1.0', 'num_classes': '1', 'accuracy_top_k': '3', 'wd': 'auto', 'l1': 'auto', 'momentum': 'auto', 'learning_rate': 'auto', 'beta_1': 'auto', 'beta_2': 'auto', 'bias_lr_mult': 'auto', 'bias_wd_mult': 'auto', 'use_lr_scheduler': 'true', 'lr_scheduler_step': 'auto', 'lr_scheduler_factor': 'auto', 'lr_scheduler_minimum_lr': 'auto', 'positive_example_weight_mult': '1.0', 'balance_multiclass_weights': 'false', 'normalize_data': 'true', 'normalize_label': 'auto', 'unbias_data': 'auto', 'unbias_label': 'auto', 'num_point_for_scaler': '10000', '_kvstore': 'auto', '_num_gpus': 'auto', '_num_kv_servers': 'auto', '_log_level': 'info', '_tuning_objective_metric': '', 'early_stopping_patience': '3', 'early_stopping_tolerance': '0.001', '_enable_profiler': 'false'}\u001b[0m\n",
      "\u001b[34m[12/30/2021 18:17:11 INFO 140579261622080] Merging with provided configuration from /opt/ml/input/config/hyperparameters.json: {'feature_dim': '105', 'predictor_type': 'binary_classifier', 'l1': '1.0', '_tuning_objective_metric': 'validation:binary_classification_accuracy', 'use_bias': 'False', 'learning_rate': '0.2854388916035083', 'wd': '0.8739477284942289', 'mini_batch_size': '2043'}\u001b[0m\n",
      "\u001b[34m[12/30/2021 18:17:11 INFO 140579261622080] Final configuration: {'mini_batch_size': '2043', 'epochs': '15', 'feature_dim': '105', 'use_bias': 'False', 'binary_classifier_model_selection_criteria': 'accuracy', 'f_beta': '1.0', 'target_recall': '0.8', 'target_precision': '0.8', 'num_models': 'auto', 'num_calibration_samples': '10000000', 'init_method': 'uniform', 'init_scale': '0.07', 'init_sigma': '0.01', 'init_bias': '0.0', 'optimizer': 'auto', 'loss': 'auto', 'margin': '1.0', 'quantile': '0.5', 'loss_insensitivity': '0.01', 'huber_delta': '1.0', 'num_classes': '1', 'accuracy_top_k': '3', 'wd': '0.8739477284942289', 'l1': '1.0', 'momentum': 'auto', 'learning_rate': '0.2854388916035083', 'beta_1': 'auto', 'beta_2': 'auto', 'bias_lr_mult': 'auto', 'bias_wd_mult': 'auto', 'use_lr_scheduler': 'true', 'lr_scheduler_step': 'auto', 'lr_scheduler_factor': 'auto', 'lr_scheduler_minimum_lr': 'auto', 'positive_example_weight_mult': '1.0', 'balance_multiclass_weights': 'false', 'normalize_data': 'true', 'normalize_label': 'auto', 'unbias_data': 'auto', 'unbias_label': 'auto', 'num_point_for_scaler': '10000', '_kvstore': 'auto', '_num_gpus': 'auto', '_num_kv_servers': 'auto', '_log_level': 'info', '_tuning_objective_metric': 'validation:binary_classification_accuracy', 'early_stopping_patience': '3', 'early_stopping_tolerance': '0.001', '_enable_profiler': 'false', 'predictor_type': 'binary_classifier'}\u001b[0m\n",
      "\u001b[34m[12/30/2021 18:17:11 WARNING 140579261622080] Loggers have already been setup.\u001b[0m\n",
      "\u001b[34mProcess 1 is a worker.\u001b[0m\n",
      "\u001b[34m[12/30/2021 18:17:11 INFO 140579261622080] Using default worker.\u001b[0m\n",
      "\u001b[34m[12/30/2021 18:17:11 INFO 140579261622080] Checkpoint loading and saving are disabled.\u001b[0m\n",
      "\u001b[34m[2021-12-30 18:17:11.338] [tensorio] [warning] TensorIO is already initialized; ignoring the initialization routine.\u001b[0m\n",
      "\u001b[34m[2021-12-30 18:17:11.377] [tensorio] [info] epoch_stats={\"data_pipeline\": \"/opt/ml/input/data/train\", \"epoch\": 0, \"duration\": 43, \"num_examples\": 1, \"num_bytes\": 956124}\u001b[0m\n",
      "\u001b[34m[12/30/2021 18:17:11 INFO 140579261622080] Create Store: local\u001b[0m\n",
      "\u001b[34m[2021-12-30 18:17:11.458] [tensorio] [info] epoch_stats={\"data_pipeline\": \"/opt/ml/input/data/train\", \"epoch\": 1, \"duration\": 80, \"num_examples\": 5, \"num_bytes\": 4780620}\u001b[0m\n",
      "\u001b[34m[12/30/2021 18:17:11 INFO 140579261622080] Scaler algorithm parameters\n",
      " <algorithm.scaler.ScalerAlgorithmStable object at 0x7fdac8b63910>\u001b[0m\n",
      "\u001b[34m[12/30/2021 18:17:11 INFO 140579261622080] Scaling model computed with parameters:\n",
      " {'stdev_label': None, 'stdev_weight': \u001b[0m\n",
      "\u001b[34m[17.842339    5.291558   47.11396     2.153484    1.4386797   0.9948471\n",
      "  1.3801261   7.6667056   0.8636342   0.1367406   0.12117874  0.14808287\n",
      "  0.7345738   0.67852885  0.1903188   0.30767632  0.40806842  0.5133557\n",
      "  0.4031205   0.15799776  0.11580867  0.9833663   0.34088364  0.11623057\n",
      "  0.11324434  0.13311289  0.28778356  0.15102847  0.10234644  0.10747856\n",
      "  0.18980372  0.21654524  0.15861614  0.13957492  0.14338064  0.11496026\n",
      "  0.11665094  0.12515287  0.24255934  0.26158896  0.12278383  0.18798986\n",
      "  0.16761844  0.15830725  0.11194012  0.2190175   0.2510867   0.12670761\n",
      "  0.17726925  0.1360228   0.12117875  0.13348009  0.10656383  0.12117875\n",
      "  0.14303884  0.18746838  0.2503057   0.16878246  0.25705895  0.18980372\n",
      "  0.14675474  0.1101772   0.08849645  0.12077414  0.12786128  0.13992515\n",
      "  0.19837816  0.10702217  0.1470879   0.21335721  0.15102847  0.57035595\n",
      "  0.15264033  0.23309197  0.27168554  0.2682406   0.38012287  0.12278383\n",
      "  0.1274779   0.10928503  0.09943552  0.17420542  0.6987157   0.19614494\n",
      "  0.28504926  0.9112341   0.22344257  0.11150201  0.11150201  0.89240015\n",
      "  0.43365514  0.10041519  0.123974    0.33245116  0.3017327   0.25705895\n",
      "  0.24735507  0.34459677  0.6790336   0.56013775  0.32620877  0.68334496\n",
      "  0.7300957   0.47912878  0.8777447 ]\u001b[0m\n",
      "\u001b[34m<NDArray 105 @cpu(0)>, 'mean_label': None, 'mean_weight': None}\u001b[0m\n",
      "\u001b[34m[12/30/2021 18:17:11 INFO 140579261622080] nvidia-smi: took 0.031 seconds to run.\u001b[0m\n",
      "\u001b[34m[12/30/2021 18:17:11 INFO 140579261622080] nvidia-smi identified 0 GPUs.\u001b[0m\n",
      "\u001b[34m[12/30/2021 18:17:11 INFO 140579261622080] Number of GPUs being used: 0\u001b[0m\n",
      "\u001b[34m#metrics {\"StartTime\": 1640888231.504626, \"EndTime\": 1640888231.504662, \"Dimensions\": {\"Algorithm\": \"Linear Learner\", \"Host\": \"algo-1\", \"Operation\": \"training\", \"Meta\": \"init_train_data_iter\"}, \"Metrics\": {\"Total Records Seen\": {\"sum\": 12258.0, \"count\": 1, \"min\": 12258, \"max\": 12258}, \"Total Batches Seen\": {\"sum\": 6.0, \"count\": 1, \"min\": 6, \"max\": 6}, \"Max Records Seen Between Resets\": {\"sum\": 10215.0, \"count\": 1, \"min\": 10215, \"max\": 10215}, \"Max Batches Seen Between Resets\": {\"sum\": 5.0, \"count\": 1, \"min\": 5, \"max\": 5}, \"Reset Count\": {\"sum\": 2.0, \"count\": 1, \"min\": 2, \"max\": 2}, \"Number of Records Since Last Reset\": {\"sum\": 0.0, \"count\": 1, \"min\": 0, \"max\": 0}, \"Number of Batches Since Last Reset\": {\"sum\": 0.0, \"count\": 1, \"min\": 0, \"max\": 0}}}\u001b[0m\n",
      "\u001b[34m[2021-12-30 18:17:11.595] [tensorio] [info] epoch_stats={\"data_pipeline\": \"/opt/ml/input/data/train\", \"epoch\": 3, \"duration\": 90, \"num_examples\": 21, \"num_bytes\": 19670508}\u001b[0m\n",
      "\u001b[34m#metrics {\"StartTime\": 1640888231.595728, \"EndTime\": 1640888231.5957966, \"Dimensions\": {\"Algorithm\": \"Linear Learner\", \"Host\": \"algo-1\", \"Operation\": \"training\", \"epoch\": 0, \"model\": 0}, \"Metrics\": {\"train_binary_classification_cross_entropy_objective\": {\"sum\": 1.0666388378619447, \"count\": 1, \"min\": 1.0666388378619447, \"max\": 1.0666388378619447}}}\u001b[0m\n",
      "\u001b[34m[12/30/2021 18:17:11 INFO 140579261622080] #quality_metric: host=algo-1, epoch=0, train binary_classification_cross_entropy_objective <loss>=1.0666388378619447\u001b[0m\n",
      "\u001b[34m[2021-12-30 18:17:11.598] [tensorio] [info] epoch_stats={\"data_pipeline\": \"/opt/ml/input/data/validation\", \"epoch\": 0, \"duration\": 259, \"num_examples\": 1, \"num_bytes\": 956124}\u001b[0m\n",
      "\u001b[34m[2021-12-30 18:17:11.720] [tensorio] [info] epoch_stats={\"data_pipeline\": \"/opt/ml/input/data/validation\", \"epoch\": 2, \"duration\": 122, \"num_examples\": 11, \"num_bytes\": 9688536}\u001b[0m\n",
      "\u001b[34m#metrics {\"StartTime\": 1640888231.7399595, \"EndTime\": 1640888231.7399962, \"Dimensions\": {\"Algorithm\": \"Linear Learner\", \"Host\": \"algo-1\", \"Operation\": \"training\", \"epoch\": 0, \"model\": 0}, \"Metrics\": {\"validation_binary_classification_cross_entropy_objective\": {\"sum\": 0.7479373274788328, \"count\": 1, \"min\": 0.7479373274788328, \"max\": 0.7479373274788328}}}\u001b[0m\n",
      "\u001b[34m[12/30/2021 18:17:11 INFO 140579261622080] #quality_metric: host=algo-1, epoch=0, validation binary_classification_cross_entropy_objective <loss>=0.7479373274788328\u001b[0m\n",
      "\u001b[34m[12/30/2021 18:17:11 INFO 140579261622080] #early_stopping_criteria_metric: host=algo-1, epoch=0, criteria=sampled_accuracy, value=0.5591247222490603\u001b[0m\n",
      "\u001b[34m[12/30/2021 18:17:11 INFO 140579261622080] Epoch 0: Loss improved. Updating best model\u001b[0m\n",
      "\u001b[34m[12/30/2021 18:17:11 INFO 140579261622080] Saving model for epoch: 0\u001b[0m\n",
      "\u001b[34m[12/30/2021 18:17:11 INFO 140579261622080] Saved checkpoint to \"/tmp/tmp1c2_7xey/mx-mod-0000.params\"\u001b[0m\n",
      "\u001b[34m[12/30/2021 18:17:11 INFO 140579261622080] #progress_metric: host=algo-1, completed 6.666666666666667 % of epochs\u001b[0m\n",
      "\u001b[34m#metrics {\"StartTime\": 1640888231.5049534, \"EndTime\": 1640888231.747834, \"Dimensions\": {\"Algorithm\": \"Linear Learner\", \"Host\": \"algo-1\", \"Operation\": \"training\", \"epoch\": 0, \"Meta\": \"training_data_iter\"}, \"Metrics\": {\"Total Records Seen\": {\"sum\": 54289.0, \"count\": 1, \"min\": 54289, \"max\": 54289}, \"Total Batches Seen\": {\"sum\": 27.0, \"count\": 1, \"min\": 27, \"max\": 27}, \"Max Records Seen Between Resets\": {\"sum\": 42031.0, \"count\": 1, \"min\": 42031, \"max\": 42031}, \"Max Batches Seen Between Resets\": {\"sum\": 21.0, \"count\": 1, \"min\": 21, \"max\": 21}, \"Reset Count\": {\"sum\": 3.0, \"count\": 1, \"min\": 3, \"max\": 3}, \"Number of Records Since Last Reset\": {\"sum\": 42031.0, \"count\": 1, \"min\": 42031, \"max\": 42031}, \"Number of Batches Since Last Reset\": {\"sum\": 21.0, \"count\": 1, \"min\": 21, \"max\": 21}}}\u001b[0m\n",
      "\u001b[34m[12/30/2021 18:17:11 INFO 140579261622080] #throughput_metric: host=algo-1, train throughput=172952.12362945697 records/second\u001b[0m\n",
      "\u001b[34m[2021-12-30 18:17:11.837] [tensorio] [info] epoch_stats={\"data_pipeline\": \"/opt/ml/input/data/train\", \"epoch\": 5, \"duration\": 88, \"num_examples\": 21, \"num_bytes\": 19670508}\u001b[0m\n",
      "\u001b[34m#metrics {\"StartTime\": 1640888231.8371482, \"EndTime\": 1640888231.8372054, \"Dimensions\": {\"Algorithm\": \"Linear Learner\", \"Host\": \"algo-1\", \"Operation\": \"training\", \"epoch\": 1, \"model\": 0}, \"Metrics\": {\"train_binary_classification_cross_entropy_objective\": {\"sum\": 0.70387482421397, \"count\": 1, \"min\": 0.70387482421397, \"max\": 0.70387482421397}}}\u001b[0m\n",
      "\u001b[34m[12/30/2021 18:17:11 INFO 140579261622080] #quality_metric: host=algo-1, epoch=1, train binary_classification_cross_entropy_objective <loss>=0.70387482421397\u001b[0m\n",
      "\u001b[34m[2021-12-30 18:17:11.954] [tensorio] [info] epoch_stats={\"data_pipeline\": \"/opt/ml/input/data/validation\", \"epoch\": 5, \"duration\": 115, \"num_examples\": 11, \"num_bytes\": 9688536}\u001b[0m\n",
      "\u001b[34m#metrics {\"StartTime\": 1640888231.9721975, \"EndTime\": 1640888231.9722369, \"Dimensions\": {\"Algorithm\": \"Linear Learner\", \"Host\": \"algo-1\", \"Operation\": \"training\", \"epoch\": 1, \"model\": 0}, \"Metrics\": {\"validation_binary_classification_cross_entropy_objective\": {\"sum\": 0.6827098959575539, \"count\": 1, \"min\": 0.6827098959575539, \"max\": 0.6827098959575539}}}\u001b[0m\n",
      "\u001b[34m[12/30/2021 18:17:11 INFO 140579261622080] #quality_metric: host=algo-1, epoch=1, validation binary_classification_cross_entropy_objective <loss>=0.6827098959575539\u001b[0m\n",
      "\u001b[34m[12/30/2021 18:17:11 INFO 140579261622080] #early_stopping_criteria_metric: host=algo-1, epoch=1, criteria=sampled_accuracy, value=0.5694135832286756\u001b[0m\n",
      "\u001b[34m[12/30/2021 18:17:11 INFO 140579261622080] Epoch 1: Loss improved. Updating best model\u001b[0m\n",
      "\u001b[34m[12/30/2021 18:17:11 INFO 140579261622080] Saving model for epoch: 1\u001b[0m\n",
      "\u001b[34m[12/30/2021 18:17:11 INFO 140579261622080] Saved checkpoint to \"/tmp/tmpu56gq70n/mx-mod-0000.params\"\u001b[0m\n",
      "\u001b[34m[12/30/2021 18:17:11 INFO 140579261622080] #progress_metric: host=algo-1, completed 13.333333333333334 % of epochs\u001b[0m\n",
      "\u001b[34m#metrics {\"StartTime\": 1640888231.7481365, \"EndTime\": 1640888231.9780347, \"Dimensions\": {\"Algorithm\": \"Linear Learner\", \"Host\": \"algo-1\", \"Operation\": \"training\", \"epoch\": 1, \"Meta\": \"training_data_iter\"}, \"Metrics\": {\"Total Records Seen\": {\"sum\": 96320.0, \"count\": 1, \"min\": 96320, \"max\": 96320}, \"Total Batches Seen\": {\"sum\": 48.0, \"count\": 1, \"min\": 48, \"max\": 48}, \"Max Records Seen Between Resets\": {\"sum\": 42031.0, \"count\": 1, \"min\": 42031, \"max\": 42031}, \"Max Batches Seen Between Resets\": {\"sum\": 21.0, \"count\": 1, \"min\": 21, \"max\": 21}, \"Reset Count\": {\"sum\": 4.0, \"count\": 1, \"min\": 4, \"max\": 4}, \"Number of Records Since Last Reset\": {\"sum\": 42031.0, \"count\": 1, \"min\": 42031, \"max\": 42031}, \"Number of Batches Since Last Reset\": {\"sum\": 21.0, \"count\": 1, \"min\": 21, \"max\": 21}}}\u001b[0m\n",
      "\u001b[34m[12/30/2021 18:17:11 INFO 140579261622080] #throughput_metric: host=algo-1, train throughput=182728.12037675263 records/second\u001b[0m\n",
      "\u001b[34m[2021-12-30 18:17:12.068] [tensorio] [info] epoch_stats={\"data_pipeline\": \"/opt/ml/input/data/train\", \"epoch\": 7, \"duration\": 89, \"num_examples\": 21, \"num_bytes\": 19670508}\u001b[0m\n",
      "\u001b[34m#metrics {\"StartTime\": 1640888232.068184, \"EndTime\": 1640888232.0682623, \"Dimensions\": {\"Algorithm\": \"Linear Learner\", \"Host\": \"algo-1\", \"Operation\": \"training\", \"epoch\": 2, \"model\": 0}, \"Metrics\": {\"train_binary_classification_cross_entropy_objective\": {\"sum\": 0.6785828861604412, \"count\": 1, \"min\": 0.6785828861604412, \"max\": 0.6785828861604412}}}\u001b[0m\n",
      "\u001b[34m[12/30/2021 18:17:12 INFO 140579261622080] #quality_metric: host=algo-1, epoch=2, train binary_classification_cross_entropy_objective <loss>=0.6785828861604412\u001b[0m\n",
      "\u001b[34m[2021-12-30 18:17:12.198] [tensorio] [info] epoch_stats={\"data_pipeline\": \"/opt/ml/input/data/validation\", \"epoch\": 8, \"duration\": 128, \"num_examples\": 11, \"num_bytes\": 9688536}\u001b[0m\n",
      "\u001b[34m#metrics {\"StartTime\": 1640888232.2161007, \"EndTime\": 1640888232.2161372, \"Dimensions\": {\"Algorithm\": \"Linear Learner\", \"Host\": \"algo-1\", \"Operation\": \"training\", \"epoch\": 2, \"model\": 0}, \"Metrics\": {\"validation_binary_classification_cross_entropy_objective\": {\"sum\": 0.6765345176421851, \"count\": 1, \"min\": 0.6765345176421851, \"max\": 0.6765345176421851}}}\u001b[0m\n",
      "\u001b[34m[12/30/2021 18:17:12 INFO 140579261622080] #quality_metric: host=algo-1, epoch=2, validation binary_classification_cross_entropy_objective <loss>=0.6765345176421851\u001b[0m\n",
      "\u001b[34m[12/30/2021 18:17:12 INFO 140579261622080] #early_stopping_criteria_metric: host=algo-1, epoch=2, criteria=sampled_accuracy, value=0.5901362187228307\u001b[0m\n",
      "\u001b[34m[12/30/2021 18:17:12 INFO 140579261622080] Epoch 2: Loss improved. Updating best model\u001b[0m\n",
      "\u001b[34m[12/30/2021 18:17:12 INFO 140579261622080] Saving model for epoch: 2\u001b[0m\n",
      "\u001b[34m[12/30/2021 18:17:12 INFO 140579261622080] Saved checkpoint to \"/tmp/tmp4zttuihe/mx-mod-0000.params\"\u001b[0m\n",
      "\u001b[34m[12/30/2021 18:17:12 INFO 140579261622080] #progress_metric: host=algo-1, completed 20.0 % of epochs\u001b[0m\n",
      "\u001b[34m#metrics {\"StartTime\": 1640888231.978317, \"EndTime\": 1640888232.2217073, \"Dimensions\": {\"Algorithm\": \"Linear Learner\", \"Host\": \"algo-1\", \"Operation\": \"training\", \"epoch\": 2, \"Meta\": \"training_data_iter\"}, \"Metrics\": {\"Total Records Seen\": {\"sum\": 138351.0, \"count\": 1, \"min\": 138351, \"max\": 138351}, \"Total Batches Seen\": {\"sum\": 69.0, \"count\": 1, \"min\": 69, \"max\": 69}, \"Max Records Seen Between Resets\": {\"sum\": 42031.0, \"count\": 1, \"min\": 42031, \"max\": 42031}, \"Max Batches Seen Between Resets\": {\"sum\": 21.0, \"count\": 1, \"min\": 21, \"max\": 21}, \"Reset Count\": {\"sum\": 5.0, \"count\": 1, \"min\": 5, \"max\": 5}, \"Number of Records Since Last Reset\": {\"sum\": 42031.0, \"count\": 1, \"min\": 42031, \"max\": 42031}, \"Number of Batches Since Last Reset\": {\"sum\": 21.0, \"count\": 1, \"min\": 21, \"max\": 21}}}\u001b[0m\n",
      "\u001b[34m[12/30/2021 18:17:12 INFO 140579261622080] #throughput_metric: host=algo-1, train throughput=172591.2969733757 records/second\u001b[0m\n",
      "\u001b[34m[2021-12-30 18:17:12.298] [tensorio] [info] epoch_stats={\"data_pipeline\": \"/opt/ml/input/data/train\", \"epoch\": 9, \"duration\": 75, \"num_examples\": 21, \"num_bytes\": 19670508}\u001b[0m\n",
      "\u001b[34m#metrics {\"StartTime\": 1640888232.298665, \"EndTime\": 1640888232.2987134, \"Dimensions\": {\"Algorithm\": \"Linear Learner\", \"Host\": \"algo-1\", \"Operation\": \"training\", \"epoch\": 3, \"model\": 0}, \"Metrics\": {\"train_binary_classification_cross_entropy_objective\": {\"sum\": 0.674701829967228, \"count\": 1, \"min\": 0.674701829967228, \"max\": 0.674701829967228}}}\u001b[0m\n",
      "\u001b[34m[12/30/2021 18:17:12 INFO 140579261622080] #quality_metric: host=algo-1, epoch=3, train binary_classification_cross_entropy_objective <loss>=0.674701829967228\u001b[0m\n",
      "\u001b[34m[2021-12-30 18:17:12.413] [tensorio] [info] epoch_stats={\"data_pipeline\": \"/opt/ml/input/data/validation\", \"epoch\": 11, \"duration\": 113, \"num_examples\": 11, \"num_bytes\": 9688536}\u001b[0m\n",
      "\u001b[34m#metrics {\"StartTime\": 1640888232.4301834, \"EndTime\": 1640888232.4302182, \"Dimensions\": {\"Algorithm\": \"Linear Learner\", \"Host\": \"algo-1\", \"Operation\": \"training\", \"epoch\": 3, \"model\": 0}, \"Metrics\": {\"validation_binary_classification_cross_entropy_objective\": {\"sum\": 0.6722188423870957, \"count\": 1, \"min\": 0.6722188423870957, \"max\": 0.6722188423870957}}}\u001b[0m\n",
      "\u001b[34m[12/30/2021 18:17:12 INFO 140579261622080] #quality_metric: host=algo-1, epoch=3, validation binary_classification_cross_entropy_objective <loss>=0.6722188423870957\u001b[0m\n",
      "\u001b[34m[12/30/2021 18:17:12 INFO 140579261622080] #early_stopping_criteria_metric: host=algo-1, epoch=3, criteria=sampled_accuracy, value=0.5972852864457561\u001b[0m\n",
      "\u001b[34m[12/30/2021 18:17:12 INFO 140579261622080] Epoch 3: Loss improved. Updating best model\u001b[0m\n",
      "\u001b[34m[12/30/2021 18:17:12 INFO 140579261622080] Saving model for epoch: 3\u001b[0m\n",
      "\u001b[34m[12/30/2021 18:17:12 INFO 140579261622080] Saved checkpoint to \"/tmp/tmpd651l36y/mx-mod-0000.params\"\u001b[0m\n",
      "\u001b[34m[12/30/2021 18:17:12 INFO 140579261622080] #progress_metric: host=algo-1, completed 26.666666666666668 % of epochs\u001b[0m\n",
      "\u001b[34m#metrics {\"StartTime\": 1640888232.222697, \"EndTime\": 1640888232.4352365, \"Dimensions\": {\"Algorithm\": \"Linear Learner\", \"Host\": \"algo-1\", \"Operation\": \"training\", \"epoch\": 3, \"Meta\": \"training_data_iter\"}, \"Metrics\": {\"Total Records Seen\": {\"sum\": 180382.0, \"count\": 1, \"min\": 180382, \"max\": 180382}, \"Total Batches Seen\": {\"sum\": 90.0, \"count\": 1, \"min\": 90, \"max\": 90}, \"Max Records Seen Between Resets\": {\"sum\": 42031.0, \"count\": 1, \"min\": 42031, \"max\": 42031}, \"Max Batches Seen Between Resets\": {\"sum\": 21.0, \"count\": 1, \"min\": 21, \"max\": 21}, \"Reset Count\": {\"sum\": 6.0, \"count\": 1, \"min\": 6, \"max\": 6}, \"Number of Records Since Last Reset\": {\"sum\": 42031.0, \"count\": 1, \"min\": 42031, \"max\": 42031}, \"Number of Batches Since Last Reset\": {\"sum\": 21.0, \"count\": 1, \"min\": 21, \"max\": 21}}}\u001b[0m\n",
      "\u001b[34m[12/30/2021 18:17:12 INFO 140579261622080] #throughput_metric: host=algo-1, train throughput=197628.991236832 records/second\u001b[0m\n",
      "\u001b[34m[2021-12-30 18:17:12.523] [tensorio] [info] epoch_stats={\"data_pipeline\": \"/opt/ml/input/data/train\", \"epoch\": 11, \"duration\": 87, \"num_examples\": 21, \"num_bytes\": 19670508}\u001b[0m\n",
      "\u001b[34m#metrics {\"StartTime\": 1640888232.5239058, \"EndTime\": 1640888232.5239651, \"Dimensions\": {\"Algorithm\": \"Linear Learner\", \"Host\": \"algo-1\", \"Operation\": \"training\", \"epoch\": 4, \"model\": 0}, \"Metrics\": {\"train_binary_classification_cross_entropy_objective\": {\"sum\": 0.6734590520125887, \"count\": 1, \"min\": 0.6734590520125887, \"max\": 0.6734590520125887}}}\u001b[0m\n",
      "\u001b[34m[12/30/2021 18:17:12 INFO 140579261622080] #quality_metric: host=algo-1, epoch=4, train binary_classification_cross_entropy_objective <loss>=0.6734590520125887\u001b[0m\n",
      "\u001b[34m[2021-12-30 18:17:12.658] [tensorio] [info] epoch_stats={\"data_pipeline\": \"/opt/ml/input/data/validation\", \"epoch\": 14, \"duration\": 132, \"num_examples\": 11, \"num_bytes\": 9688536}\u001b[0m\n",
      "\u001b[34m#metrics {\"StartTime\": 1640888232.6846535, \"EndTime\": 1640888232.6847146, \"Dimensions\": {\"Algorithm\": \"Linear Learner\", \"Host\": \"algo-1\", \"Operation\": \"training\", \"epoch\": 4, \"model\": 0}, \"Metrics\": {\"validation_binary_classification_cross_entropy_objective\": {\"sum\": 0.6732922025998771, \"count\": 1, \"min\": 0.6732922025998771, \"max\": 0.6732922025998771}}}\u001b[0m\n",
      "\u001b[34m[12/30/2021 18:17:12 INFO 140579261622080] #quality_metric: host=algo-1, epoch=4, validation binary_classification_cross_entropy_objective <loss>=0.6732922025998771\u001b[0m\n",
      "\u001b[34m[12/30/2021 18:17:12 INFO 140579261622080] #early_stopping_criteria_metric: host=algo-1, epoch=4, criteria=sampled_accuracy, value=0.5993623804463357\u001b[0m\n",
      "\u001b[34m[12/30/2021 18:17:12 INFO 140579261622080] Epoch 4: Loss improved. Updating best model\u001b[0m\n",
      "\u001b[34m[12/30/2021 18:17:12 INFO 140579261622080] Saving model for epoch: 4\u001b[0m\n",
      "\u001b[34m[12/30/2021 18:17:12 INFO 140579261622080] Saved checkpoint to \"/tmp/tmpqmup4px6/mx-mod-0000.params\"\u001b[0m\n",
      "\u001b[34m[12/30/2021 18:17:12 INFO 140579261622080] #progress_metric: host=algo-1, completed 33.333333333333336 % of epochs\u001b[0m\n",
      "\u001b[34m#metrics {\"StartTime\": 1640888232.4359188, \"EndTime\": 1640888232.6920042, \"Dimensions\": {\"Algorithm\": \"Linear Learner\", \"Host\": \"algo-1\", \"Operation\": \"training\", \"epoch\": 4, \"Meta\": \"training_data_iter\"}, \"Metrics\": {\"Total Records Seen\": {\"sum\": 222413.0, \"count\": 1, \"min\": 222413, \"max\": 222413}, \"Total Batches Seen\": {\"sum\": 111.0, \"count\": 1, \"min\": 111, \"max\": 111}, \"Max Records Seen Between Resets\": {\"sum\": 42031.0, \"count\": 1, \"min\": 42031, \"max\": 42031}, \"Max Batches Seen Between Resets\": {\"sum\": 21.0, \"count\": 1, \"min\": 21, \"max\": 21}, \"Reset Count\": {\"sum\": 7.0, \"count\": 1, \"min\": 7, \"max\": 7}, \"Number of Records Since Last Reset\": {\"sum\": 42031.0, \"count\": 1, \"min\": 42031, \"max\": 42031}, \"Number of Batches Since Last Reset\": {\"sum\": 21.0, \"count\": 1, \"min\": 21, \"max\": 21}}}\u001b[0m\n",
      "\u001b[34m[12/30/2021 18:17:12 INFO 140579261622080] #throughput_metric: host=algo-1, train throughput=164045.91238578764 records/second\u001b[0m\n",
      "\u001b[34m[2021-12-30 18:17:12.787] [tensorio] [info] epoch_stats={\"data_pipeline\": \"/opt/ml/input/data/train\", \"epoch\": 13, \"duration\": 94, \"num_examples\": 21, \"num_bytes\": 19670508}\u001b[0m\n",
      "\u001b[34m#metrics {\"StartTime\": 1640888232.7876577, \"EndTime\": 1640888232.787717, \"Dimensions\": {\"Algorithm\": \"Linear Learner\", \"Host\": \"algo-1\", \"Operation\": \"training\", \"epoch\": 5, \"model\": 0}, \"Metrics\": {\"train_binary_classification_cross_entropy_objective\": {\"sum\": 0.6731937238531724, \"count\": 1, \"min\": 0.6731937238531724, \"max\": 0.6731937238531724}}}\u001b[0m\n",
      "\u001b[34m[12/30/2021 18:17:12 INFO 140579261622080] #quality_metric: host=algo-1, epoch=5, train binary_classification_cross_entropy_objective <loss>=0.6731937238531724\u001b[0m\n",
      "\u001b[34m[2021-12-30 18:17:12.973] [tensorio] [info] epoch_stats={\"data_pipeline\": \"/opt/ml/input/data/validation\", \"epoch\": 17, \"duration\": 184, \"num_examples\": 11, \"num_bytes\": 9688536}\u001b[0m\n",
      "\u001b[34m#metrics {\"StartTime\": 1640888233.0025616, \"EndTime\": 1640888233.0026333, \"Dimensions\": {\"Algorithm\": \"Linear Learner\", \"Host\": \"algo-1\", \"Operation\": \"training\", \"epoch\": 5, \"model\": 0}, \"Metrics\": {\"validation_binary_classification_cross_entropy_objective\": {\"sum\": 0.6732082195574967, \"count\": 1, \"min\": 0.6732082195574967, \"max\": 0.6732082195574967}}}\u001b[0m\n",
      "\u001b[34m[12/30/2021 18:17:13 INFO 140579261622080] #quality_metric: host=algo-1, epoch=5, validation binary_classification_cross_entropy_objective <loss>=0.6732082195574967\u001b[0m\n",
      "\u001b[34m[12/30/2021 18:17:13 INFO 140579261622080] #early_stopping_criteria_metric: host=algo-1, epoch=5, criteria=sampled_accuracy, value=0.6037580910057019\u001b[0m\n",
      "\u001b[34m[12/30/2021 18:17:13 INFO 140579261622080] Epoch 5: Loss improved. Updating best model\u001b[0m\n",
      "\u001b[34m[12/30/2021 18:17:13 INFO 140579261622080] Saving model for epoch: 5\u001b[0m\n",
      "\u001b[34m[12/30/2021 18:17:13 INFO 140579261622080] Saved checkpoint to \"/tmp/tmp2t7lct6c/mx-mod-0000.params\"\u001b[0m\n",
      "\u001b[34m[12/30/2021 18:17:13 INFO 140579261622080] #progress_metric: host=algo-1, completed 40.0 % of epochs\u001b[0m\n",
      "\u001b[34m#metrics {\"StartTime\": 1640888232.6927314, \"EndTime\": 1640888233.0108693, \"Dimensions\": {\"Algorithm\": \"Linear Learner\", \"Host\": \"algo-1\", \"Operation\": \"training\", \"epoch\": 5, \"Meta\": \"training_data_iter\"}, \"Metrics\": {\"Total Records Seen\": {\"sum\": 264444.0, \"count\": 1, \"min\": 264444, \"max\": 264444}, \"Total Batches Seen\": {\"sum\": 132.0, \"count\": 1, \"min\": 132, \"max\": 132}, \"Max Records Seen Between Resets\": {\"sum\": 42031.0, \"count\": 1, \"min\": 42031, \"max\": 42031}, \"Max Batches Seen Between Resets\": {\"sum\": 21.0, \"count\": 1, \"min\": 21, \"max\": 21}, \"Reset Count\": {\"sum\": 8.0, \"count\": 1, \"min\": 8, \"max\": 8}, \"Number of Records Since Last Reset\": {\"sum\": 42031.0, \"count\": 1, \"min\": 42031, \"max\": 42031}, \"Number of Batches Since Last Reset\": {\"sum\": 21.0, \"count\": 1, \"min\": 21, \"max\": 21}}}\u001b[0m\n",
      "\u001b[34m[12/30/2021 18:17:13 INFO 140579261622080] #throughput_metric: host=algo-1, train throughput=132056.39051781094 records/second\u001b[0m\n",
      "\u001b[34m[2021-12-30 18:17:13.127] [tensorio] [info] epoch_stats={\"data_pipeline\": \"/opt/ml/input/data/train\", \"epoch\": 15, \"duration\": 115, \"num_examples\": 21, \"num_bytes\": 19670508}\u001b[0m\n",
      "\u001b[34m#metrics {\"StartTime\": 1640888233.1277478, \"EndTime\": 1640888233.1279383, \"Dimensions\": {\"Algorithm\": \"Linear Learner\", \"Host\": \"algo-1\", \"Operation\": \"training\", \"epoch\": 6, \"model\": 0}, \"Metrics\": {\"train_binary_classification_cross_entropy_objective\": {\"sum\": 0.6732691140718688, \"count\": 1, \"min\": 0.6732691140718688, \"max\": 0.6732691140718688}}}\u001b[0m\n",
      "\u001b[34m[12/30/2021 18:17:13 INFO 140579261622080] #quality_metric: host=algo-1, epoch=6, train binary_classification_cross_entropy_objective <loss>=0.6732691140718688\u001b[0m\n",
      "\u001b[34m[2021-12-30 18:17:13.283] [tensorio] [info] epoch_stats={\"data_pipeline\": \"/opt/ml/input/data/validation\", \"epoch\": 20, \"duration\": 152, \"num_examples\": 11, \"num_bytes\": 9688536}\u001b[0m\n",
      "\u001b[34m#metrics {\"StartTime\": 1640888233.3060534, \"EndTime\": 1640888233.3060968, \"Dimensions\": {\"Algorithm\": \"Linear Learner\", \"Host\": \"algo-1\", \"Operation\": \"training\", \"epoch\": 6, \"model\": 0}, \"Metrics\": {\"validation_binary_classification_cross_entropy_objective\": {\"sum\": 0.6727903931973096, \"count\": 1, \"min\": 0.6727903931973096, \"max\": 0.6727903931973096}}}\u001b[0m\n",
      "\u001b[34m[12/30/2021 18:17:13 INFO 140579261622080] #quality_metric: host=algo-1, epoch=6, validation binary_classification_cross_entropy_objective <loss>=0.6727903931973096\u001b[0m\n",
      "\u001b[34m[12/30/2021 18:17:13 INFO 140579261622080] #early_stopping_criteria_metric: host=algo-1, epoch=6, criteria=sampled_accuracy, value=0.6041928316104744\u001b[0m\n",
      "\u001b[34m[12/30/2021 18:17:13 INFO 140579261622080] Epoch 6: Loss improved. Updating best model\u001b[0m\n",
      "\u001b[34m[12/30/2021 18:17:13 INFO 140579261622080] Saving model for epoch: 6\u001b[0m\n",
      "\u001b[34m[12/30/2021 18:17:13 INFO 140579261622080] Saved checkpoint to \"/tmp/tmppwfstdw7/mx-mod-0000.params\"\u001b[0m\n",
      "\u001b[34m[12/30/2021 18:17:13 INFO 140579261622080] #progress_metric: host=algo-1, completed 46.666666666666664 % of epochs\u001b[0m\n",
      "\u001b[34m#metrics {\"StartTime\": 1640888233.0118887, \"EndTime\": 1640888233.3121073, \"Dimensions\": {\"Algorithm\": \"Linear Learner\", \"Host\": \"algo-1\", \"Operation\": \"training\", \"epoch\": 6, \"Meta\": \"training_data_iter\"}, \"Metrics\": {\"Total Records Seen\": {\"sum\": 306475.0, \"count\": 1, \"min\": 306475, \"max\": 306475}, \"Total Batches Seen\": {\"sum\": 153.0, \"count\": 1, \"min\": 153, \"max\": 153}, \"Max Records Seen Between Resets\": {\"sum\": 42031.0, \"count\": 1, \"min\": 42031, \"max\": 42031}, \"Max Batches Seen Between Resets\": {\"sum\": 21.0, \"count\": 1, \"min\": 21, \"max\": 21}, \"Reset Count\": {\"sum\": 9.0, \"count\": 1, \"min\": 9, \"max\": 9}, \"Number of Records Since Last Reset\": {\"sum\": 42031.0, \"count\": 1, \"min\": 42031, \"max\": 42031}, \"Number of Batches Since Last Reset\": {\"sum\": 21.0, \"count\": 1, \"min\": 21, \"max\": 21}}}\u001b[0m\n",
      "\u001b[34m[12/30/2021 18:17:13 INFO 140579261622080] #throughput_metric: host=algo-1, train throughput=139944.86965633524 records/second\u001b[0m\n",
      "\u001b[34m[2021-12-30 18:17:13.453] [tensorio] [info] epoch_stats={\"data_pipeline\": \"/opt/ml/input/data/train\", \"epoch\": 17, \"duration\": 141, \"num_examples\": 21, \"num_bytes\": 19670508}\u001b[0m\n",
      "\u001b[34m#metrics {\"StartTime\": 1640888233.4540448, \"EndTime\": 1640888233.4541082, \"Dimensions\": {\"Algorithm\": \"Linear Learner\", \"Host\": \"algo-1\", \"Operation\": \"training\", \"epoch\": 7, \"model\": 0}, \"Metrics\": {\"train_binary_classification_cross_entropy_objective\": {\"sum\": 0.6735960539800538, \"count\": 1, \"min\": 0.6735960539800538, \"max\": 0.6735960539800538}}}\u001b[0m\n",
      "\u001b[34m[12/30/2021 18:17:13 INFO 140579261622080] #quality_metric: host=algo-1, epoch=7, train binary_classification_cross_entropy_objective <loss>=0.6735960539800538\u001b[0m\n",
      "\u001b[34m[2021-12-30 18:17:13.593] [tensorio] [info] epoch_stats={\"data_pipeline\": \"/opt/ml/input/data/validation\", \"epoch\": 23, \"duration\": 137, \"num_examples\": 11, \"num_bytes\": 9688536}\u001b[0m\n",
      "\u001b[34m#metrics {\"StartTime\": 1640888233.6118333, \"EndTime\": 1640888233.6118803, \"Dimensions\": {\"Algorithm\": \"Linear Learner\", \"Host\": \"algo-1\", \"Operation\": \"training\", \"epoch\": 7, \"model\": 0}, \"Metrics\": {\"validation_binary_classification_cross_entropy_objective\": {\"sum\": 0.6724713052508797, \"count\": 1, \"min\": 0.6724713052508797, \"max\": 0.6724713052508797}}}\u001b[0m\n",
      "\u001b[34m[12/30/2021 18:17:13 INFO 140579261622080] #quality_metric: host=algo-1, epoch=7, validation binary_classification_cross_entropy_objective <loss>=0.6724713052508797\u001b[0m\n",
      "\u001b[34m[12/30/2021 18:17:13 INFO 140579261622080] #early_stopping_criteria_metric: host=algo-1, epoch=7, criteria=sampled_accuracy, value=0.6034199594242122\u001b[0m\n",
      "\u001b[34m[12/30/2021 18:17:13 INFO 140579261622080] Epoch 7: Loss improved. Updating best model\u001b[0m\n",
      "\u001b[34m[12/30/2021 18:17:13 INFO 140579261622080] Saving model for epoch: 7\u001b[0m\n",
      "\u001b[34m[12/30/2021 18:17:13 INFO 140579261622080] Saved checkpoint to \"/tmp/tmp7dd8xskc/mx-mod-0000.params\"\u001b[0m\n",
      "\u001b[34m[12/30/2021 18:17:13 INFO 140579261622080] #progress_metric: host=algo-1, completed 53.333333333333336 % of epochs\u001b[0m\n",
      "\u001b[34m#metrics {\"StartTime\": 1640888233.3127658, \"EndTime\": 1640888233.6176708, \"Dimensions\": {\"Algorithm\": \"Linear Learner\", \"Host\": \"algo-1\", \"Operation\": \"training\", \"epoch\": 7, \"Meta\": \"training_data_iter\"}, \"Metrics\": {\"Total Records Seen\": {\"sum\": 348506.0, \"count\": 1, \"min\": 348506, \"max\": 348506}, \"Total Batches Seen\": {\"sum\": 174.0, \"count\": 1, \"min\": 174, \"max\": 174}, \"Max Records Seen Between Resets\": {\"sum\": 42031.0, \"count\": 1, \"min\": 42031, \"max\": 42031}, \"Max Batches Seen Between Resets\": {\"sum\": 21.0, \"count\": 1, \"min\": 21, \"max\": 21}, \"Reset Count\": {\"sum\": 10.0, \"count\": 1, \"min\": 10, \"max\": 10}, \"Number of Records Since Last Reset\": {\"sum\": 42031.0, \"count\": 1, \"min\": 42031, \"max\": 42031}, \"Number of Batches Since Last Reset\": {\"sum\": 21.0, \"count\": 1, \"min\": 21, \"max\": 21}}}\u001b[0m\n",
      "\u001b[34m[12/30/2021 18:17:13 INFO 140579261622080] #throughput_metric: host=algo-1, train throughput=137786.49357965813 records/second\u001b[0m\n",
      "\u001b[34m[2021-12-30 18:17:13.728] [tensorio] [info] epoch_stats={\"data_pipeline\": \"/opt/ml/input/data/train\", \"epoch\": 19, \"duration\": 109, \"num_examples\": 21, \"num_bytes\": 19670508}\u001b[0m\n",
      "\u001b[34m#metrics {\"StartTime\": 1640888233.7281365, \"EndTime\": 1640888233.728194, \"Dimensions\": {\"Algorithm\": \"Linear Learner\", \"Host\": \"algo-1\", \"Operation\": \"training\", \"epoch\": 8, \"model\": 0}, \"Metrics\": {\"train_binary_classification_cross_entropy_objective\": {\"sum\": 0.6737169681199905, \"count\": 1, \"min\": 0.6737169681199905, \"max\": 0.6737169681199905}}}\u001b[0m\n",
      "\u001b[34m[12/30/2021 18:17:13 INFO 140579261622080] #quality_metric: host=algo-1, epoch=8, train binary_classification_cross_entropy_objective <loss>=0.6737169681199905\u001b[0m\n",
      "\u001b[34m[2021-12-30 18:17:13.867] [tensorio] [info] epoch_stats={\"data_pipeline\": \"/opt/ml/input/data/validation\", \"epoch\": 26, \"duration\": 137, \"num_examples\": 11, \"num_bytes\": 9688536}\u001b[0m\n",
      "\u001b[34m#metrics {\"StartTime\": 1640888233.8933651, \"EndTime\": 1640888233.8934307, \"Dimensions\": {\"Algorithm\": \"Linear Learner\", \"Host\": \"algo-1\", \"Operation\": \"training\", \"epoch\": 8, \"model\": 0}, \"Metrics\": {\"validation_binary_classification_cross_entropy_objective\": {\"sum\": 0.6730413354890794, \"count\": 1, \"min\": 0.6730413354890794, \"max\": 0.6730413354890794}}}\u001b[0m\n",
      "\u001b[34m[12/30/2021 18:17:13 INFO 140579261622080] #quality_metric: host=algo-1, epoch=8, validation binary_classification_cross_entropy_objective <loss>=0.6730413354890794\u001b[0m\n",
      "\u001b[34m[12/30/2021 18:17:13 INFO 140579261622080] #early_stopping_criteria_metric: host=algo-1, epoch=8, criteria=sampled_accuracy, value=0.6028886097961569\u001b[0m\n",
      "\u001b[34m[12/30/2021 18:17:13 INFO 140579261622080] Epoch 8: Loss improved. Updating best model\u001b[0m\n",
      "\u001b[34m[12/30/2021 18:17:13 INFO 140579261622080] Saving model for epoch: 8\u001b[0m\n",
      "\u001b[34m[12/30/2021 18:17:13 INFO 140579261622080] Saved checkpoint to \"/tmp/tmp39xrdsli/mx-mod-0000.params\"\u001b[0m\n",
      "\u001b[34m[12/30/2021 18:17:13 INFO 140579261622080] #progress_metric: host=algo-1, completed 60.0 % of epochs\u001b[0m\n",
      "\u001b[34m#metrics {\"StartTime\": 1640888233.6184185, \"EndTime\": 1640888233.9010842, \"Dimensions\": {\"Algorithm\": \"Linear Learner\", \"Host\": \"algo-1\", \"Operation\": \"training\", \"epoch\": 8, \"Meta\": \"training_data_iter\"}, \"Metrics\": {\"Total Records Seen\": {\"sum\": 390537.0, \"count\": 1, \"min\": 390537, \"max\": 390537}, \"Total Batches Seen\": {\"sum\": 195.0, \"count\": 1, \"min\": 195, \"max\": 195}, \"Max Records Seen Between Resets\": {\"sum\": 42031.0, \"count\": 1, \"min\": 42031, \"max\": 42031}, \"Max Batches Seen Between Resets\": {\"sum\": 21.0, \"count\": 1, \"min\": 21, \"max\": 21}, \"Reset Count\": {\"sum\": 11.0, \"count\": 1, \"min\": 11, \"max\": 11}, \"Number of Records Since Last Reset\": {\"sum\": 42031.0, \"count\": 1, \"min\": 42031, \"max\": 42031}, \"Number of Batches Since Last Reset\": {\"sum\": 21.0, \"count\": 1, \"min\": 21, \"max\": 21}}}\u001b[0m\n",
      "\u001b[34m[12/30/2021 18:17:13 INFO 140579261622080] #throughput_metric: host=algo-1, train throughput=148616.3469862942 records/second\u001b[0m\n",
      "\u001b[34m[2021-12-30 18:17:14.021] [tensorio] [info] epoch_stats={\"data_pipeline\": \"/opt/ml/input/data/train\", \"epoch\": 21, \"duration\": 119, \"num_examples\": 21, \"num_bytes\": 19670508}\u001b[0m\n",
      "\u001b[34m#metrics {\"StartTime\": 1640888234.0220568, \"EndTime\": 1640888234.0221465, \"Dimensions\": {\"Algorithm\": \"Linear Learner\", \"Host\": \"algo-1\", \"Operation\": \"training\", \"epoch\": 9, \"model\": 0}, \"Metrics\": {\"train_binary_classification_cross_entropy_objective\": {\"sum\": 0.6736569845728937, \"count\": 1, \"min\": 0.6736569845728937, \"max\": 0.6736569845728937}}}\u001b[0m\n",
      "\u001b[34m[12/30/2021 18:17:14 INFO 140579261622080] #quality_metric: host=algo-1, epoch=9, train binary_classification_cross_entropy_objective <loss>=0.6736569845728937\u001b[0m\n",
      "\u001b[34m[2021-12-30 18:17:14.176] [tensorio] [info] epoch_stats={\"data_pipeline\": \"/opt/ml/input/data/validation\", \"epoch\": 29, \"duration\": 152, \"num_examples\": 11, \"num_bytes\": 9688536}\u001b[0m\n",
      "\u001b[34m#metrics {\"StartTime\": 1640888234.2021353, \"EndTime\": 1640888234.202182, \"Dimensions\": {\"Algorithm\": \"Linear Learner\", \"Host\": \"algo-1\", \"Operation\": \"training\", \"epoch\": 9, \"model\": 0}, \"Metrics\": {\"validation_binary_classification_cross_entropy_objective\": {\"sum\": 0.6728591027092604, \"count\": 1, \"min\": 0.6728591027092604, \"max\": 0.6728591027092604}}}\u001b[0m\n",
      "\u001b[34m[12/30/2021 18:17:14 INFO 140579261622080] #quality_metric: host=algo-1, epoch=9, validation binary_classification_cross_entropy_objective <loss>=0.6728591027092604\u001b[0m\n",
      "\u001b[34m[12/30/2021 18:17:14 INFO 140579261622080] #early_stopping_criteria_metric: host=algo-1, epoch=9, criteria=sampled_accuracy, value=0.6030818278427225\u001b[0m\n",
      "\u001b[34m[12/30/2021 18:17:14 INFO 140579261622080] Epoch 9: Loss improved. Updating best model\u001b[0m\n",
      "\u001b[34m[12/30/2021 18:17:14 INFO 140579261622080] Saving model for epoch: 9\u001b[0m\n",
      "\u001b[34m[12/30/2021 18:17:14 INFO 140579261622080] Saved checkpoint to \"/tmp/tmp39r9egto/mx-mod-0000.params\"\u001b[0m\n",
      "\u001b[34m[12/30/2021 18:17:14 INFO 140579261622080] #progress_metric: host=algo-1, completed 66.66666666666667 % of epochs\u001b[0m\n",
      "\u001b[34m#metrics {\"StartTime\": 1640888233.9021997, \"EndTime\": 1640888234.2097073, \"Dimensions\": {\"Algorithm\": \"Linear Learner\", \"Host\": \"algo-1\", \"Operation\": \"training\", \"epoch\": 9, \"Meta\": \"training_data_iter\"}, \"Metrics\": {\"Total Records Seen\": {\"sum\": 432568.0, \"count\": 1, \"min\": 432568, \"max\": 432568}, \"Total Batches Seen\": {\"sum\": 216.0, \"count\": 1, \"min\": 216, \"max\": 216}, \"Max Records Seen Between Resets\": {\"sum\": 42031.0, \"count\": 1, \"min\": 42031, \"max\": 42031}, \"Max Batches Seen Between Resets\": {\"sum\": 21.0, \"count\": 1, \"min\": 21, \"max\": 21}, \"Reset Count\": {\"sum\": 12.0, \"count\": 1, \"min\": 12, \"max\": 12}, \"Number of Records Since Last Reset\": {\"sum\": 42031.0, \"count\": 1, \"min\": 42031, \"max\": 42031}, \"Number of Batches Since Last Reset\": {\"sum\": 21.0, \"count\": 1, \"min\": 21, \"max\": 21}}}\u001b[0m\n",
      "\u001b[34m[12/30/2021 18:17:14 INFO 140579261622080] #throughput_metric: host=algo-1, train throughput=136612.71984637823 records/second\u001b[0m\n",
      "\u001b[34m[2021-12-30 18:17:14.327] [tensorio] [info] epoch_stats={\"data_pipeline\": \"/opt/ml/input/data/train\", \"epoch\": 23, \"duration\": 116, \"num_examples\": 21, \"num_bytes\": 19670508}\u001b[0m\n",
      "\u001b[34m#metrics {\"StartTime\": 1640888234.3277726, \"EndTime\": 1640888234.3278527, \"Dimensions\": {\"Algorithm\": \"Linear Learner\", \"Host\": \"algo-1\", \"Operation\": \"training\", \"epoch\": 10, \"model\": 0}, \"Metrics\": {\"train_binary_classification_cross_entropy_objective\": {\"sum\": 0.673758417055762, \"count\": 1, \"min\": 0.673758417055762, \"max\": 0.673758417055762}}}\u001b[0m\n",
      "\u001b[34m[12/30/2021 18:17:14 INFO 140579261622080] #quality_metric: host=algo-1, epoch=10, train binary_classification_cross_entropy_objective <loss>=0.673758417055762\u001b[0m\n",
      "\u001b[34m[2021-12-30 18:17:14.466] [tensorio] [info] epoch_stats={\"data_pipeline\": \"/opt/ml/input/data/validation\", \"epoch\": 32, \"duration\": 137, \"num_examples\": 11, \"num_bytes\": 9688536}\u001b[0m\n",
      "\u001b[34m#metrics {\"StartTime\": 1640888234.4903066, \"EndTime\": 1640888234.4903743, \"Dimensions\": {\"Algorithm\": \"Linear Learner\", \"Host\": \"algo-1\", \"Operation\": \"training\", \"epoch\": 10, \"model\": 0}, \"Metrics\": {\"validation_binary_classification_cross_entropy_objective\": {\"sum\": 0.6725366677354354, \"count\": 1, \"min\": 0.6725366677354354, \"max\": 0.6725366677354354}}}\u001b[0m\n",
      "\u001b[34m[12/30/2021 18:17:14 INFO 140579261622080] #quality_metric: host=algo-1, epoch=10, validation binary_classification_cross_entropy_objective <loss>=0.6725366677354354\u001b[0m\n",
      "\u001b[34m[12/30/2021 18:17:14 INFO 140579261622080] #early_stopping_criteria_metric: host=algo-1, epoch=10, criteria=sampled_accuracy, value=0.6039030045406261\u001b[0m\n",
      "\u001b[34m[12/30/2021 18:17:14 INFO 140579261622080] Epoch 10: Loss improved. Updating best model\u001b[0m\n",
      "\u001b[34m[12/30/2021 18:17:14 INFO 140579261622080] Saving model for epoch: 10\u001b[0m\n",
      "\u001b[34m[12/30/2021 18:17:14 INFO 140579261622080] Saved checkpoint to \"/tmp/tmpg87e19w8/mx-mod-0000.params\"\u001b[0m\n",
      "\u001b[34m[12/30/2021 18:17:14 INFO 140579261622080] #progress_metric: host=algo-1, completed 73.33333333333333 % of epochs\u001b[0m\n",
      "\u001b[34m#metrics {\"StartTime\": 1640888234.2107055, \"EndTime\": 1640888234.4968343, \"Dimensions\": {\"Algorithm\": \"Linear Learner\", \"Host\": \"algo-1\", \"Operation\": \"training\", \"epoch\": 10, \"Meta\": \"training_data_iter\"}, \"Metrics\": {\"Total Records Seen\": {\"sum\": 474599.0, \"count\": 1, \"min\": 474599, \"max\": 474599}, \"Total Batches Seen\": {\"sum\": 237.0, \"count\": 1, \"min\": 237, \"max\": 237}, \"Max Records Seen Between Resets\": {\"sum\": 42031.0, \"count\": 1, \"min\": 42031, \"max\": 42031}, \"Max Batches Seen Between Resets\": {\"sum\": 21.0, \"count\": 1, \"min\": 21, \"max\": 21}, \"Reset Count\": {\"sum\": 13.0, \"count\": 1, \"min\": 13, \"max\": 13}, \"Number of Records Since Last Reset\": {\"sum\": 42031.0, \"count\": 1, \"min\": 42031, \"max\": 42031}, \"Number of Batches Since Last Reset\": {\"sum\": 21.0, \"count\": 1, \"min\": 21, \"max\": 21}}}\u001b[0m\n",
      "\u001b[34m[12/30/2021 18:17:14 INFO 140579261622080] #throughput_metric: host=algo-1, train throughput=146813.56403670946 records/second\u001b[0m\n",
      "\u001b[34m[2021-12-30 18:17:14.622] [tensorio] [info] epoch_stats={\"data_pipeline\": \"/opt/ml/input/data/train\", \"epoch\": 25, \"duration\": 121, \"num_examples\": 21, \"num_bytes\": 19670508}\u001b[0m\n",
      "\u001b[34m#metrics {\"StartTime\": 1640888234.6223943, \"EndTime\": 1640888234.622455, \"Dimensions\": {\"Algorithm\": \"Linear Learner\", \"Host\": \"algo-1\", \"Operation\": \"training\", \"epoch\": 11, \"model\": 0}, \"Metrics\": {\"train_binary_classification_cross_entropy_objective\": {\"sum\": 0.6740410400032122, \"count\": 1, \"min\": 0.6740410400032122, \"max\": 0.6740410400032122}}}\u001b[0m\n",
      "\u001b[34m[12/30/2021 18:17:14 INFO 140579261622080] #quality_metric: host=algo-1, epoch=11, train binary_classification_cross_entropy_objective <loss>=0.6740410400032122\u001b[0m\n",
      "\u001b[34m[2021-12-30 18:17:14.751] [tensorio] [info] epoch_stats={\"data_pipeline\": \"/opt/ml/input/data/validation\", \"epoch\": 35, \"duration\": 127, \"num_examples\": 11, \"num_bytes\": 9688536}\u001b[0m\n",
      "\u001b[34m#metrics {\"StartTime\": 1640888234.768315, \"EndTime\": 1640888234.7683532, \"Dimensions\": {\"Algorithm\": \"Linear Learner\", \"Host\": \"algo-1\", \"Operation\": \"training\", \"epoch\": 11, \"model\": 0}, \"Metrics\": {\"validation_binary_classification_cross_entropy_objective\": {\"sum\": 0.6724446167428532, \"count\": 1, \"min\": 0.6724446167428532, \"max\": 0.6724446167428532}}}\u001b[0m\n",
      "\u001b[34m[12/30/2021 18:17:14 INFO 140579261622080] #quality_metric: host=algo-1, epoch=11, validation binary_classification_cross_entropy_objective <loss>=0.6724446167428532\u001b[0m\n",
      "\u001b[34m[12/30/2021 18:17:14 INFO 140579261622080] #early_stopping_criteria_metric: host=algo-1, epoch=11, criteria=sampled_accuracy, value=0.6040962225871916\u001b[0m\n",
      "\u001b[34m[12/30/2021 18:17:14 INFO 140579261622080] Epoch 11: Loss improved. Updating best model\u001b[0m\n",
      "\u001b[34m[12/30/2021 18:17:14 INFO 140579261622080] Saving model for epoch: 11\u001b[0m\n",
      "\u001b[34m[12/30/2021 18:17:14 INFO 140579261622080] Saved checkpoint to \"/tmp/tmpc45ouxzc/mx-mod-0000.params\"\u001b[0m\n",
      "\u001b[34m[12/30/2021 18:17:14 INFO 140579261622080] #progress_metric: host=algo-1, completed 80.0 % of epochs\u001b[0m\n",
      "\u001b[34m#metrics {\"StartTime\": 1640888234.497713, \"EndTime\": 1640888234.7734604, \"Dimensions\": {\"Algorithm\": \"Linear Learner\", \"Host\": \"algo-1\", \"Operation\": \"training\", \"epoch\": 11, \"Meta\": \"training_data_iter\"}, \"Metrics\": {\"Total Records Seen\": {\"sum\": 516630.0, \"count\": 1, \"min\": 516630, \"max\": 516630}, \"Total Batches Seen\": {\"sum\": 258.0, \"count\": 1, \"min\": 258, \"max\": 258}, \"Max Records Seen Between Resets\": {\"sum\": 42031.0, \"count\": 1, \"min\": 42031, \"max\": 42031}, \"Max Batches Seen Between Resets\": {\"sum\": 21.0, \"count\": 1, \"min\": 21, \"max\": 21}, \"Reset Count\": {\"sum\": 14.0, \"count\": 1, \"min\": 14, \"max\": 14}, \"Number of Records Since Last Reset\": {\"sum\": 42031.0, \"count\": 1, \"min\": 42031, \"max\": 42031}, \"Number of Batches Since Last Reset\": {\"sum\": 21.0, \"count\": 1, \"min\": 21, \"max\": 21}}}\u001b[0m\n",
      "\u001b[34m[12/30/2021 18:17:14 INFO 140579261622080] #throughput_metric: host=algo-1, train throughput=152344.78161535383 records/second\u001b[0m\n",
      "\u001b[34m[2021-12-30 18:17:14.864] [tensorio] [info] epoch_stats={\"data_pipeline\": \"/opt/ml/input/data/train\", \"epoch\": 27, \"duration\": 89, \"num_examples\": 21, \"num_bytes\": 19670508}\u001b[0m\n",
      "\u001b[34m#metrics {\"StartTime\": 1640888234.864112, \"EndTime\": 1640888234.8641672, \"Dimensions\": {\"Algorithm\": \"Linear Learner\", \"Host\": \"algo-1\", \"Operation\": \"training\", \"epoch\": 12, \"model\": 0}, \"Metrics\": {\"train_binary_classification_cross_entropy_objective\": {\"sum\": 0.6742698904701266, \"count\": 1, \"min\": 0.6742698904701266, \"max\": 0.6742698904701266}}}\u001b[0m\n",
      "\u001b[34m[12/30/2021 18:17:14 INFO 140579261622080] #quality_metric: host=algo-1, epoch=12, train binary_classification_cross_entropy_objective <loss>=0.6742698904701266\u001b[0m\n",
      "\u001b[34m[2021-12-30 18:17:14.981] [tensorio] [info] epoch_stats={\"data_pipeline\": \"/opt/ml/input/data/validation\", \"epoch\": 38, \"duration\": 116, \"num_examples\": 11, \"num_bytes\": 9688536}\u001b[0m\n",
      "\u001b[34m#metrics {\"StartTime\": 1640888235.0031607, \"EndTime\": 1640888235.0032117, \"Dimensions\": {\"Algorithm\": \"Linear Learner\", \"Host\": \"algo-1\", \"Operation\": \"training\", \"epoch\": 12, \"model\": 0}, \"Metrics\": {\"validation_binary_classification_cross_entropy_objective\": {\"sum\": 0.6723232805504337, \"count\": 1, \"min\": 0.6723232805504337, \"max\": 0.6723232805504337}}}\u001b[0m\n",
      "\u001b[34m[12/30/2021 18:17:15 INFO 140579261622080] #quality_metric: host=algo-1, epoch=12, validation binary_classification_cross_entropy_objective <loss>=0.6723232805504337\u001b[0m\n",
      "\u001b[34m[12/30/2021 18:17:15 INFO 140579261622080] #early_stopping_criteria_metric: host=algo-1, epoch=12, criteria=sampled_accuracy, value=0.6038063955173433\u001b[0m\n",
      "\u001b[34m[12/30/2021 18:17:15 INFO 140579261622080] Epoch 12: Loss improved. Updating best model\u001b[0m\n",
      "\u001b[34m[12/30/2021 18:17:15 INFO 140579261622080] Saving model for epoch: 12\u001b[0m\n",
      "\u001b[34m[12/30/2021 18:17:15 INFO 140579261622080] Saved checkpoint to \"/tmp/tmpa7alu_dz/mx-mod-0000.params\"\u001b[0m\n",
      "\u001b[34m[12/30/2021 18:17:15 INFO 140579261622080] #progress_metric: host=algo-1, completed 86.66666666666667 % of epochs\u001b[0m\n",
      "\u001b[34m#metrics {\"StartTime\": 1640888234.7742476, \"EndTime\": 1640888235.0090654, \"Dimensions\": {\"Algorithm\": \"Linear Learner\", \"Host\": \"algo-1\", \"Operation\": \"training\", \"epoch\": 12, \"Meta\": \"training_data_iter\"}, \"Metrics\": {\"Total Records Seen\": {\"sum\": 558661.0, \"count\": 1, \"min\": 558661, \"max\": 558661}, \"Total Batches Seen\": {\"sum\": 279.0, \"count\": 1, \"min\": 279, \"max\": 279}, \"Max Records Seen Between Resets\": {\"sum\": 42031.0, \"count\": 1, \"min\": 42031, \"max\": 42031}, \"Max Batches Seen Between Resets\": {\"sum\": 21.0, \"count\": 1, \"min\": 21, \"max\": 21}, \"Reset Count\": {\"sum\": 15.0, \"count\": 1, \"min\": 15, \"max\": 15}, \"Number of Records Since Last Reset\": {\"sum\": 42031.0, \"count\": 1, \"min\": 42031, \"max\": 42031}, \"Number of Batches Since Last Reset\": {\"sum\": 21.0, \"count\": 1, \"min\": 21, \"max\": 21}}}\u001b[0m\n",
      "\u001b[34m[12/30/2021 18:17:15 INFO 140579261622080] #throughput_metric: host=algo-1, train throughput=178891.51628779192 records/second\u001b[0m\n",
      "\u001b[34m[2021-12-30 18:17:15.099] [tensorio] [info] epoch_stats={\"data_pipeline\": \"/opt/ml/input/data/train\", \"epoch\": 29, \"duration\": 89, \"num_examples\": 21, \"num_bytes\": 19670508}\u001b[0m\n",
      "\u001b[34m#metrics {\"StartTime\": 1640888235.099981, \"EndTime\": 1640888235.100047, \"Dimensions\": {\"Algorithm\": \"Linear Learner\", \"Host\": \"algo-1\", \"Operation\": \"training\", \"epoch\": 13, \"model\": 0}, \"Metrics\": {\"train_binary_classification_cross_entropy_objective\": {\"sum\": 0.674476857309066, \"count\": 1, \"min\": 0.674476857309066, \"max\": 0.674476857309066}}}\u001b[0m\n",
      "\u001b[34m[12/30/2021 18:17:15 INFO 140579261622080] #quality_metric: host=algo-1, epoch=13, train binary_classification_cross_entropy_objective <loss>=0.674476857309066\u001b[0m\n",
      "\u001b[34m[2021-12-30 18:17:15.241] [tensorio] [info] epoch_stats={\"data_pipeline\": \"/opt/ml/input/data/validation\", \"epoch\": 41, \"duration\": 139, \"num_examples\": 11, \"num_bytes\": 9688536}\u001b[0m\n",
      "\u001b[34m#metrics {\"StartTime\": 1640888235.270064, \"EndTime\": 1640888235.2701218, \"Dimensions\": {\"Algorithm\": \"Linear Learner\", \"Host\": \"algo-1\", \"Operation\": \"training\", \"epoch\": 13, \"model\": 0}, \"Metrics\": {\"validation_binary_classification_cross_entropy_objective\": {\"sum\": 0.6722323852810304, \"count\": 1, \"min\": 0.6722323852810304, \"max\": 0.6722323852810304}}}\u001b[0m\n",
      "\u001b[34m[12/30/2021 18:17:15 INFO 140579261622080] #quality_metric: host=algo-1, epoch=13, validation binary_classification_cross_entropy_objective <loss>=0.6722323852810304\u001b[0m\n",
      "\u001b[34m[12/30/2021 18:17:15 INFO 140579261622080] #early_stopping_criteria_metric: host=algo-1, epoch=13, criteria=sampled_accuracy, value=0.6036131774707777\u001b[0m\n",
      "\u001b[34m[12/30/2021 18:17:15 INFO 140579261622080] Epoch 13: Loss improved. Updating best model\u001b[0m\n",
      "\u001b[34m[12/30/2021 18:17:15 INFO 140579261622080] Saving model for epoch: 13\u001b[0m\n",
      "\u001b[34m[12/30/2021 18:17:15 INFO 140579261622080] Saved checkpoint to \"/tmp/tmpu380abp9/mx-mod-0000.params\"\u001b[0m\n",
      "\u001b[34m[12/30/2021 18:17:15 INFO 140579261622080] #progress_metric: host=algo-1, completed 93.33333333333333 % of epochs\u001b[0m\n",
      "\u001b[34m#metrics {\"StartTime\": 1640888235.0098195, \"EndTime\": 1640888235.277353, \"Dimensions\": {\"Algorithm\": \"Linear Learner\", \"Host\": \"algo-1\", \"Operation\": \"training\", \"epoch\": 13, \"Meta\": \"training_data_iter\"}, \"Metrics\": {\"Total Records Seen\": {\"sum\": 600692.0, \"count\": 1, \"min\": 600692, \"max\": 600692}, \"Total Batches Seen\": {\"sum\": 300.0, \"count\": 1, \"min\": 300, \"max\": 300}, \"Max Records Seen Between Resets\": {\"sum\": 42031.0, \"count\": 1, \"min\": 42031, \"max\": 42031}, \"Max Batches Seen Between Resets\": {\"sum\": 21.0, \"count\": 1, \"min\": 21, \"max\": 21}, \"Reset Count\": {\"sum\": 16.0, \"count\": 1, \"min\": 16, \"max\": 16}, \"Number of Records Since Last Reset\": {\"sum\": 42031.0, \"count\": 1, \"min\": 42031, \"max\": 42031}, \"Number of Batches Since Last Reset\": {\"sum\": 21.0, \"count\": 1, \"min\": 21, \"max\": 21}}}\u001b[0m\n",
      "\u001b[34m[12/30/2021 18:17:15 INFO 140579261622080] #throughput_metric: host=algo-1, train throughput=157025.35109780973 records/second\u001b[0m\n",
      "\u001b[34m[2021-12-30 18:17:15.369] [tensorio] [info] epoch_stats={\"data_pipeline\": \"/opt/ml/input/data/train\", \"epoch\": 31, \"duration\": 91, \"num_examples\": 21, \"num_bytes\": 19670508}\u001b[0m\n",
      "\u001b[34m#metrics {\"StartTime\": 1640888235.3699203, \"EndTime\": 1640888235.3699725, \"Dimensions\": {\"Algorithm\": \"Linear Learner\", \"Host\": \"algo-1\", \"Operation\": \"training\", \"epoch\": 14, \"model\": 0}, \"Metrics\": {\"train_binary_classification_cross_entropy_objective\": {\"sum\": 0.6746546210813219, \"count\": 1, \"min\": 0.6746546210813219, \"max\": 0.6746546210813219}}}\u001b[0m\n",
      "\u001b[34m[12/30/2021 18:17:15 INFO 140579261622080] #quality_metric: host=algo-1, epoch=14, train binary_classification_cross_entropy_objective <loss>=0.6746546210813219\u001b[0m\n",
      "\u001b[34m[2021-12-30 18:17:15.489] [tensorio] [info] epoch_stats={\"data_pipeline\": \"/opt/ml/input/data/validation\", \"epoch\": 44, \"duration\": 118, \"num_examples\": 11, \"num_bytes\": 9688536}\u001b[0m\n",
      "\u001b[34m#metrics {\"StartTime\": 1640888235.5066712, \"EndTime\": 1640888235.50671, \"Dimensions\": {\"Algorithm\": \"Linear Learner\", \"Host\": \"algo-1\", \"Operation\": \"training\", \"epoch\": 14, \"model\": 0}, \"Metrics\": {\"validation_binary_classification_cross_entropy_objective\": {\"sum\": 0.6721197221719313, \"count\": 1, \"min\": 0.6721197221719313, \"max\": 0.6721197221719313}}}\u001b[0m\n",
      "\u001b[34m[12/30/2021 18:17:15 INFO 140579261622080] #quality_metric: host=algo-1, epoch=14, validation binary_classification_cross_entropy_objective <loss>=0.6721197221719313\u001b[0m\n",
      "\u001b[34m[12/30/2021 18:17:15 INFO 140579261622080] #early_stopping_criteria_metric: host=algo-1, epoch=14, criteria=sampled_accuracy, value=0.6037097864940605\u001b[0m\n",
      "\u001b[34m[12/30/2021 18:17:15 INFO 140579261622080] Epoch 14: Loss improved. Updating best model\u001b[0m\n",
      "\u001b[34m[12/30/2021 18:17:15 INFO 140579261622080] Saving model for epoch: 14\u001b[0m\n",
      "\u001b[34m[12/30/2021 18:17:15 INFO 140579261622080] Saved checkpoint to \"/tmp/tmpzkgostml/mx-mod-0000.params\"\u001b[0m\n",
      "\u001b[34m[12/30/2021 18:17:15 INFO 140579261622080] #progress_metric: host=algo-1, completed 100.0 % of epochs\u001b[0m\n",
      "\u001b[34m#metrics {\"StartTime\": 1640888235.2782838, \"EndTime\": 1640888235.5117257, \"Dimensions\": {\"Algorithm\": \"Linear Learner\", \"Host\": \"algo-1\", \"Operation\": \"training\", \"epoch\": 14, \"Meta\": \"training_data_iter\"}, \"Metrics\": {\"Total Records Seen\": {\"sum\": 642723.0, \"count\": 1, \"min\": 642723, \"max\": 642723}, \"Total Batches Seen\": {\"sum\": 321.0, \"count\": 1, \"min\": 321, \"max\": 321}, \"Max Records Seen Between Resets\": {\"sum\": 42031.0, \"count\": 1, \"min\": 42031, \"max\": 42031}, \"Max Batches Seen Between Resets\": {\"sum\": 21.0, \"count\": 1, \"min\": 21, \"max\": 21}, \"Reset Count\": {\"sum\": 17.0, \"count\": 1, \"min\": 17, \"max\": 17}, \"Number of Records Since Last Reset\": {\"sum\": 42031.0, \"count\": 1, \"min\": 42031, \"max\": 42031}, \"Number of Batches Since Last Reset\": {\"sum\": 21.0, \"count\": 1, \"min\": 21, \"max\": 21}}}\u001b[0m\n",
      "\u001b[34m[12/30/2021 18:17:15 INFO 140579261622080] #throughput_metric: host=algo-1, train throughput=179968.99780105802 records/second\u001b[0m\n",
      "\u001b[34m[12/30/2021 18:17:15 WARNING 140579261622080] wait_for_all_workers will not sync workers since the kv store is not running distributed\u001b[0m\n",
      "\u001b[34m[12/30/2021 18:17:15 WARNING 140579261622080] wait_for_all_workers will not sync workers since the kv store is not running distributed\u001b[0m\n",
      "\u001b[34m[2021-12-30 18:17:15.644] [tensorio] [info] epoch_stats={\"data_pipeline\": \"/opt/ml/input/data/validation\", \"epoch\": 47, \"duration\": 132, \"num_examples\": 11, \"num_bytes\": 9688536}\u001b[0m\n",
      "\u001b[34m[12/30/2021 18:17:15 INFO 140579261622080] #early_stopping_criteria_metric: host=algo-1, epoch=14, criteria=sampled_accuracy, value=0.6037097864940605\u001b[0m\n",
      "\u001b[34m[12/30/2021 18:17:15 INFO 140579261622080] Epoch 14: Loss improved. Updating best model\u001b[0m\n",
      "\u001b[34m[2021-12-30 18:17:15.721] [tensorio] [info] epoch_stats={\"data_pipeline\": \"/opt/ml/input/data/validation\", \"epoch\": 49, \"duration\": 56, \"num_examples\": 11, \"num_bytes\": 9688536}\u001b[0m\n",
      "\u001b[34m[12/30/2021 18:17:15 INFO 140579261622080] #validation_score (algo-1) : ('binary_classification_cross_entropy_objective', 0.6721197221719313)\u001b[0m\n",
      "\u001b[34m[12/30/2021 18:17:15 INFO 140579261622080] #validation_score (algo-1) : ('binary_classification_accuracy', 0.6036614819824172)\u001b[0m\n",
      "\u001b[34m[12/30/2021 18:17:15 INFO 140579261622080] #validation_score (algo-1) : ('binary_f_1.000', 0.6036806259962324)\u001b[0m\n",
      "\u001b[34m[12/30/2021 18:17:15 INFO 140579261622080] #validation_score (algo-1) : ('precision', 0.6019071469851667)\u001b[0m\n",
      "\u001b[34m[12/30/2021 18:17:15 INFO 140579261622080] #validation_score (algo-1) : ('recall', 0.6054645867648484)\u001b[0m\n",
      "\u001b[34m[12/30/2021 18:17:15 INFO 140579261622080] #validation_score (algo-1) : ('roc_auc_score', 0.6368254215484881)\u001b[0m\n",
      "\u001b[34m[12/30/2021 18:17:15 INFO 140579261622080] #validation_score (algo-1) : ('binary_balanced_accuracy', 0.5)\u001b[0m\n",
      "\u001b[34m[12/30/2021 18:17:15 INFO 140579261622080] #validation_score (algo-1) : ('binary_log_loss', 0.7175664689479915)\u001b[0m\n",
      "\u001b[34m[12/30/2021 18:17:15 INFO 140579261622080] #quality_metric: host=algo-1, validation binary_classification_cross_entropy_objective <loss>=0.6721197221719313\u001b[0m\n",
      "\u001b[34m[12/30/2021 18:17:15 INFO 140579261622080] #quality_metric: host=algo-1, validation binary_classification_accuracy <score>=0.6036614819824172\u001b[0m\n",
      "\u001b[34m[12/30/2021 18:17:15 INFO 140579261622080] #quality_metric: host=algo-1, validation binary_f_1.000 <score>=0.6036806259962324\u001b[0m\n",
      "\u001b[34m[12/30/2021 18:17:15 INFO 140579261622080] #quality_metric: host=algo-1, validation precision <score>=0.6019071469851667\u001b[0m\n",
      "\u001b[34m[12/30/2021 18:17:15 INFO 140579261622080] #quality_metric: host=algo-1, validation recall <score>=0.6054645867648484\u001b[0m\n",
      "\u001b[34m[12/30/2021 18:17:15 INFO 140579261622080] #quality_metric: host=algo-1, validation roc_auc_score <score>=0.6368254215484881\u001b[0m\n",
      "\u001b[34m[12/30/2021 18:17:15 INFO 140579261622080] #quality_metric: host=algo-1, validation binary_balanced_accuracy <score>=0.5\u001b[0m\n",
      "\u001b[34m[12/30/2021 18:17:15 INFO 140579261622080] #quality_metric: host=algo-1, validation binary_log_loss <score>=0.7175664689479915\u001b[0m\n",
      "\u001b[34m[12/30/2021 18:17:15 INFO 140579261622080] Best model found for hyperparameters: {\"optimizer\": \"adam\", \"learning_rate\": 0.2854388916035083, \"l1\": 1.0, \"wd\": 0.8739477284942289, \"lr_scheduler_step\": 10, \"lr_scheduler_factor\": 0.99, \"lr_scheduler_minimum_lr\": 1e-05}\u001b[0m\n",
      "\u001b[34m[12/30/2021 18:17:15 INFO 140579261622080] Saved checkpoint to \"/tmp/tmppv8ogvwk/mx-mod-0000.params\"\u001b[0m\n",
      "\u001b[34m[12/30/2021 18:17:15 INFO 140579261622080] Test data is not provided.\u001b[0m\n",
      "\u001b[34m#metrics {\"StartTime\": 1640888231.3331409, \"EndTime\": 1640888235.7700412, \"Dimensions\": {\"Algorithm\": \"Linear Learner\", \"Host\": \"algo-1\", \"Operation\": \"training\"}, \"Metrics\": {\"initialize.time\": {\"sum\": 157.75442123413086, \"count\": 1, \"min\": 157.75442123413086, \"max\": 157.75442123413086}, \"epochs\": {\"sum\": 15.0, \"count\": 1, \"min\": 15, \"max\": 15}, \"check_early_stopping.time\": {\"sum\": 13.609647750854492, \"count\": 16, \"min\": 0.6277561187744141, \"max\": 1.0399818420410156}, \"update.time\": {\"sum\": 3952.373743057251, \"count\": 15, \"min\": 210.27064323425293, \"max\": 314.6932125091553}, \"finalize.time\": {\"sum\": 255.2030086517334, \"count\": 1, \"min\": 255.2030086517334, \"max\": 255.2030086517334}, \"setuptime\": {\"sum\": 22.110700607299805, \"count\": 1, \"min\": 22.110700607299805, \"max\": 22.110700607299805}, \"totaltime\": {\"sum\": 4646.311521530151, \"count\": 1, \"min\": 4646.311521530151, \"max\": 4646.311521530151}}}\u001b[0m\n",
      "Training seconds: 83\n",
      "Billable seconds: 83\n"
     ]
    },
    {
     "name": "stderr",
     "output_type": "stream",
     "text": [
      "Parameter image will be renamed to image_uri in SageMaker Python SDK v2.\n"
     ]
    },
    {
     "name": "stdout",
     "output_type": "stream",
     "text": [
      "...................................\u001b[34mDocker entrypoint called with argument(s): serve\u001b[0m\n",
      "\u001b[34mRunning default environment configuration script\u001b[0m\n",
      "\u001b[35mDocker entrypoint called with argument(s): serve\u001b[0m\n",
      "\u001b[35mRunning default environment configuration script\u001b[0m\n",
      "\u001b[34m[12/30/2021 18:45:36 INFO 140044959930176] loaded entry point class algorithm.serve.server_config:config_api\u001b[0m\n",
      "\u001b[34m[12/30/2021 18:45:36 INFO 140044959930176] loading entry points\u001b[0m\n",
      "\u001b[34m[12/30/2021 18:45:36 INFO 140044959930176] loaded request iterator application/json\u001b[0m\n",
      "\u001b[34m[12/30/2021 18:45:36 INFO 140044959930176] loaded request iterator application/jsonlines\u001b[0m\n",
      "\u001b[35m[12/30/2021 18:45:36 INFO 140044959930176] loaded entry point class algorithm.serve.server_config:config_api\u001b[0m\n",
      "\u001b[35m[12/30/2021 18:45:36 INFO 140044959930176] loading entry points\u001b[0m\n",
      "\u001b[35m[12/30/2021 18:45:36 INFO 140044959930176] loaded request iterator application/json\u001b[0m\n",
      "\u001b[35m[12/30/2021 18:45:36 INFO 140044959930176] loaded request iterator application/jsonlines\u001b[0m\n",
      "\u001b[34m[12/30/2021 18:45:36 INFO 140044959930176] loaded request iterator application/x-recordio-protobuf\u001b[0m\n",
      "\u001b[34m[12/30/2021 18:45:36 INFO 140044959930176] loaded request iterator text/csv\u001b[0m\n",
      "\u001b[34m[12/30/2021 18:45:36 INFO 140044959930176] loaded response encoder application/json\u001b[0m\n",
      "\u001b[34m[12/30/2021 18:45:36 INFO 140044959930176] loaded response encoder application/jsonlines\u001b[0m\n",
      "\u001b[34m[12/30/2021 18:45:36 INFO 140044959930176] loaded response encoder application/x-recordio-protobuf\u001b[0m\n",
      "\u001b[34m[12/30/2021 18:45:36 INFO 140044959930176] loaded response encoder text/csv\u001b[0m\n",
      "\u001b[35m[12/30/2021 18:45:36 INFO 140044959930176] loaded request iterator application/x-recordio-protobuf\u001b[0m\n",
      "\u001b[35m[12/30/2021 18:45:36 INFO 140044959930176] loaded request iterator text/csv\u001b[0m\n",
      "\u001b[35m[12/30/2021 18:45:36 INFO 140044959930176] loaded response encoder application/json\u001b[0m\n",
      "\u001b[35m[12/30/2021 18:45:36 INFO 140044959930176] loaded response encoder application/jsonlines\u001b[0m\n",
      "\u001b[35m[12/30/2021 18:45:36 INFO 140044959930176] loaded response encoder application/x-recordio-protobuf\u001b[0m\n",
      "\u001b[35m[12/30/2021 18:45:36 INFO 140044959930176] loaded response encoder text/csv\u001b[0m\n",
      "\u001b[34m[12/30/2021 18:45:36 INFO 140044959930176] loaded entry point class algorithm:model\u001b[0m\n",
      "\u001b[34m[12/30/2021 18:45:36 INFO 140044959930176] Number of server workers: 4\u001b[0m\n",
      "\u001b[34m[12/30/2021 18:45:36 INFO 140044959930176] loading model...\u001b[0m\n",
      "\u001b[34m[12/30/2021 18:45:36 INFO 140044959930176] ...model loaded.\u001b[0m\n",
      "\u001b[34m[2021-12-30 18:45:37 +0000] [1] [INFO] Starting gunicorn 20.1.0\u001b[0m\n",
      "\u001b[34m[2021-12-30 18:45:37 +0000] [1] [INFO] Listening at: http://0.0.0.0:8080 (1)\u001b[0m\n",
      "\u001b[35m[12/30/2021 18:45:36 INFO 140044959930176] loaded entry point class algorithm:model\u001b[0m\n",
      "\u001b[35m[12/30/2021 18:45:36 INFO 140044959930176] Number of server workers: 4\u001b[0m\n",
      "\u001b[35m[12/30/2021 18:45:36 INFO 140044959930176] loading model...\u001b[0m\n",
      "\u001b[35m[12/30/2021 18:45:36 INFO 140044959930176] ...model loaded.\u001b[0m\n",
      "\u001b[35m[2021-12-30 18:45:37 +0000] [1] [INFO] Starting gunicorn 20.1.0\u001b[0m\n",
      "\u001b[35m[2021-12-30 18:45:37 +0000] [1] [INFO] Listening at: http://0.0.0.0:8080 (1)\u001b[0m\n",
      "\u001b[34m[2021-12-30 18:45:37 +0000] [1] [INFO] Using worker: sync\u001b[0m\n",
      "\u001b[34m[2021-12-30 18:45:37 +0000] [61] [INFO] Booting worker with pid: 61\u001b[0m\n",
      "\u001b[34m[2021-12-30 18:45:37 +0000] [70] [INFO] Booting worker with pid: 70\u001b[0m\n",
      "\u001b[34m[2021-12-30 18:45:37 +0000] [79] [INFO] Booting worker with pid: 79\u001b[0m\n",
      "\u001b[34m[2021-12-30 18:45:37 +0000] [88] [INFO] Booting worker with pid: 88\u001b[0m\n",
      "\u001b[35m[2021-12-30 18:45:37 +0000] [1] [INFO] Using worker: sync\u001b[0m\n",
      "\u001b[35m[2021-12-30 18:45:37 +0000] [61] [INFO] Booting worker with pid: 61\u001b[0m\n",
      "\u001b[35m[2021-12-30 18:45:37 +0000] [70] [INFO] Booting worker with pid: 70\u001b[0m\n",
      "\u001b[35m[2021-12-30 18:45:37 +0000] [79] [INFO] Booting worker with pid: 79\u001b[0m\n",
      "\u001b[35m[2021-12-30 18:45:37 +0000] [88] [INFO] Booting worker with pid: 88\u001b[0m\n",
      "\u001b[34m#metrics {\"StartTime\": 1640889936.9627488, \"EndTime\": 1640889938.6215377, \"Dimensions\": {\"Algorithm\": \"LinearLearnerModel\", \"Host\": \"UNKNOWN\", \"Operation\": \"scoring\"}, \"Metrics\": {\"execution_parameters.count\": {\"sum\": 1.0, \"count\": 1, \"min\": 1, \"max\": 1}}}\u001b[0m\n",
      "\u001b[35m#metrics {\"StartTime\": 1640889936.9627488, \"EndTime\": 1640889938.6215377, \"Dimensions\": {\"Algorithm\": \"LinearLearnerModel\", \"Host\": \"UNKNOWN\", \"Operation\": \"scoring\"}, \"Metrics\": {\"execution_parameters.count\": {\"sum\": 1.0, \"count\": 1, \"min\": 1, \"max\": 1}}}\u001b[0m\n",
      "\u001b[34m#metrics {\"StartTime\": 1640889938.6217341, \"EndTime\": 1640889939.268354, \"Dimensions\": {\"Algorithm\": \"LinearLearnerModel\", \"Host\": \"UNKNOWN\", \"Operation\": \"scoring\"}, \"Metrics\": {\"json.encoder.time\": {\"sum\": 2.8345584869384766, \"count\": 1, \"min\": 2.8345584869384766, \"max\": 2.8345584869384766}, \"invocations.count\": {\"sum\": 1.0, \"count\": 1, \"min\": 1, \"max\": 1}}}\u001b[0m\n",
      "\u001b[35m#metrics {\"StartTime\": 1640889938.6217341, \"EndTime\": 1640889939.268354, \"Dimensions\": {\"Algorithm\": \"LinearLearnerModel\", \"Host\": \"UNKNOWN\", \"Operation\": \"scoring\"}, \"Metrics\": {\"json.encoder.time\": {\"sum\": 2.8345584869384766, \"count\": 1, \"min\": 2.8345584869384766, \"max\": 2.8345584869384766}, \"invocations.count\": {\"sum\": 1.0, \"count\": 1, \"min\": 1, \"max\": 1}}}\u001b[0m\n",
      "\u001b[34m#metrics {\"StartTime\": 1640889936.9627488, \"EndTime\": 1640889940.1713543, \"Dimensions\": {\"Algorithm\": \"LinearLearnerModel\", \"Host\": \"UNKNOWN\", \"Operation\": \"scoring\"}, \"Metrics\": {\"json.encoder.time\": {\"sum\": 67.03925132751465, \"count\": 1, \"min\": 67.03925132751465, \"max\": 67.03925132751465}, \"invocations.count\": {\"sum\": 1.0, \"count\": 1, \"min\": 1, \"max\": 1}}}\u001b[0m\n",
      "\u001b[35m#metrics {\"StartTime\": 1640889936.9627488, \"EndTime\": 1640889940.1713543, \"Dimensions\": {\"Algorithm\": \"LinearLearnerModel\", \"Host\": \"UNKNOWN\", \"Operation\": \"scoring\"}, \"Metrics\": {\"json.encoder.time\": {\"sum\": 67.03925132751465, \"count\": 1, \"min\": 67.03925132751465, \"max\": 67.03925132751465}, \"invocations.count\": {\"sum\": 1.0, \"count\": 1, \"min\": 1, \"max\": 1}}}\u001b[0m\n",
      "\u001b[32m2021-12-30T18:45:38.630:[sagemaker logs]: MaxConcurrentTransforms=4, MaxPayloadInMB=6, BatchStrategy=MULTI_RECORD\u001b[0m\n",
      "\n"
     ]
    }
   ],
   "source": [
    "lin_best = sagemaker.estimator.Estimator.attach(lin_hyperparameter_tuner.best_training_job())\n",
    "lin_transformer = lin_best.transformer(instance_count = 1, instance_type = 'ml.m4.xlarge')\n",
    "lin_transformer.transform(test_location, content_type='text/csv', split_type='Line')\n",
    "\n",
    "lin_transformer.wait()"
   ]
  },
  {
   "cell_type": "code",
   "execution_count": 67,
   "id": "6111d891",
   "metadata": {},
   "outputs": [
    {
     "name": "stdout",
     "output_type": "stream",
     "text": [
      "download: s3://sagemaker-us-east-1-345989147144/linear-learner-211230-1808-005-a9e8df26-2021-12-30-18-39-54-907/test.csv.out to data/test.csv.out\n"
     ]
    }
   ],
   "source": [
    "!aws s3 cp --recursive $lin_transformer.output_path $data_dir\n",
    "\n",
    "results = pd.read_csv(os.path.join(data_dir, 'test.csv.out'), header=None)\n",
    "predictions = [int(p.split(':')[1]) for p in results[0]]\n",
    "probs = [float(p.split(':')[1].split('}')[0]) for p in results[1]]"
   ]
  },
  {
   "cell_type": "code",
   "execution_count": 68,
   "id": "aba31476",
   "metadata": {},
   "outputs": [
    {
     "data": {
      "text/plain": [
       "0.6007314152561571"
      ]
     },
     "execution_count": 68,
     "metadata": {},
     "output_type": "execute_result"
    }
   ],
   "source": [
    "from sklearn.metrics import accuracy_score\n",
    "accuracy_score(y_test, predictions)"
   ]
  },
  {
   "cell_type": "code",
   "execution_count": 69,
   "id": "d7917ff9",
   "metadata": {},
   "outputs": [
    {
     "name": "stdout",
     "output_type": "stream",
     "text": [
      "0.6364523514048408\n"
     ]
    }
   ],
   "source": [
    "from sklearn.metrics import roc_auc_score\n",
    "print (roc_auc_score(y_test, probs))"
   ]
  },
  {
   "cell_type": "code",
   "execution_count": 72,
   "id": "b3c66d5f",
   "metadata": {},
   "outputs": [
    {
     "data": {
      "text/plain": [
       "'linear-learner-211230-1808-005-a9e8df26'"
      ]
     },
     "execution_count": 72,
     "metadata": {},
     "output_type": "execute_result"
    }
   ],
   "source": [
    "lin_hyperparameter_tuner.best_training_job()"
   ]
  },
  {
   "cell_type": "code",
   "execution_count": 39,
   "id": "0dc192c4",
   "metadata": {},
   "outputs": [
    {
     "data": {
      "text/plain": [
       "'sagemaker-us-east-1-345989147144'"
      ]
     },
     "execution_count": 39,
     "metadata": {},
     "output_type": "execute_result"
    }
   ],
   "source": [
    "session.default_bucket()"
   ]
  },
  {
   "cell_type": "code",
   "execution_count": 77,
   "id": "bdab74cc",
   "metadata": {},
   "outputs": [
    {
     "data": {
      "text/plain": [
       "'readmissions/linreg'"
      ]
     },
     "execution_count": 77,
     "metadata": {},
     "output_type": "execute_result"
    }
   ],
   "source": [
    "prefix"
   ]
  },
  {
   "cell_type": "code",
   "execution_count": 79,
   "id": "7024a289",
   "metadata": {},
   "outputs": [
    {
     "ename": "ClientError",
     "evalue": "An error occurred (404) when calling the HeadObject operation: Not Found",
     "output_type": "error",
     "traceback": [
      "\u001b[0;31m---------------------------------------------------------------------------\u001b[0m",
      "\u001b[0;31mClientError\u001b[0m                               Traceback (most recent call last)",
      "\u001b[0;32m<ipython-input-79-4124367f1720>\u001b[0m in \u001b[0;36m<module>\u001b[0;34m\u001b[0m\n\u001b[1;32m      4\u001b[0m \u001b[0;34m\u001b[0m\u001b[0m\n\u001b[1;32m      5\u001b[0m \u001b[0mkey\u001b[0m \u001b[0;34m=\u001b[0m \u001b[0;34m'/readmissions/linreg/output/linear-learner-211230-1808-005-a9e8df26/output/'\u001b[0m\u001b[0;34m\u001b[0m\u001b[0;34m\u001b[0m\u001b[0m\n\u001b[0;32m----> 6\u001b[0;31m \u001b[0mboto3\u001b[0m\u001b[0;34m.\u001b[0m\u001b[0mresource\u001b[0m\u001b[0;34m(\u001b[0m\u001b[0;34m's3'\u001b[0m\u001b[0;34m)\u001b[0m\u001b[0;34m.\u001b[0m\u001b[0mBucket\u001b[0m\u001b[0;34m(\u001b[0m\u001b[0msession\u001b[0m\u001b[0;34m.\u001b[0m\u001b[0mdefault_bucket\u001b[0m\u001b[0;34m(\u001b[0m\u001b[0;34m)\u001b[0m\u001b[0;34m)\u001b[0m\u001b[0;34m.\u001b[0m\u001b[0mdownload_file\u001b[0m\u001b[0;34m(\u001b[0m\u001b[0mkey\u001b[0m\u001b[0;34m,\u001b[0m \u001b[0;34m'model.tar.gz'\u001b[0m\u001b[0;34m)\u001b[0m\u001b[0;34m\u001b[0m\u001b[0;34m\u001b[0m\u001b[0m\n\u001b[0m\u001b[1;32m      7\u001b[0m \u001b[0;34m\u001b[0m\u001b[0m\n\u001b[1;32m      8\u001b[0m \u001b[0mos\u001b[0m\u001b[0;34m.\u001b[0m\u001b[0msystem\u001b[0m\u001b[0;34m(\u001b[0m\u001b[0;34m'tar -zxvf model.tar.gz'\u001b[0m\u001b[0;34m)\u001b[0m\u001b[0;34m\u001b[0m\u001b[0;34m\u001b[0m\u001b[0m\n",
      "\u001b[0;32m~/anaconda3/envs/amazonei_mxnet_p36/lib/python3.6/site-packages/boto3/s3/inject.py\u001b[0m in \u001b[0;36mbucket_download_file\u001b[0;34m(self, Key, Filename, ExtraArgs, Callback, Config)\u001b[0m\n\u001b[1;32m    245\u001b[0m     return self.meta.client.download_file(\n\u001b[1;32m    246\u001b[0m         \u001b[0mBucket\u001b[0m\u001b[0;34m=\u001b[0m\u001b[0mself\u001b[0m\u001b[0;34m.\u001b[0m\u001b[0mname\u001b[0m\u001b[0;34m,\u001b[0m \u001b[0mKey\u001b[0m\u001b[0;34m=\u001b[0m\u001b[0mKey\u001b[0m\u001b[0;34m,\u001b[0m \u001b[0mFilename\u001b[0m\u001b[0;34m=\u001b[0m\u001b[0mFilename\u001b[0m\u001b[0;34m,\u001b[0m\u001b[0;34m\u001b[0m\u001b[0;34m\u001b[0m\u001b[0m\n\u001b[0;32m--> 247\u001b[0;31m         ExtraArgs=ExtraArgs, Callback=Callback, Config=Config)\n\u001b[0m\u001b[1;32m    248\u001b[0m \u001b[0;34m\u001b[0m\u001b[0m\n\u001b[1;32m    249\u001b[0m \u001b[0;34m\u001b[0m\u001b[0m\n",
      "\u001b[0;32m~/anaconda3/envs/amazonei_mxnet_p36/lib/python3.6/site-packages/boto3/s3/inject.py\u001b[0m in \u001b[0;36mdownload_file\u001b[0;34m(self, Bucket, Key, Filename, ExtraArgs, Callback, Config)\u001b[0m\n\u001b[1;32m    171\u001b[0m         return transfer.download_file(\n\u001b[1;32m    172\u001b[0m             \u001b[0mbucket\u001b[0m\u001b[0;34m=\u001b[0m\u001b[0mBucket\u001b[0m\u001b[0;34m,\u001b[0m \u001b[0mkey\u001b[0m\u001b[0;34m=\u001b[0m\u001b[0mKey\u001b[0m\u001b[0;34m,\u001b[0m \u001b[0mfilename\u001b[0m\u001b[0;34m=\u001b[0m\u001b[0mFilename\u001b[0m\u001b[0;34m,\u001b[0m\u001b[0;34m\u001b[0m\u001b[0;34m\u001b[0m\u001b[0m\n\u001b[0;32m--> 173\u001b[0;31m             extra_args=ExtraArgs, callback=Callback)\n\u001b[0m\u001b[1;32m    174\u001b[0m \u001b[0;34m\u001b[0m\u001b[0m\n\u001b[1;32m    175\u001b[0m \u001b[0;34m\u001b[0m\u001b[0m\n",
      "\u001b[0;32m~/anaconda3/envs/amazonei_mxnet_p36/lib/python3.6/site-packages/boto3/s3/transfer.py\u001b[0m in \u001b[0;36mdownload_file\u001b[0;34m(self, bucket, key, filename, extra_args, callback)\u001b[0m\n\u001b[1;32m    313\u001b[0m             bucket, key, filename, extra_args, subscribers)\n\u001b[1;32m    314\u001b[0m         \u001b[0;32mtry\u001b[0m\u001b[0;34m:\u001b[0m\u001b[0;34m\u001b[0m\u001b[0;34m\u001b[0m\u001b[0m\n\u001b[0;32m--> 315\u001b[0;31m             \u001b[0mfuture\u001b[0m\u001b[0;34m.\u001b[0m\u001b[0mresult\u001b[0m\u001b[0;34m(\u001b[0m\u001b[0;34m)\u001b[0m\u001b[0;34m\u001b[0m\u001b[0;34m\u001b[0m\u001b[0m\n\u001b[0m\u001b[1;32m    316\u001b[0m         \u001b[0;31m# This is for backwards compatibility where when retries are\u001b[0m\u001b[0;34m\u001b[0m\u001b[0;34m\u001b[0m\u001b[0;34m\u001b[0m\u001b[0m\n\u001b[1;32m    317\u001b[0m         \u001b[0;31m# exceeded we need to throw the same error from boto3 instead of\u001b[0m\u001b[0;34m\u001b[0m\u001b[0;34m\u001b[0m\u001b[0;34m\u001b[0m\u001b[0m\n",
      "\u001b[0;32m~/anaconda3/envs/amazonei_mxnet_p36/lib/python3.6/site-packages/s3transfer/futures.py\u001b[0m in \u001b[0;36mresult\u001b[0;34m(self)\u001b[0m\n\u001b[1;32m    104\u001b[0m             \u001b[0;31m# however if a KeyboardInterrupt is raised we want want to exit\u001b[0m\u001b[0;34m\u001b[0m\u001b[0;34m\u001b[0m\u001b[0;34m\u001b[0m\u001b[0m\n\u001b[1;32m    105\u001b[0m             \u001b[0;31m# out of this and propogate the exception.\u001b[0m\u001b[0;34m\u001b[0m\u001b[0;34m\u001b[0m\u001b[0;34m\u001b[0m\u001b[0m\n\u001b[0;32m--> 106\u001b[0;31m             \u001b[0;32mreturn\u001b[0m \u001b[0mself\u001b[0m\u001b[0;34m.\u001b[0m\u001b[0m_coordinator\u001b[0m\u001b[0;34m.\u001b[0m\u001b[0mresult\u001b[0m\u001b[0;34m(\u001b[0m\u001b[0;34m)\u001b[0m\u001b[0;34m\u001b[0m\u001b[0;34m\u001b[0m\u001b[0m\n\u001b[0m\u001b[1;32m    107\u001b[0m         \u001b[0;32mexcept\u001b[0m \u001b[0mKeyboardInterrupt\u001b[0m \u001b[0;32mas\u001b[0m \u001b[0me\u001b[0m\u001b[0;34m:\u001b[0m\u001b[0;34m\u001b[0m\u001b[0;34m\u001b[0m\u001b[0m\n\u001b[1;32m    108\u001b[0m             \u001b[0mself\u001b[0m\u001b[0;34m.\u001b[0m\u001b[0mcancel\u001b[0m\u001b[0;34m(\u001b[0m\u001b[0;34m)\u001b[0m\u001b[0;34m\u001b[0m\u001b[0;34m\u001b[0m\u001b[0m\n",
      "\u001b[0;32m~/anaconda3/envs/amazonei_mxnet_p36/lib/python3.6/site-packages/s3transfer/futures.py\u001b[0m in \u001b[0;36mresult\u001b[0;34m(self)\u001b[0m\n\u001b[1;32m    263\u001b[0m         \u001b[0;31m# final result.\u001b[0m\u001b[0;34m\u001b[0m\u001b[0;34m\u001b[0m\u001b[0;34m\u001b[0m\u001b[0m\n\u001b[1;32m    264\u001b[0m         \u001b[0;32mif\u001b[0m \u001b[0mself\u001b[0m\u001b[0;34m.\u001b[0m\u001b[0m_exception\u001b[0m\u001b[0;34m:\u001b[0m\u001b[0;34m\u001b[0m\u001b[0;34m\u001b[0m\u001b[0m\n\u001b[0;32m--> 265\u001b[0;31m             \u001b[0;32mraise\u001b[0m \u001b[0mself\u001b[0m\u001b[0;34m.\u001b[0m\u001b[0m_exception\u001b[0m\u001b[0;34m\u001b[0m\u001b[0;34m\u001b[0m\u001b[0m\n\u001b[0m\u001b[1;32m    266\u001b[0m         \u001b[0;32mreturn\u001b[0m \u001b[0mself\u001b[0m\u001b[0;34m.\u001b[0m\u001b[0m_result\u001b[0m\u001b[0;34m\u001b[0m\u001b[0;34m\u001b[0m\u001b[0m\n\u001b[1;32m    267\u001b[0m \u001b[0;34m\u001b[0m\u001b[0m\n",
      "\u001b[0;32m~/anaconda3/envs/amazonei_mxnet_p36/lib/python3.6/site-packages/s3transfer/tasks.py\u001b[0m in \u001b[0;36m_main\u001b[0;34m(self, transfer_future, **kwargs)\u001b[0m\n\u001b[1;32m    253\u001b[0m             \u001b[0;31m# Call the submit method to start submitting tasks to execute the\u001b[0m\u001b[0;34m\u001b[0m\u001b[0;34m\u001b[0m\u001b[0;34m\u001b[0m\u001b[0m\n\u001b[1;32m    254\u001b[0m             \u001b[0;31m# transfer.\u001b[0m\u001b[0;34m\u001b[0m\u001b[0;34m\u001b[0m\u001b[0;34m\u001b[0m\u001b[0m\n\u001b[0;32m--> 255\u001b[0;31m             \u001b[0mself\u001b[0m\u001b[0;34m.\u001b[0m\u001b[0m_submit\u001b[0m\u001b[0;34m(\u001b[0m\u001b[0mtransfer_future\u001b[0m\u001b[0;34m=\u001b[0m\u001b[0mtransfer_future\u001b[0m\u001b[0;34m,\u001b[0m \u001b[0;34m**\u001b[0m\u001b[0mkwargs\u001b[0m\u001b[0;34m)\u001b[0m\u001b[0;34m\u001b[0m\u001b[0;34m\u001b[0m\u001b[0m\n\u001b[0m\u001b[1;32m    256\u001b[0m         \u001b[0;32mexcept\u001b[0m \u001b[0mBaseException\u001b[0m \u001b[0;32mas\u001b[0m \u001b[0me\u001b[0m\u001b[0;34m:\u001b[0m\u001b[0;34m\u001b[0m\u001b[0;34m\u001b[0m\u001b[0m\n\u001b[1;32m    257\u001b[0m             \u001b[0;31m# If there was an exception raised during the submission of task\u001b[0m\u001b[0;34m\u001b[0m\u001b[0;34m\u001b[0m\u001b[0;34m\u001b[0m\u001b[0m\n",
      "\u001b[0;32m~/anaconda3/envs/amazonei_mxnet_p36/lib/python3.6/site-packages/s3transfer/download.py\u001b[0m in \u001b[0;36m_submit\u001b[0;34m(self, client, config, osutil, request_executor, io_executor, transfer_future, bandwidth_limiter)\u001b[0m\n\u001b[1;32m    341\u001b[0m                 \u001b[0mBucket\u001b[0m\u001b[0;34m=\u001b[0m\u001b[0mtransfer_future\u001b[0m\u001b[0;34m.\u001b[0m\u001b[0mmeta\u001b[0m\u001b[0;34m.\u001b[0m\u001b[0mcall_args\u001b[0m\u001b[0;34m.\u001b[0m\u001b[0mbucket\u001b[0m\u001b[0;34m,\u001b[0m\u001b[0;34m\u001b[0m\u001b[0;34m\u001b[0m\u001b[0m\n\u001b[1;32m    342\u001b[0m                 \u001b[0mKey\u001b[0m\u001b[0;34m=\u001b[0m\u001b[0mtransfer_future\u001b[0m\u001b[0;34m.\u001b[0m\u001b[0mmeta\u001b[0m\u001b[0;34m.\u001b[0m\u001b[0mcall_args\u001b[0m\u001b[0;34m.\u001b[0m\u001b[0mkey\u001b[0m\u001b[0;34m,\u001b[0m\u001b[0;34m\u001b[0m\u001b[0;34m\u001b[0m\u001b[0m\n\u001b[0;32m--> 343\u001b[0;31m                 \u001b[0;34m**\u001b[0m\u001b[0mtransfer_future\u001b[0m\u001b[0;34m.\u001b[0m\u001b[0mmeta\u001b[0m\u001b[0;34m.\u001b[0m\u001b[0mcall_args\u001b[0m\u001b[0;34m.\u001b[0m\u001b[0mextra_args\u001b[0m\u001b[0;34m\u001b[0m\u001b[0;34m\u001b[0m\u001b[0m\n\u001b[0m\u001b[1;32m    344\u001b[0m             )\n\u001b[1;32m    345\u001b[0m             transfer_future.meta.provide_transfer_size(\n",
      "\u001b[0;32m~/anaconda3/envs/amazonei_mxnet_p36/lib/python3.6/site-packages/botocore/client.py\u001b[0m in \u001b[0;36m_api_call\u001b[0;34m(self, *args, **kwargs)\u001b[0m\n\u001b[1;32m    389\u001b[0m                     \"%s() only accepts keyword arguments.\" % py_operation_name)\n\u001b[1;32m    390\u001b[0m             \u001b[0;31m# The \"self\" in this scope is referring to the BaseClient.\u001b[0m\u001b[0;34m\u001b[0m\u001b[0;34m\u001b[0m\u001b[0;34m\u001b[0m\u001b[0m\n\u001b[0;32m--> 391\u001b[0;31m             \u001b[0;32mreturn\u001b[0m \u001b[0mself\u001b[0m\u001b[0;34m.\u001b[0m\u001b[0m_make_api_call\u001b[0m\u001b[0;34m(\u001b[0m\u001b[0moperation_name\u001b[0m\u001b[0;34m,\u001b[0m \u001b[0mkwargs\u001b[0m\u001b[0;34m)\u001b[0m\u001b[0;34m\u001b[0m\u001b[0;34m\u001b[0m\u001b[0m\n\u001b[0m\u001b[1;32m    392\u001b[0m \u001b[0;34m\u001b[0m\u001b[0m\n\u001b[1;32m    393\u001b[0m         \u001b[0m_api_call\u001b[0m\u001b[0;34m.\u001b[0m\u001b[0m__name__\u001b[0m \u001b[0;34m=\u001b[0m \u001b[0mstr\u001b[0m\u001b[0;34m(\u001b[0m\u001b[0mpy_operation_name\u001b[0m\u001b[0;34m)\u001b[0m\u001b[0;34m\u001b[0m\u001b[0;34m\u001b[0m\u001b[0m\n",
      "\u001b[0;32m~/anaconda3/envs/amazonei_mxnet_p36/lib/python3.6/site-packages/botocore/client.py\u001b[0m in \u001b[0;36m_make_api_call\u001b[0;34m(self, operation_name, api_params)\u001b[0m\n\u001b[1;32m    717\u001b[0m             \u001b[0merror_code\u001b[0m \u001b[0;34m=\u001b[0m \u001b[0mparsed_response\u001b[0m\u001b[0;34m.\u001b[0m\u001b[0mget\u001b[0m\u001b[0;34m(\u001b[0m\u001b[0;34m\"Error\"\u001b[0m\u001b[0;34m,\u001b[0m \u001b[0;34m{\u001b[0m\u001b[0;34m}\u001b[0m\u001b[0;34m)\u001b[0m\u001b[0;34m.\u001b[0m\u001b[0mget\u001b[0m\u001b[0;34m(\u001b[0m\u001b[0;34m\"Code\"\u001b[0m\u001b[0;34m)\u001b[0m\u001b[0;34m\u001b[0m\u001b[0;34m\u001b[0m\u001b[0m\n\u001b[1;32m    718\u001b[0m             \u001b[0merror_class\u001b[0m \u001b[0;34m=\u001b[0m \u001b[0mself\u001b[0m\u001b[0;34m.\u001b[0m\u001b[0mexceptions\u001b[0m\u001b[0;34m.\u001b[0m\u001b[0mfrom_code\u001b[0m\u001b[0;34m(\u001b[0m\u001b[0merror_code\u001b[0m\u001b[0;34m)\u001b[0m\u001b[0;34m\u001b[0m\u001b[0;34m\u001b[0m\u001b[0m\n\u001b[0;32m--> 719\u001b[0;31m             \u001b[0;32mraise\u001b[0m \u001b[0merror_class\u001b[0m\u001b[0;34m(\u001b[0m\u001b[0mparsed_response\u001b[0m\u001b[0;34m,\u001b[0m \u001b[0moperation_name\u001b[0m\u001b[0;34m)\u001b[0m\u001b[0;34m\u001b[0m\u001b[0;34m\u001b[0m\u001b[0m\n\u001b[0m\u001b[1;32m    720\u001b[0m         \u001b[0;32melse\u001b[0m\u001b[0;34m:\u001b[0m\u001b[0;34m\u001b[0m\u001b[0;34m\u001b[0m\u001b[0m\n\u001b[1;32m    721\u001b[0m             \u001b[0;32mreturn\u001b[0m \u001b[0mparsed_response\u001b[0m\u001b[0;34m\u001b[0m\u001b[0;34m\u001b[0m\u001b[0m\n",
      "\u001b[0;31mClientError\u001b[0m: An error occurred (404) when calling the HeadObject operation: Not Found"
     ]
    }
   ],
   "source": [
    "import os\n",
    "import mxnet as mx\n",
    "import boto3\n",
    "\n",
    "key = '/readmissions/linreg/output/linear-learner-211230-1808-005-a9e8df26/output/'\n",
    "boto3.resource('s3').Bucket(session.default_bucket()).download_file(key, 'model.tar.gz')\n",
    " \n",
    "os.system('tar -zxvf model.tar.gz')\n",
    " \n",
    "# Linear learner model is itself a zip file, containing a mxnet model and other metadata.\n",
    "# First unzip the model.\n",
    "os.system('unzip model_algo-1') \n",
    " \n",
    "# Load the mxnet module\n",
    "mod = mx.module.Module.load(\"mx-mod\", 0)\n",
    " \n",
    "# model's weights\n",
    "mod._arg_params['fc0_weight'].asnumpy().flatten()\n",
    " \n",
    "# model bias\n",
    "mod._arg_params['fc0_bias'].asnumpy().flatten()\n",
    " \n",
    "# Using the model for prediction\n",
    "# First create a mxnet data iterator:\n",
    "# https://mxnet.incubator.apache.org/tutorials/basic/data.html#reading-data-in-memory\n",
    "# https://mxnet.incubator.apache.org/tutorials/basic/data.html#reading-data-from-csv-files\n",
    "data_iter = create_data_iter()\n",
    " \n",
    "# Next bind the module with the data shapes.\n",
    "mod.bind(data_shapes=data_iter.provide_data)\n",
    " \n",
    "# Predict\n",
    "mod.predict(data_iter)"
   ]
  },
  {
   "cell_type": "code",
   "execution_count": null,
   "id": "5f86d342",
   "metadata": {},
   "outputs": [],
   "source": []
  }
 ],
 "metadata": {
  "kernelspec": {
   "display_name": "conda_amazonei_mxnet_p36",
   "language": "python",
   "name": "conda_amazonei_mxnet_p36"
  },
  "language_info": {
   "codemirror_mode": {
    "name": "ipython",
    "version": 3
   },
   "file_extension": ".py",
   "mimetype": "text/x-python",
   "name": "python",
   "nbconvert_exporter": "python",
   "pygments_lexer": "ipython3",
   "version": "3.6.13"
  }
 },
 "nbformat": 4,
 "nbformat_minor": 5
}
