{
 "cells": [
  {
   "cell_type": "code",
   "execution_count": null,
   "id": "5e23e3c2",
   "metadata": {},
   "outputs": [],
   "source": [
    "!pip install sagemaker==1.72.0"
   ]
  },
  {
   "cell_type": "code",
   "execution_count": 1,
   "id": "a84de8b5",
   "metadata": {},
   "outputs": [],
   "source": [
    "## Import relevant libraries\n",
    "import os\n",
    "import boto3\n",
    "import re\n",
    "import sagemaker\n",
    "import pandas as pd\n",
    "import numpy as np\n",
    "import matplotlib.pyplot as plt\n",
    "import io\n",
    "import time\n",
    "import json\n",
    "import sagemaker.amazon.common as smac\n",
    "import scipy\n",
    "from sklearn.model_selection import train_test_split\n",
    "from sagemaker.amazon.amazon_estimator import get_image_uri\n",
    "\n",
    "## Defin role, region, session, and default s3 bucket ##\n",
    "role = sagemaker.get_execution_role()\n",
    "region = boto3.Session().region_name\n",
    "session = sagemaker.Session()\n",
    "bucket = session.default_bucket()"
   ]
  },
  {
   "cell_type": "code",
   "execution_count": 2,
   "id": "898dd819",
   "metadata": {},
   "outputs": [],
   "source": [
    "## Read in processed datasets ##\n",
    "X_sparse = scipy.sparse.load_npz('./data/readmissions_X.npz')\n",
    "y_sparse = scipy.sparse.load_npz('./data/readmissions_y.npz')\n",
    "X = pd.DataFrame(np.array(X_sparse.todense()))\n",
    "y = pd.DataFrame(np.array(y_sparse.todense()).reshape(-1,1))"
   ]
  },
  {
   "cell_type": "code",
   "execution_count": 3,
   "id": "5463cc22",
   "metadata": {},
   "outputs": [],
   "source": [
    "## Create train/test/validation sets ##\n",
    "X_train, X_test, y_train, y_test = train_test_split(X, y, test_size=0.33)\n",
    "X_train, X_val, y_train, y_val = train_test_split(X_train, y_train, test_size=0.33)"
   ]
  },
  {
   "cell_type": "markdown",
   "id": "d71ab26e",
   "metadata": {},
   "source": [
    "#### Build LinearLearner Classifier "
   ]
  },
  {
   "cell_type": "code",
   "execution_count": 6,
   "id": "8af6d7cd",
   "metadata": {},
   "outputs": [],
   "source": [
    "prefix = \"readmissions/linreg\"\n",
    "data_dir = './data/linreg/'\n",
    "if not os.path.exists(data_dir):\n",
    "    os.makedirs(data_dir)"
   ]
  },
  {
   "cell_type": "code",
   "execution_count": 7,
   "id": "6adf682b",
   "metadata": {},
   "outputs": [],
   "source": [
    "## Save test set to local data directory ##\n",
    "pd.DataFrame(X_test).to_csv(os.path.join(data_dir, 'X_test.csv'), header=False, index=False)\n",
    "pd.DataFrame(y_test).to_csv(os.path.join(data_dir, 'y_test.csv'), header=False, index=False)\n",
    "\n",
    "## Upload X_test set from local directory to s3 bucket ##\n",
    "test_location = session.upload_data(os.path.join(data_dir, 'X_test.csv'), key_prefix=prefix)"
   ]
  },
  {
   "cell_type": "code",
   "execution_count": 8,
   "id": "d233a3bb",
   "metadata": {},
   "outputs": [
    {
     "name": "stdout",
     "output_type": "stream",
     "text": [
      "uploaded training data location: s3://sagemaker-us-east-1-345989147144/readmissions/linreg/train/recordio-pb-data\n",
      "uploaded validation data location: s3://sagemaker-us-east-1-345989147144/readmissions/linreg/val/recordio-pb-data\n"
     ]
    }
   ],
   "source": [
    "import io\n",
    "import numpy as np\n",
    "import sagemaker.amazon.common as smac\n",
    "\n",
    "buf = io.BytesIO()\n",
    "smac.write_numpy_to_dense_tensor(buf, X_train.values.astype(\"float32\"), y_train.values[:,0].astype(\"float32\"))\n",
    "buf.seek(0)\n",
    "\n",
    "key = \"recordio-pb-data\"\n",
    "boto3.resource(\"s3\").Bucket(bucket).Object(os.path.join(prefix, \"train\", key)).upload_fileobj(buf)\n",
    "s3_train_data = f\"s3://{bucket}/{prefix}/train/{key}\"\n",
    "print(f\"uploaded training data location: {s3_train_data}\")\n",
    "\n",
    "buf = io.BytesIO()\n",
    "smac.write_numpy_to_dense_tensor(buf, X_val.values.astype(\"float32\"), y_val.values[:,0].astype(\"float32\"))\n",
    "buf.seek(0)\n",
    "\n",
    "key = \"recordio-pb-data\"\n",
    "boto3.resource(\"s3\").Bucket(bucket).Object(os.path.join(prefix, \"val\", key)).upload_fileobj(buf)\n",
    "s3_val_data = f\"s3://{bucket}/{prefix}/val/{key}\"\n",
    "print(f\"uploaded validation data location: {s3_val_data}\")"
   ]
  },
  {
   "cell_type": "code",
   "execution_count": 9,
   "id": "bf409e32",
   "metadata": {},
   "outputs": [
    {
     "name": "stderr",
     "output_type": "stream",
     "text": [
      "'get_image_uri' method will be deprecated in favor of 'ImageURIProvider' class in SageMaker Python SDK v2.\n",
      "Parameter image_name will be renamed to image_uri in SageMaker Python SDK v2.\n"
     ]
    }
   ],
   "source": [
    "## get image and define Linear Learner estimator object ##\n",
    "container = get_image_uri(session.boto_region_name, 'linear-learner')\n",
    "linear = sagemaker.estimator.Estimator(\n",
    "         container,\n",
    "         role,\n",
    "         train_instance_count=1,\n",
    "         train_instance_type=\"ml.c4.xlarge\",\n",
    "         output_path='s3://{}/{}/output'.format(session.default_bucket(), prefix),\n",
    "         sagemaker_session=session)"
   ]
  },
  {
   "cell_type": "code",
   "execution_count": 10,
   "id": "01a8ccde",
   "metadata": {},
   "outputs": [],
   "source": [
    "## Set default hyperparameters ##\n",
    "linear.set_hyperparameters(feature_dim=105, predictor_type=\"binary_classifier\")"
   ]
  },
  {
   "cell_type": "code",
   "execution_count": 11,
   "id": "ce43c95f",
   "metadata": {},
   "outputs": [],
   "source": [
    "## Instantiate tuner instance and input tunable hyperparameter ranges ##\n",
    "from sagemaker.tuner import IntegerParameter, ContinuousParameter, CategoricalParameter, HyperparameterTuner\n",
    "lin_hyperparameter_tuner = HyperparameterTuner(estimator = linear, \n",
    "                                               objective_metric_name = 'validation:binary_classification_accuracy', \n",
    "                                               objective_type = 'Maximize',\n",
    "                                               max_jobs = 20,\n",
    "                                               max_parallel_jobs = 3,\n",
    "                                               hyperparameter_ranges = {\n",
    "                                                    'wd': ContinuousParameter(0.1, 1.0),\n",
    "                                                    'l1'      : ContinuousParameter(0.1, 1.0),\n",
    "                                                    'learning_rate': ContinuousParameter(0.1, 1.0),\n",
    "                                                    'mini_batch_size': IntegerParameter(100, 5000),\n",
    "                                                    'use_bias': CategoricalParameter([True, False])})"
   ]
  },
  {
   "cell_type": "code",
   "execution_count": 12,
   "id": "51d2ef8f",
   "metadata": {},
   "outputs": [
    {
     "name": "stderr",
     "output_type": "stream",
     "text": [
      "'s3_input' class will be renamed to 'TrainingInput' in SageMaker Python SDK v2.\n",
      "'s3_input' class will be renamed to 'TrainingInput' in SageMaker Python SDK v2.\n"
     ]
    },
    {
     "name": "stdout",
     "output_type": "stream",
     "text": [
      "................................................................................................................................................................................................................................................................................................................................................................................................!\n"
     ]
    }
   ],
   "source": [
    "## Point tuner object to training/validation s3 locations and fit tuner##\n",
    "lin_hyperparameter_tuner.fit({'train': s3_train_data, 'validation': s3_val_data})\n",
    "lin_hyperparameter_tuner.wait()"
   ]
  },
  {
   "cell_type": "code",
   "execution_count": 13,
   "id": "b6724aef",
   "metadata": {},
   "outputs": [
    {
     "data": {
      "text/html": [
       "<div>\n",
       "<style scoped>\n",
       "    .dataframe tbody tr th:only-of-type {\n",
       "        vertical-align: middle;\n",
       "    }\n",
       "\n",
       "    .dataframe tbody tr th {\n",
       "        vertical-align: top;\n",
       "    }\n",
       "\n",
       "    .dataframe thead th {\n",
       "        text-align: right;\n",
       "    }\n",
       "</style>\n",
       "<table border=\"1\" class=\"dataframe\">\n",
       "  <thead>\n",
       "    <tr style=\"text-align: right;\">\n",
       "      <th></th>\n",
       "      <th>l1</th>\n",
       "      <th>learning_rate</th>\n",
       "      <th>mini_batch_size</th>\n",
       "      <th>use_bias</th>\n",
       "      <th>wd</th>\n",
       "      <th>TrainingJobName</th>\n",
       "      <th>TrainingJobStatus</th>\n",
       "      <th>FinalObjectiveValue</th>\n",
       "      <th>TrainingStartTime</th>\n",
       "      <th>TrainingEndTime</th>\n",
       "      <th>TrainingElapsedTimeSeconds</th>\n",
       "    </tr>\n",
       "  </thead>\n",
       "  <tbody>\n",
       "    <tr>\n",
       "      <th>1</th>\n",
       "      <td>0.827257</td>\n",
       "      <td>0.111872</td>\n",
       "      <td>5000.0</td>\n",
       "      <td>False</td>\n",
       "      <td>0.116501</td>\n",
       "      <td>linear-learner-220107-1620-019-4bee4bc2</td>\n",
       "      <td>Completed</td>\n",
       "      <td>0.624094</td>\n",
       "      <td>2022-01-07 16:49:14+00:00</td>\n",
       "      <td>2022-01-07 16:50:12+00:00</td>\n",
       "      <td>58.0</td>\n",
       "    </tr>\n",
       "  </tbody>\n",
       "</table>\n",
       "</div>"
      ],
      "text/plain": [
       "         l1  learning_rate  mini_batch_size use_bias        wd  \\\n",
       "1  0.827257       0.111872           5000.0    False  0.116501   \n",
       "\n",
       "                           TrainingJobName TrainingJobStatus  \\\n",
       "1  linear-learner-220107-1620-019-4bee4bc2         Completed   \n",
       "\n",
       "   FinalObjectiveValue         TrainingStartTime           TrainingEndTime  \\\n",
       "1             0.624094 2022-01-07 16:49:14+00:00 2022-01-07 16:50:12+00:00   \n",
       "\n",
       "   TrainingElapsedTimeSeconds  \n",
       "1                        58.0  "
      ]
     },
     "execution_count": 13,
     "metadata": {},
     "output_type": "execute_result"
    }
   ],
   "source": [
    "## View Hyperparameters and performance for best job ##\n",
    "analytics = lin_hyperparameter_tuner.analytics()\n",
    "analytics_df = analytics.dataframe()\n",
    "\n",
    "best_job = lin_hyperparameter_tuner.best_training_job()\n",
    "analytics_df[analytics_df['TrainingJobName'] == best_job]"
   ]
  },
  {
   "cell_type": "code",
   "execution_count": 14,
   "id": "df51691c",
   "metadata": {},
   "outputs": [
    {
     "data": {
      "text/plain": [
       "'s3://sagemaker-us-east-1-345989147144/readmissions/linreg/X_test.csv'"
      ]
     },
     "execution_count": 14,
     "metadata": {},
     "output_type": "execute_result"
    }
   ],
   "source": [
    "test_location"
   ]
  },
  {
   "cell_type": "code",
   "execution_count": 15,
   "id": "19fd976c",
   "metadata": {
    "collapsed": true,
    "jupyter": {
     "outputs_hidden": true
    }
   },
   "outputs": [
    {
     "name": "stderr",
     "output_type": "stream",
     "text": [
      "Parameter image_name will be renamed to image_uri in SageMaker Python SDK v2.\n"
     ]
    },
    {
     "name": "stdout",
     "output_type": "stream",
     "text": [
      "2022-01-07 16:50:12 Starting - Preparing the instances for training\n",
      "2022-01-07 16:50:12 Downloading - Downloading input data\n",
      "2022-01-07 16:50:12 Training - Training image download completed. Training in progress.\n",
      "2022-01-07 16:50:12 Uploading - Uploading generated training model\n",
      "2022-01-07 16:50:12 Completed - Training job completed\u001b[34mDocker entrypoint called with argument(s): train\u001b[0m\n",
      "\u001b[34mRunning default environment configuration script\u001b[0m\n",
      "\u001b[34m[01/07/2022 16:49:52 INFO 140020506400576 integration.py:636] worker started\u001b[0m\n",
      "\u001b[34m[01/07/2022 16:49:52 INFO 140020506400576] Reading default configuration from /opt/amazon/lib/python3.7/site-packages/algorithm/resources/default-input.json: {'mini_batch_size': '1000', 'epochs': '15', 'feature_dim': 'auto', 'use_bias': 'true', 'binary_classifier_model_selection_criteria': 'accuracy', 'f_beta': '1.0', 'target_recall': '0.8', 'target_precision': '0.8', 'num_models': 'auto', 'num_calibration_samples': '10000000', 'init_method': 'uniform', 'init_scale': '0.07', 'init_sigma': '0.01', 'init_bias': '0.0', 'optimizer': 'auto', 'loss': 'auto', 'margin': '1.0', 'quantile': '0.5', 'loss_insensitivity': '0.01', 'huber_delta': '1.0', 'num_classes': '1', 'accuracy_top_k': '3', 'wd': 'auto', 'l1': 'auto', 'momentum': 'auto', 'learning_rate': 'auto', 'beta_1': 'auto', 'beta_2': 'auto', 'bias_lr_mult': 'auto', 'bias_wd_mult': 'auto', 'use_lr_scheduler': 'true', 'lr_scheduler_step': 'auto', 'lr_scheduler_factor': 'auto', 'lr_scheduler_minimum_lr': 'auto', 'positive_example_weight_mult': '1.0', 'balance_multiclass_weights': 'false', 'normalize_data': 'true', 'normalize_label': 'auto', 'unbias_data': 'auto', 'unbias_label': 'auto', 'num_point_for_scaler': '10000', '_kvstore': 'auto', '_num_gpus': 'auto', '_num_kv_servers': 'auto', '_log_level': 'info', '_tuning_objective_metric': '', 'early_stopping_patience': '3', 'early_stopping_tolerance': '0.001', '_enable_profiler': 'false'}\u001b[0m\n",
      "\u001b[34m[01/07/2022 16:49:52 INFO 140020506400576] Merging with provided configuration from /opt/ml/input/config/hyperparameters.json: {'_tuning_objective_metric': 'validation:binary_classification_accuracy', 'feature_dim': '105', 'l1': '0.8272565685996943', 'learning_rate': '0.11187150420506253', 'mini_batch_size': '5000', 'predictor_type': 'binary_classifier', 'use_bias': 'False', 'wd': '0.11650104652635215'}\u001b[0m\n",
      "\u001b[34m[01/07/2022 16:49:52 INFO 140020506400576] Final configuration: {'mini_batch_size': '5000', 'epochs': '15', 'feature_dim': '105', 'use_bias': 'False', 'binary_classifier_model_selection_criteria': 'accuracy', 'f_beta': '1.0', 'target_recall': '0.8', 'target_precision': '0.8', 'num_models': 'auto', 'num_calibration_samples': '10000000', 'init_method': 'uniform', 'init_scale': '0.07', 'init_sigma': '0.01', 'init_bias': '0.0', 'optimizer': 'auto', 'loss': 'auto', 'margin': '1.0', 'quantile': '0.5', 'loss_insensitivity': '0.01', 'huber_delta': '1.0', 'num_classes': '1', 'accuracy_top_k': '3', 'wd': '0.11650104652635215', 'l1': '0.8272565685996943', 'momentum': 'auto', 'learning_rate': '0.11187150420506253', 'beta_1': 'auto', 'beta_2': 'auto', 'bias_lr_mult': 'auto', 'bias_wd_mult': 'auto', 'use_lr_scheduler': 'true', 'lr_scheduler_step': 'auto', 'lr_scheduler_factor': 'auto', 'lr_scheduler_minimum_lr': 'auto', 'positive_example_weight_mult': '1.0', 'balance_multiclass_weights': 'false', 'normalize_data': 'true', 'normalize_label': 'auto', 'unbias_data': 'auto', 'unbias_label': 'auto', 'num_point_for_scaler': '10000', '_kvstore': 'auto', '_num_gpus': 'auto', '_num_kv_servers': 'auto', '_log_level': 'info', '_tuning_objective_metric': 'validation:binary_classification_accuracy', 'early_stopping_patience': '3', 'early_stopping_tolerance': '0.001', '_enable_profiler': 'false', 'predictor_type': 'binary_classifier'}\u001b[0m\n",
      "\u001b[34m[01/07/2022 16:49:52 WARNING 140020506400576] Loggers have already been setup.\u001b[0m\n",
      "\u001b[34mProcess 1 is a worker.\u001b[0m\n",
      "\u001b[34m[01/07/2022 16:49:52 INFO 140020506400576] Using default worker.\u001b[0m\n",
      "\u001b[34m[01/07/2022 16:49:52 INFO 140020506400576] Checkpoint loading and saving are disabled.\u001b[0m\n",
      "\u001b[34m[2022-01-07 16:49:52.816] [tensorio] [warning] TensorIO is already initialized; ignoring the initialization routine.\u001b[0m\n",
      "\u001b[34m[2022-01-07 16:49:52.880] [tensorio] [info] epoch_stats={\"data_pipeline\": \"/opt/ml/input/data/train\", \"epoch\": 0, \"duration\": 79, \"num_examples\": 1, \"num_bytes\": 2340000}\u001b[0m\n",
      "\u001b[34m[01/07/2022 16:49:52 INFO 140020506400576] Create Store: local\u001b[0m\n",
      "\u001b[34m[2022-01-07 16:49:52.985] [tensorio] [info] epoch_stats={\"data_pipeline\": \"/opt/ml/input/data/train\", \"epoch\": 1, \"duration\": 104, \"num_examples\": 3, \"num_bytes\": 7020000}\u001b[0m\n",
      "\u001b[34m[01/07/2022 16:49:52 INFO 140020506400576] Scaler algorithm parameters\n",
      " <algorithm.scaler.ScalerAlgorithmStable object at 0x7f58afdd8490>\u001b[0m\n",
      "\u001b[34m[01/07/2022 16:49:52 INFO 140020506400576] Scaling model computed with parameters:\n",
      " {'stdev_label': None, 'stdev_weight': \u001b[0m\n",
      "\u001b[34m[17.855608    5.311641   47.15253     2.1500077   1.2607406   0.9228578\n",
      "  1.4411569   7.6821876   0.14605935  0.8678709   0.132665    0.11747339\n",
      "  0.73552704  0.6774462   0.18708287  0.30778778  0.4094712   0.51244515\n",
      "  0.4116633   0.15011108  0.9834633   0.11916375  0.33684814  0.11661904\n",
      "  0.10198039  0.14        0.28495613  0.14854853  0.10263202  0.10923982\n",
      "  0.1979899   0.20992063  0.16693313  0.14        0.14306176  0.11489125\n",
      "  0.12192895  0.1086278   0.24207439  0.2624246   0.12355835  0.19061305\n",
      "  0.16552944  0.15275252  0.11547005  0.22181074  0.26140645  0.12727922\n",
      "  0.1854724   0.13063945  0.11944316  0.13784048  0.10551462  0.13063946\n",
      "  0.1356466   0.18147545  0.2624246   0.1616581   0.26545557  0.18202563\n",
      "  0.14259498  0.10801234  0.09865765  0.11343133  0.12987174  0.14854853\n",
      "  0.20297784  0.10519822  0.142595    0.21150255  0.15275252  0.56314594\n",
      "  0.15405627  0.6974717   0.23079573  0.27580184  0.27276364  0.37780064\n",
      "  0.12027745  0.12247449  0.10519822  0.10614456  0.17320508  0.19899748\n",
      "  0.28832853  0.91155547  0.2152518   0.11944315  0.10165301  0.89233774\n",
      "  0.43204933  0.10295631  0.12301762  0.33950946  0.304412    0.27018514\n",
      "  0.2471167   0.34438354  0.68166465  0.5510596   0.33625385  0.68556553\n",
      "  0.72801095  0.46932572  0.88302505]\u001b[0m\n",
      "\u001b[34m<NDArray 105 @cpu(0)>, 'mean_label': None, 'mean_weight': None}\u001b[0m\n",
      "\u001b[34m[01/07/2022 16:49:53 INFO 140020506400576] nvidia-smi: took 0.058 seconds to run.\u001b[0m\n",
      "\u001b[34m[01/07/2022 16:49:53 INFO 140020506400576] nvidia-smi identified 0 GPUs.\u001b[0m\n",
      "\u001b[34m[01/07/2022 16:49:53 INFO 140020506400576] Number of GPUs being used: 0\u001b[0m\n",
      "\u001b[34m#metrics {\"StartTime\": 1641574193.0622096, \"EndTime\": 1641574193.062265, \"Dimensions\": {\"Algorithm\": \"Linear Learner\", \"Host\": \"algo-1\", \"Operation\": \"training\", \"Meta\": \"init_train_data_iter\"}, \"Metrics\": {\"Total Records Seen\": {\"sum\": 20000.0, \"count\": 1, \"min\": 20000, \"max\": 20000}, \"Total Batches Seen\": {\"sum\": 4.0, \"count\": 1, \"min\": 4, \"max\": 4}, \"Max Records Seen Between Resets\": {\"sum\": 15000.0, \"count\": 1, \"min\": 15000, \"max\": 15000}, \"Max Batches Seen Between Resets\": {\"sum\": 3.0, \"count\": 1, \"min\": 3, \"max\": 3}, \"Reset Count\": {\"sum\": 2.0, \"count\": 1, \"min\": 2, \"max\": 2}, \"Number of Records Since Last Reset\": {\"sum\": 0.0, \"count\": 1, \"min\": 0, \"max\": 0}, \"Number of Batches Since Last Reset\": {\"sum\": 0.0, \"count\": 1, \"min\": 0, \"max\": 0}}}\u001b[0m\n",
      "\u001b[34m[2022-01-07 16:49:53.163] [tensorio] [info] epoch_stats={\"data_pipeline\": \"/opt/ml/input/data/train\", \"epoch\": 3, \"duration\": 100, \"num_examples\": 9, \"num_bytes\": 19670508}\u001b[0m\n",
      "\u001b[34m#metrics {\"StartTime\": 1641574193.1633067, \"EndTime\": 1641574193.1633697, \"Dimensions\": {\"Algorithm\": \"Linear Learner\", \"Host\": \"algo-1\", \"Operation\": \"training\", \"epoch\": 0, \"model\": 0}, \"Metrics\": {\"train_binary_classification_cross_entropy_objective\": {\"sum\": 0.8329161926269532, \"count\": 1, \"min\": 0.8329161926269532, \"max\": 0.8329161926269532}}}\u001b[0m\n",
      "\u001b[34m[01/07/2022 16:49:53 INFO 140020506400576] #quality_metric: host=algo-1, epoch=0, train binary_classification_cross_entropy_objective <loss>=0.8329161926269532\u001b[0m\n",
      "\u001b[34m[2022-01-07 16:49:53.165] [tensorio] [info] epoch_stats={\"data_pipeline\": \"/opt/ml/input/data/validation\", \"epoch\": 0, \"duration\": 349, \"num_examples\": 1, \"num_bytes\": 2340000}\u001b[0m\n",
      "\u001b[34m[2022-01-07 16:49:53.298] [tensorio] [info] epoch_stats={\"data_pipeline\": \"/opt/ml/input/data/validation\", \"epoch\": 2, \"duration\": 132, \"num_examples\": 5, \"num_bytes\": 9688536}\u001b[0m\n",
      "\u001b[34m#metrics {\"StartTime\": 1641574193.3281796, \"EndTime\": 1641574193.328237, \"Dimensions\": {\"Algorithm\": \"Linear Learner\", \"Host\": \"algo-1\", \"Operation\": \"training\", \"epoch\": 0, \"model\": 0}, \"Metrics\": {\"validation_binary_classification_cross_entropy_objective\": {\"sum\": 0.7760238551642051, \"count\": 1, \"min\": 0.7760238551642051, \"max\": 0.7760238551642051}}}\u001b[0m\n",
      "\u001b[34m[01/07/2022 16:49:53 INFO 140020506400576] #quality_metric: host=algo-1, epoch=0, validation binary_classification_cross_entropy_objective <loss>=0.7760238551642051\u001b[0m\n",
      "\u001b[34m[01/07/2022 16:49:53 INFO 140020506400576] #early_stopping_criteria_metric: host=algo-1, epoch=0, criteria=sampled_accuracy, value=0.5883006472804581\u001b[0m\n",
      "\u001b[34m[01/07/2022 16:49:53 INFO 140020506400576] Epoch 0: Loss improved. Updating best model\u001b[0m\n",
      "\u001b[34m[01/07/2022 16:49:53 INFO 140020506400576] Saving model for epoch: 0\u001b[0m\n",
      "\u001b[34m[01/07/2022 16:49:53 INFO 140020506400576] Saved checkpoint to \"/tmp/tmp_qy039mr/mx-mod-0000.params\"\u001b[0m\n",
      "\u001b[34m[01/07/2022 16:49:53 INFO 140020506400576] #progress_metric: host=algo-1, completed 6.666666666666667 % of epochs\u001b[0m\n",
      "\u001b[34m#metrics {\"StartTime\": 1641574193.062997, \"EndTime\": 1641574193.339572, \"Dimensions\": {\"Algorithm\": \"Linear Learner\", \"Host\": \"algo-1\", \"Operation\": \"training\", \"epoch\": 0, \"Meta\": \"training_data_iter\"}, \"Metrics\": {\"Total Records Seen\": {\"sum\": 62031.0, \"count\": 1, \"min\": 62031, \"max\": 62031}, \"Total Batches Seen\": {\"sum\": 13.0, \"count\": 1, \"min\": 13, \"max\": 13}, \"Max Records Seen Between Resets\": {\"sum\": 42031.0, \"count\": 1, \"min\": 42031, \"max\": 42031}, \"Max Batches Seen Between Resets\": {\"sum\": 9.0, \"count\": 1, \"min\": 9, \"max\": 9}, \"Reset Count\": {\"sum\": 3.0, \"count\": 1, \"min\": 3, \"max\": 3}, \"Number of Records Since Last Reset\": {\"sum\": 42031.0, \"count\": 1, \"min\": 42031, \"max\": 42031}, \"Number of Batches Since Last Reset\": {\"sum\": 9.0, \"count\": 1, \"min\": 9, \"max\": 9}}}\u001b[0m\n",
      "\u001b[34m[01/07/2022 16:49:53 INFO 140020506400576] #throughput_metric: host=algo-1, train throughput=151896.51492075637 records/second\u001b[0m\n",
      "\u001b[34m[2022-01-07 16:49:53.434] [tensorio] [info] epoch_stats={\"data_pipeline\": \"/opt/ml/input/data/train\", \"epoch\": 5, \"duration\": 93, \"num_examples\": 9, \"num_bytes\": 19670508}\u001b[0m\n",
      "\u001b[34m#metrics {\"StartTime\": 1641574193.434341, \"EndTime\": 1641574193.4343927, \"Dimensions\": {\"Algorithm\": \"Linear Learner\", \"Host\": \"algo-1\", \"Operation\": \"training\", \"epoch\": 1, \"model\": 0}, \"Metrics\": {\"train_binary_classification_cross_entropy_objective\": {\"sum\": 0.7154484252929687, \"count\": 1, \"min\": 0.7154484252929687, \"max\": 0.7154484252929687}}}\u001b[0m\n",
      "\u001b[34m[01/07/2022 16:49:53 INFO 140020506400576] #quality_metric: host=algo-1, epoch=1, train binary_classification_cross_entropy_objective <loss>=0.7154484252929687\u001b[0m\n",
      "\u001b[34m[2022-01-07 16:49:53.575] [tensorio] [info] epoch_stats={\"data_pipeline\": \"/opt/ml/input/data/validation\", \"epoch\": 5, \"duration\": 138, \"num_examples\": 5, \"num_bytes\": 9688536}\u001b[0m\n",
      "\u001b[34m#metrics {\"StartTime\": 1641574193.595376, \"EndTime\": 1641574193.5954134, \"Dimensions\": {\"Algorithm\": \"Linear Learner\", \"Host\": \"algo-1\", \"Operation\": \"training\", \"epoch\": 1, \"model\": 0}, \"Metrics\": {\"validation_binary_classification_cross_entropy_objective\": {\"sum\": 0.7134513011037203, \"count\": 1, \"min\": 0.7134513011037203, \"max\": 0.7134513011037203}}}\u001b[0m\n",
      "\u001b[34m[01/07/2022 16:49:53 INFO 140020506400576] #quality_metric: host=algo-1, epoch=1, validation binary_classification_cross_entropy_objective <loss>=0.7134513011037203\u001b[0m\n",
      "\u001b[34m[01/07/2022 16:49:53 INFO 140020506400576] #early_stopping_criteria_metric: host=algo-1, epoch=1, criteria=sampled_accuracy, value=0.5975268090039629\u001b[0m\n",
      "\u001b[34m[01/07/2022 16:49:53 INFO 140020506400576] Epoch 1: Loss improved. Updating best model\u001b[0m\n",
      "\u001b[34m[01/07/2022 16:49:53 INFO 140020506400576] Saving model for epoch: 1\u001b[0m\n",
      "\u001b[34m[01/07/2022 16:49:53 INFO 140020506400576] Saved checkpoint to \"/tmp/tmpgob_jfyi/mx-mod-0000.params\"\u001b[0m\n",
      "\u001b[34m[01/07/2022 16:49:53 INFO 140020506400576] #progress_metric: host=algo-1, completed 13.333333333333334 % of epochs\u001b[0m\n",
      "\u001b[34m#metrics {\"StartTime\": 1641574193.340842, \"EndTime\": 1641574193.6016996, \"Dimensions\": {\"Algorithm\": \"Linear Learner\", \"Host\": \"algo-1\", \"Operation\": \"training\", \"epoch\": 1, \"Meta\": \"training_data_iter\"}, \"Metrics\": {\"Total Records Seen\": {\"sum\": 104062.0, \"count\": 1, \"min\": 104062, \"max\": 104062}, \"Total Batches Seen\": {\"sum\": 22.0, \"count\": 1, \"min\": 22, \"max\": 22}, \"Max Records Seen Between Resets\": {\"sum\": 42031.0, \"count\": 1, \"min\": 42031, \"max\": 42031}, \"Max Batches Seen Between Resets\": {\"sum\": 9.0, \"count\": 1, \"min\": 9, \"max\": 9}, \"Reset Count\": {\"sum\": 4.0, \"count\": 1, \"min\": 4, \"max\": 4}, \"Number of Records Since Last Reset\": {\"sum\": 42031.0, \"count\": 1, \"min\": 42031, \"max\": 42031}, \"Number of Batches Since Last Reset\": {\"sum\": 9.0, \"count\": 1, \"min\": 9, \"max\": 9}}}\u001b[0m\n",
      "\u001b[34m[01/07/2022 16:49:53 INFO 140020506400576] #throughput_metric: host=algo-1, train throughput=161041.89539129377 records/second\u001b[0m\n",
      "\u001b[34m[2022-01-07 16:49:53.689] [tensorio] [info] epoch_stats={\"data_pipeline\": \"/opt/ml/input/data/train\", \"epoch\": 7, \"duration\": 87, \"num_examples\": 9, \"num_bytes\": 19670508}\u001b[0m\n",
      "\u001b[34m#metrics {\"StartTime\": 1641574193.6896632, \"EndTime\": 1641574193.6897137, \"Dimensions\": {\"Algorithm\": \"Linear Learner\", \"Host\": \"algo-1\", \"Operation\": \"training\", \"epoch\": 2, \"model\": 0}, \"Metrics\": {\"train_binary_classification_cross_entropy_objective\": {\"sum\": 0.6773851257324218, \"count\": 1, \"min\": 0.6773851257324218, \"max\": 0.6773851257324218}}}\u001b[0m\n",
      "\u001b[34m[01/07/2022 16:49:53 INFO 140020506400576] #quality_metric: host=algo-1, epoch=2, train binary_classification_cross_entropy_objective <loss>=0.6773851257324218\u001b[0m\n",
      "\u001b[34m[2022-01-07 16:49:53.815] [tensorio] [info] epoch_stats={\"data_pipeline\": \"/opt/ml/input/data/validation\", \"epoch\": 8, \"duration\": 124, \"num_examples\": 5, \"num_bytes\": 9688536}\u001b[0m\n",
      "\u001b[34m#metrics {\"StartTime\": 1641574193.8399234, \"EndTime\": 1641574193.8399785, \"Dimensions\": {\"Algorithm\": \"Linear Learner\", \"Host\": \"algo-1\", \"Operation\": \"training\", \"epoch\": 2, \"model\": 0}, \"Metrics\": {\"validation_binary_classification_cross_entropy_objective\": {\"sum\": 0.6833339702586669, \"count\": 1, \"min\": 0.6833339702586669, \"max\": 0.6833339702586669}}}\u001b[0m\n",
      "\u001b[34m[01/07/2022 16:49:53 INFO 140020506400576] #quality_metric: host=algo-1, epoch=2, validation binary_classification_cross_entropy_objective <loss>=0.6833339702586669\u001b[0m\n",
      "\u001b[34m[01/07/2022 16:49:53 INFO 140020506400576] #early_stopping_criteria_metric: host=algo-1, epoch=2, criteria=sampled_accuracy, value=0.6122596850545861\u001b[0m\n",
      "\u001b[34m[01/07/2022 16:49:53 INFO 140020506400576] Epoch 2: Loss improved. Updating best model\u001b[0m\n",
      "\u001b[34m[01/07/2022 16:49:53 INFO 140020506400576] Saving model for epoch: 2\u001b[0m\n",
      "\u001b[34m[01/07/2022 16:49:53 INFO 140020506400576] Saved checkpoint to \"/tmp/tmp32gcade2/mx-mod-0000.params\"\u001b[0m\n",
      "\u001b[34m[01/07/2022 16:49:53 INFO 140020506400576] #progress_metric: host=algo-1, completed 20.0 % of epochs\u001b[0m\n",
      "\u001b[34m#metrics {\"StartTime\": 1641574193.6020076, \"EndTime\": 1641574193.8466315, \"Dimensions\": {\"Algorithm\": \"Linear Learner\", \"Host\": \"algo-1\", \"Operation\": \"training\", \"epoch\": 2, \"Meta\": \"training_data_iter\"}, \"Metrics\": {\"Total Records Seen\": {\"sum\": 146093.0, \"count\": 1, \"min\": 146093, \"max\": 146093}, \"Total Batches Seen\": {\"sum\": 31.0, \"count\": 1, \"min\": 31, \"max\": 31}, \"Max Records Seen Between Resets\": {\"sum\": 42031.0, \"count\": 1, \"min\": 42031, \"max\": 42031}, \"Max Batches Seen Between Resets\": {\"sum\": 9.0, \"count\": 1, \"min\": 9, \"max\": 9}, \"Reset Count\": {\"sum\": 5.0, \"count\": 1, \"min\": 5, \"max\": 5}, \"Number of Records Since Last Reset\": {\"sum\": 42031.0, \"count\": 1, \"min\": 42031, \"max\": 42031}, \"Number of Batches Since Last Reset\": {\"sum\": 9.0, \"count\": 1, \"min\": 9, \"max\": 9}}}\u001b[0m\n",
      "\u001b[34m[01/07/2022 16:49:53 INFO 140020506400576] #throughput_metric: host=algo-1, train throughput=171704.8970340155 records/second\u001b[0m\n",
      "\u001b[34m[2022-01-07 16:49:53.967] [tensorio] [info] epoch_stats={\"data_pipeline\": \"/opt/ml/input/data/train\", \"epoch\": 9, \"duration\": 119, \"num_examples\": 9, \"num_bytes\": 19670508}\u001b[0m\n",
      "\u001b[34m#metrics {\"StartTime\": 1641574193.9671788, \"EndTime\": 1641574193.967229, \"Dimensions\": {\"Algorithm\": \"Linear Learner\", \"Host\": \"algo-1\", \"Operation\": \"training\", \"epoch\": 3, \"model\": 0}, \"Metrics\": {\"train_binary_classification_cross_entropy_objective\": {\"sum\": 0.6638246887207031, \"count\": 1, \"min\": 0.6638246887207031, \"max\": 0.6638246887207031}}}\u001b[0m\n",
      "\u001b[34m[01/07/2022 16:49:53 INFO 140020506400576] #quality_metric: host=algo-1, epoch=3, train binary_classification_cross_entropy_objective <loss>=0.6638246887207031\u001b[0m\n",
      "\u001b[34m[2022-01-07 16:49:54.144] [tensorio] [info] epoch_stats={\"data_pipeline\": \"/opt/ml/input/data/validation\", \"epoch\": 11, \"duration\": 176, \"num_examples\": 5, \"num_bytes\": 9688536}\u001b[0m\n",
      "\u001b[34m#metrics {\"StartTime\": 1641574194.1723814, \"EndTime\": 1641574194.1724224, \"Dimensions\": {\"Algorithm\": \"Linear Learner\", \"Host\": \"algo-1\", \"Operation\": \"training\", \"epoch\": 3, \"model\": 0}, \"Metrics\": {\"validation_binary_classification_cross_entropy_objective\": {\"sum\": 0.6646022890607074, \"count\": 1, \"min\": 0.6646022890607074, \"max\": 0.6646022890607074}}}\u001b[0m\n",
      "\u001b[34m[01/07/2022 16:49:54 INFO 140020506400576] #quality_metric: host=algo-1, epoch=3, validation binary_classification_cross_entropy_objective <loss>=0.6646022890607074\u001b[0m\n",
      "\u001b[34m[01/07/2022 16:49:54 INFO 140020506400576] #early_stopping_criteria_metric: host=algo-1, epoch=3, criteria=sampled_accuracy, value=0.6183943580330422\u001b[0m\n",
      "\u001b[34m[01/07/2022 16:49:54 INFO 140020506400576] Epoch 3: Loss improved. Updating best model\u001b[0m\n",
      "\u001b[34m[01/07/2022 16:49:54 INFO 140020506400576] Saving model for epoch: 3\u001b[0m\n",
      "\u001b[34m[01/07/2022 16:49:54 INFO 140020506400576] Saved checkpoint to \"/tmp/tmpokhiex3e/mx-mod-0000.params\"\u001b[0m\n",
      "\u001b[34m[01/07/2022 16:49:54 INFO 140020506400576] #progress_metric: host=algo-1, completed 26.666666666666668 % of epochs\u001b[0m\n",
      "\u001b[34m#metrics {\"StartTime\": 1641574193.8473773, \"EndTime\": 1641574194.178564, \"Dimensions\": {\"Algorithm\": \"Linear Learner\", \"Host\": \"algo-1\", \"Operation\": \"training\", \"epoch\": 3, \"Meta\": \"training_data_iter\"}, \"Metrics\": {\"Total Records Seen\": {\"sum\": 188124.0, \"count\": 1, \"min\": 188124, \"max\": 188124}, \"Total Batches Seen\": {\"sum\": 40.0, \"count\": 1, \"min\": 40, \"max\": 40}, \"Max Records Seen Between Resets\": {\"sum\": 42031.0, \"count\": 1, \"min\": 42031, \"max\": 42031}, \"Max Batches Seen Between Resets\": {\"sum\": 9.0, \"count\": 1, \"min\": 9, \"max\": 9}, \"Reset Count\": {\"sum\": 6.0, \"count\": 1, \"min\": 6, \"max\": 6}, \"Number of Records Since Last Reset\": {\"sum\": 42031.0, \"count\": 1, \"min\": 42031, \"max\": 42031}, \"Number of Batches Since Last Reset\": {\"sum\": 9.0, \"count\": 1, \"min\": 9, \"max\": 9}}}\u001b[0m\n",
      "\u001b[34m[01/07/2022 16:49:54 INFO 140020506400576] #throughput_metric: host=algo-1, train throughput=126859.85062713633 records/second\u001b[0m\n",
      "\u001b[34m[2022-01-07 16:49:54.296] [tensorio] [info] epoch_stats={\"data_pipeline\": \"/opt/ml/input/data/train\", \"epoch\": 11, \"duration\": 116, \"num_examples\": 9, \"num_bytes\": 19670508}\u001b[0m\n",
      "\u001b[34m#metrics {\"StartTime\": 1641574194.2972605, \"EndTime\": 1641574194.2973094, \"Dimensions\": {\"Algorithm\": \"Linear Learner\", \"Host\": \"algo-1\", \"Operation\": \"training\", \"epoch\": 4, \"model\": 0}, \"Metrics\": {\"train_binary_classification_cross_entropy_objective\": {\"sum\": 0.6570646789550781, \"count\": 1, \"min\": 0.6570646789550781, \"max\": 0.6570646789550781}}}\u001b[0m\n",
      "\u001b[34m[01/07/2022 16:49:54 INFO 140020506400576] #quality_metric: host=algo-1, epoch=4, train binary_classification_cross_entropy_objective <loss>=0.6570646789550781\u001b[0m\n",
      "\u001b[34m[2022-01-07 16:49:54.441] [tensorio] [info] epoch_stats={\"data_pipeline\": \"/opt/ml/input/data/validation\", \"epoch\": 14, \"duration\": 142, \"num_examples\": 5, \"num_bytes\": 9688536}\u001b[0m\n",
      "\u001b[34m#metrics {\"StartTime\": 1641574194.467734, \"EndTime\": 1641574194.4677927, \"Dimensions\": {\"Algorithm\": \"Linear Learner\", \"Host\": \"algo-1\", \"Operation\": \"training\", \"epoch\": 4, \"model\": 0}, \"Metrics\": {\"validation_binary_classification_cross_entropy_objective\": {\"sum\": 0.6567744285562122, \"count\": 1, \"min\": 0.6567744285562122, \"max\": 0.6567744285562122}}}\u001b[0m\n",
      "\u001b[34m[01/07/2022 16:49:54 INFO 140020506400576] #quality_metric: host=algo-1, epoch=4, validation binary_classification_cross_entropy_objective <loss>=0.6567744285562122\u001b[0m\n",
      "\u001b[34m[01/07/2022 16:49:54 INFO 140020506400576] #early_stopping_criteria_metric: host=algo-1, epoch=4, criteria=sampled_accuracy, value=0.6214858467780909\u001b[0m\n",
      "\u001b[34m[01/07/2022 16:49:54 INFO 140020506400576] Epoch 4: Loss improved. Updating best model\u001b[0m\n",
      "\u001b[34m[01/07/2022 16:49:54 INFO 140020506400576] Saving model for epoch: 4\u001b[0m\n",
      "\u001b[34m[01/07/2022 16:49:54 INFO 140020506400576] Saved checkpoint to \"/tmp/tmppwkv5kgn/mx-mod-0000.params\"\u001b[0m\n",
      "\u001b[34m[01/07/2022 16:49:54 INFO 140020506400576] #progress_metric: host=algo-1, completed 33.333333333333336 % of epochs\u001b[0m\n",
      "\u001b[34m#metrics {\"StartTime\": 1641574194.1799164, \"EndTime\": 1641574194.4762628, \"Dimensions\": {\"Algorithm\": \"Linear Learner\", \"Host\": \"algo-1\", \"Operation\": \"training\", \"epoch\": 4, \"Meta\": \"training_data_iter\"}, \"Metrics\": {\"Total Records Seen\": {\"sum\": 230155.0, \"count\": 1, \"min\": 230155, \"max\": 230155}, \"Total Batches Seen\": {\"sum\": 49.0, \"count\": 1, \"min\": 49, \"max\": 49}, \"Max Records Seen Between Resets\": {\"sum\": 42031.0, \"count\": 1, \"min\": 42031, \"max\": 42031}, \"Max Batches Seen Between Resets\": {\"sum\": 9.0, \"count\": 1, \"min\": 9, \"max\": 9}, \"Reset Count\": {\"sum\": 7.0, \"count\": 1, \"min\": 7, \"max\": 7}, \"Number of Records Since Last Reset\": {\"sum\": 42031.0, \"count\": 1, \"min\": 42031, \"max\": 42031}, \"Number of Batches Since Last Reset\": {\"sum\": 9.0, \"count\": 1, \"min\": 9, \"max\": 9}}}\u001b[0m\n",
      "\u001b[34m[01/07/2022 16:49:54 INFO 140020506400576] #throughput_metric: host=algo-1, train throughput=141754.44678221503 records/second\u001b[0m\n",
      "\u001b[34m[2022-01-07 16:49:54.626] [tensorio] [info] epoch_stats={\"data_pipeline\": \"/opt/ml/input/data/train\", \"epoch\": 13, \"duration\": 149, \"num_examples\": 9, \"num_bytes\": 19670508}\u001b[0m\n",
      "\u001b[34m#metrics {\"StartTime\": 1641574194.6270366, \"EndTime\": 1641574194.6270974, \"Dimensions\": {\"Algorithm\": \"Linear Learner\", \"Host\": \"algo-1\", \"Operation\": \"training\", \"epoch\": 5, \"model\": 0}, \"Metrics\": {\"train_binary_classification_cross_entropy_objective\": {\"sum\": 0.6536554931640625, \"count\": 1, \"min\": 0.6536554931640625, \"max\": 0.6536554931640625}}}\u001b[0m\n",
      "\u001b[34m[01/07/2022 16:49:54 INFO 140020506400576] #quality_metric: host=algo-1, epoch=5, train binary_classification_cross_entropy_objective <loss>=0.6536554931640625\u001b[0m\n",
      "\u001b[34m[2022-01-07 16:49:54.787] [tensorio] [info] epoch_stats={\"data_pipeline\": \"/opt/ml/input/data/validation\", \"epoch\": 17, \"duration\": 158, \"num_examples\": 5, \"num_bytes\": 9688536}\u001b[0m\n",
      "\u001b[34m#metrics {\"StartTime\": 1641574194.8126884, \"EndTime\": 1641574194.8127434, \"Dimensions\": {\"Algorithm\": \"Linear Learner\", \"Host\": \"algo-1\", \"Operation\": \"training\", \"epoch\": 5, \"model\": 0}, \"Metrics\": {\"validation_binary_classification_cross_entropy_objective\": {\"sum\": 0.6520537018096455, \"count\": 1, \"min\": 0.6520537018096455, \"max\": 0.6520537018096455}}}\u001b[0m\n",
      "\u001b[34m[01/07/2022 16:49:54 INFO 140020506400576] #quality_metric: host=algo-1, epoch=5, validation binary_classification_cross_entropy_objective <loss>=0.6520537018096455\u001b[0m\n",
      "\u001b[34m[01/07/2022 16:49:54 INFO 140020506400576] #early_stopping_criteria_metric: host=algo-1, epoch=5, criteria=sampled_accuracy, value=0.6253985122210433\u001b[0m\n",
      "\u001b[34m[01/07/2022 16:49:54 INFO 140020506400576] Epoch 5: Loss improved. Updating best model\u001b[0m\n",
      "\u001b[34m[01/07/2022 16:49:54 INFO 140020506400576] Saving model for epoch: 5\u001b[0m\n",
      "\u001b[34m[01/07/2022 16:49:54 INFO 140020506400576] Saved checkpoint to \"/tmp/tmppitxod7p/mx-mod-0000.params\"\u001b[0m\n",
      "\u001b[34m[01/07/2022 16:49:54 INFO 140020506400576] #progress_metric: host=algo-1, completed 40.0 % of epochs\u001b[0m\n",
      "\u001b[34m#metrics {\"StartTime\": 1641574194.4771504, \"EndTime\": 1641574194.822548, \"Dimensions\": {\"Algorithm\": \"Linear Learner\", \"Host\": \"algo-1\", \"Operation\": \"training\", \"epoch\": 5, \"Meta\": \"training_data_iter\"}, \"Metrics\": {\"Total Records Seen\": {\"sum\": 272186.0, \"count\": 1, \"min\": 272186, \"max\": 272186}, \"Total Batches Seen\": {\"sum\": 58.0, \"count\": 1, \"min\": 58, \"max\": 58}, \"Max Records Seen Between Resets\": {\"sum\": 42031.0, \"count\": 1, \"min\": 42031, \"max\": 42031}, \"Max Batches Seen Between Resets\": {\"sum\": 9.0, \"count\": 1, \"min\": 9, \"max\": 9}, \"Reset Count\": {\"sum\": 8.0, \"count\": 1, \"min\": 8, \"max\": 8}, \"Number of Records Since Last Reset\": {\"sum\": 42031.0, \"count\": 1, \"min\": 42031, \"max\": 42031}, \"Number of Batches Since Last Reset\": {\"sum\": 9.0, \"count\": 1, \"min\": 9, \"max\": 9}}}\u001b[0m\n",
      "\u001b[34m[01/07/2022 16:49:54 INFO 140020506400576] #throughput_metric: host=algo-1, train throughput=121638.74608534615 records/second\u001b[0m\n",
      "\u001b[34m[2022-01-07 16:49:54.956] [tensorio] [info] epoch_stats={\"data_pipeline\": \"/opt/ml/input/data/train\", \"epoch\": 15, \"duration\": 132, \"num_examples\": 9, \"num_bytes\": 19670508}\u001b[0m\n",
      "\u001b[34m#metrics {\"StartTime\": 1641574194.9571085, \"EndTime\": 1641574194.957162, \"Dimensions\": {\"Algorithm\": \"Linear Learner\", \"Host\": \"algo-1\", \"Operation\": \"training\", \"epoch\": 6, \"model\": 0}, \"Metrics\": {\"train_binary_classification_cross_entropy_objective\": {\"sum\": 0.6528885803222656, \"count\": 1, \"min\": 0.6528885803222656, \"max\": 0.6528885803222656}}}\u001b[0m\n",
      "\u001b[34m[01/07/2022 16:49:54 INFO 140020506400576] #quality_metric: host=algo-1, epoch=6, train binary_classification_cross_entropy_objective <loss>=0.6528885803222656\u001b[0m\n",
      "\u001b[34m[2022-01-07 16:49:55.098] [tensorio] [info] epoch_stats={\"data_pipeline\": \"/opt/ml/input/data/validation\", \"epoch\": 20, \"duration\": 139, \"num_examples\": 5, \"num_bytes\": 9688536}\u001b[0m\n",
      "\u001b[34m#metrics {\"StartTime\": 1641574195.128659, \"EndTime\": 1641574195.1287184, \"Dimensions\": {\"Algorithm\": \"Linear Learner\", \"Host\": \"algo-1\", \"Operation\": \"training\", \"epoch\": 6, \"model\": 0}, \"Metrics\": {\"validation_binary_classification_cross_entropy_objective\": {\"sum\": 0.6523761588955211, \"count\": 1, \"min\": 0.6523761588955211, \"max\": 0.6523761588955211}}}\u001b[0m\n",
      "\u001b[34m[01/07/2022 16:49:55 INFO 140020506400576] #quality_metric: host=algo-1, epoch=6, validation binary_classification_cross_entropy_objective <loss>=0.6523761588955211\u001b[0m\n",
      "\u001b[34m[01/07/2022 16:49:55 INFO 140020506400576] #early_stopping_criteria_metric: host=algo-1, epoch=6, criteria=sampled_accuracy, value=0.6225968505458429\u001b[0m\n",
      "\u001b[34m[01/07/2022 16:49:55 INFO 140020506400576] Epoch 6: Loss improved. Updating best model\u001b[0m\n",
      "\u001b[34m[01/07/2022 16:49:55 INFO 140020506400576] Saving model for epoch: 6\u001b[0m\n",
      "\u001b[34m[01/07/2022 16:49:55 INFO 140020506400576] Saved checkpoint to \"/tmp/tmpuqxnrfwr/mx-mod-0000.params\"\u001b[0m\n",
      "\u001b[34m[01/07/2022 16:49:55 INFO 140020506400576] #progress_metric: host=algo-1, completed 46.666666666666664 % of epochs\u001b[0m\n",
      "\u001b[34m#metrics {\"StartTime\": 1641574194.8234942, \"EndTime\": 1641574195.135302, \"Dimensions\": {\"Algorithm\": \"Linear Learner\", \"Host\": \"algo-1\", \"Operation\": \"training\", \"epoch\": 6, \"Meta\": \"training_data_iter\"}, \"Metrics\": {\"Total Records Seen\": {\"sum\": 314217.0, \"count\": 1, \"min\": 314217, \"max\": 314217}, \"Total Batches Seen\": {\"sum\": 67.0, \"count\": 1, \"min\": 67, \"max\": 67}, \"Max Records Seen Between Resets\": {\"sum\": 42031.0, \"count\": 1, \"min\": 42031, \"max\": 42031}, \"Max Batches Seen Between Resets\": {\"sum\": 9.0, \"count\": 1, \"min\": 9, \"max\": 9}, \"Reset Count\": {\"sum\": 9.0, \"count\": 1, \"min\": 9, \"max\": 9}, \"Number of Records Since Last Reset\": {\"sum\": 42031.0, \"count\": 1, \"min\": 42031, \"max\": 42031}, \"Number of Batches Since Last Reset\": {\"sum\": 9.0, \"count\": 1, \"min\": 9, \"max\": 9}}}\u001b[0m\n",
      "\u001b[34m[01/07/2022 16:49:55 INFO 140020506400576] #throughput_metric: host=algo-1, train throughput=134737.48238232592 records/second\u001b[0m\n",
      "\u001b[34m[2022-01-07 16:49:55.246] [tensorio] [info] epoch_stats={\"data_pipeline\": \"/opt/ml/input/data/train\", \"epoch\": 17, \"duration\": 111, \"num_examples\": 9, \"num_bytes\": 19670508}\u001b[0m\n",
      "\u001b[34m#metrics {\"StartTime\": 1641574195.2469065, \"EndTime\": 1641574195.2469616, \"Dimensions\": {\"Algorithm\": \"Linear Learner\", \"Host\": \"algo-1\", \"Operation\": \"training\", \"epoch\": 7, \"model\": 0}, \"Metrics\": {\"train_binary_classification_cross_entropy_objective\": {\"sum\": 0.6532107543945312, \"count\": 1, \"min\": 0.6532107543945312, \"max\": 0.6532107543945312}}}\u001b[0m\n",
      "\u001b[34m[01/07/2022 16:49:55 INFO 140020506400576] #quality_metric: host=algo-1, epoch=7, train binary_classification_cross_entropy_objective <loss>=0.6532107543945312\u001b[0m\n",
      "\u001b[34m[2022-01-07 16:49:55.386] [tensorio] [info] epoch_stats={\"data_pipeline\": \"/opt/ml/input/data/validation\", \"epoch\": 23, \"duration\": 138, \"num_examples\": 5, \"num_bytes\": 9688536}\u001b[0m\n",
      "\u001b[34m#metrics {\"StartTime\": 1641574195.414609, \"EndTime\": 1641574195.4146652, \"Dimensions\": {\"Algorithm\": \"Linear Learner\", \"Host\": \"algo-1\", \"Operation\": \"training\", \"epoch\": 7, \"model\": 0}, \"Metrics\": {\"validation_binary_classification_cross_entropy_objective\": {\"sum\": 0.6544515119406489, \"count\": 1, \"min\": 0.6544515119406489, \"max\": 0.6544515119406489}}}\u001b[0m\n",
      "\u001b[34m[01/07/2022 16:49:55 INFO 140020506400576] #quality_metric: host=algo-1, epoch=7, validation binary_classification_cross_entropy_objective <loss>=0.6544515119406489\u001b[0m\n",
      "\u001b[34m[01/07/2022 16:49:55 INFO 140020506400576] #early_stopping_criteria_metric: host=algo-1, epoch=7, criteria=sampled_accuracy, value=0.6234180272437464\u001b[0m\n",
      "\u001b[34m[01/07/2022 16:49:55 INFO 140020506400576] Epoch 7: Loss improved. Updating best model\u001b[0m\n",
      "\u001b[34m[01/07/2022 16:49:55 INFO 140020506400576] Saving model for epoch: 7\u001b[0m\n",
      "\u001b[34m[01/07/2022 16:49:55 INFO 140020506400576] Saved checkpoint to \"/tmp/tmpv1_u11f2/mx-mod-0000.params\"\u001b[0m\n",
      "\u001b[34m[01/07/2022 16:49:55 INFO 140020506400576] #progress_metric: host=algo-1, completed 53.333333333333336 % of epochs\u001b[0m\n",
      "\u001b[34m#metrics {\"StartTime\": 1641574195.1356177, \"EndTime\": 1641574195.432016, \"Dimensions\": {\"Algorithm\": \"Linear Learner\", \"Host\": \"algo-1\", \"Operation\": \"training\", \"epoch\": 7, \"Meta\": \"training_data_iter\"}, \"Metrics\": {\"Total Records Seen\": {\"sum\": 356248.0, \"count\": 1, \"min\": 356248, \"max\": 356248}, \"Total Batches Seen\": {\"sum\": 76.0, \"count\": 1, \"min\": 76, \"max\": 76}, \"Max Records Seen Between Resets\": {\"sum\": 42031.0, \"count\": 1, \"min\": 42031, \"max\": 42031}, \"Max Batches Seen Between Resets\": {\"sum\": 9.0, \"count\": 1, \"min\": 9, \"max\": 9}, \"Reset Count\": {\"sum\": 10.0, \"count\": 1, \"min\": 10, \"max\": 10}, \"Number of Records Since Last Reset\": {\"sum\": 42031.0, \"count\": 1, \"min\": 42031, \"max\": 42031}, \"Number of Batches Since Last Reset\": {\"sum\": 9.0, \"count\": 1, \"min\": 9, \"max\": 9}}}\u001b[0m\n",
      "\u001b[34m[01/07/2022 16:49:55 INFO 140020506400576] #throughput_metric: host=algo-1, train throughput=141586.2921761255 records/second\u001b[0m\n",
      "\u001b[34m[2022-01-07 16:49:55.565] [tensorio] [info] epoch_stats={\"data_pipeline\": \"/opt/ml/input/data/train\", \"epoch\": 19, \"duration\": 132, \"num_examples\": 9, \"num_bytes\": 19670508}\u001b[0m\n",
      "\u001b[34m#metrics {\"StartTime\": 1641574195.5658708, \"EndTime\": 1641574195.5659568, \"Dimensions\": {\"Algorithm\": \"Linear Learner\", \"Host\": \"algo-1\", \"Operation\": \"training\", \"epoch\": 8, \"model\": 0}, \"Metrics\": {\"train_binary_classification_cross_entropy_objective\": {\"sum\": 0.6528433410644531, \"count\": 1, \"min\": 0.6528433410644531, \"max\": 0.6528433410644531}}}\u001b[0m\n",
      "\u001b[34m[01/07/2022 16:49:55 INFO 140020506400576] #quality_metric: host=algo-1, epoch=8, train binary_classification_cross_entropy_objective <loss>=0.6528433410644531\u001b[0m\n",
      "\u001b[34m[2022-01-07 16:49:55.716] [tensorio] [info] epoch_stats={\"data_pipeline\": \"/opt/ml/input/data/validation\", \"epoch\": 26, \"duration\": 148, \"num_examples\": 5, \"num_bytes\": 9688536}\u001b[0m\n",
      "\u001b[34m#metrics {\"StartTime\": 1641574195.7480302, \"EndTime\": 1641574195.7480884, \"Dimensions\": {\"Algorithm\": \"Linear Learner\", \"Host\": \"algo-1\", \"Operation\": \"training\", \"epoch\": 8, \"model\": 0}, \"Metrics\": {\"validation_binary_classification_cross_entropy_objective\": {\"sum\": 0.65479160412396, \"count\": 1, \"min\": 0.65479160412396, \"max\": 0.65479160412396}}}\u001b[0m\n",
      "\u001b[34m[01/07/2022 16:49:55 INFO 140020506400576] #quality_metric: host=algo-1, epoch=8, validation binary_classification_cross_entropy_objective <loss>=0.65479160412396\u001b[0m\n",
      "\u001b[34m[01/07/2022 16:49:55 INFO 140020506400576] #early_stopping_criteria_metric: host=algo-1, epoch=8, criteria=sampled_accuracy, value=0.6230315911506153\u001b[0m\n",
      "\u001b[34m[01/07/2022 16:49:55 INFO 140020506400576] Epoch 8: Loss improved. Updating best model\u001b[0m\n",
      "\u001b[34m[01/07/2022 16:49:55 INFO 140020506400576] Saving model for epoch: 8\u001b[0m\n",
      "\u001b[34m[01/07/2022 16:49:55 INFO 140020506400576] Saved checkpoint to \"/tmp/tmpei7jdqyo/mx-mod-0000.params\"\u001b[0m\n",
      "\u001b[34m[01/07/2022 16:49:55 INFO 140020506400576] #progress_metric: host=algo-1, completed 60.0 % of epochs\u001b[0m\n",
      "\u001b[34m#metrics {\"StartTime\": 1641574195.4328384, \"EndTime\": 1641574195.7557166, \"Dimensions\": {\"Algorithm\": \"Linear Learner\", \"Host\": \"algo-1\", \"Operation\": \"training\", \"epoch\": 8, \"Meta\": \"training_data_iter\"}, \"Metrics\": {\"Total Records Seen\": {\"sum\": 398279.0, \"count\": 1, \"min\": 398279, \"max\": 398279}, \"Total Batches Seen\": {\"sum\": 85.0, \"count\": 1, \"min\": 85, \"max\": 85}, \"Max Records Seen Between Resets\": {\"sum\": 42031.0, \"count\": 1, \"min\": 42031, \"max\": 42031}, \"Max Batches Seen Between Resets\": {\"sum\": 9.0, \"count\": 1, \"min\": 9, \"max\": 9}, \"Reset Count\": {\"sum\": 11.0, \"count\": 1, \"min\": 11, \"max\": 11}, \"Number of Records Since Last Reset\": {\"sum\": 42031.0, \"count\": 1, \"min\": 42031, \"max\": 42031}, \"Number of Batches Since Last Reset\": {\"sum\": 9.0, \"count\": 1, \"min\": 9, \"max\": 9}}}\u001b[0m\n",
      "\u001b[34m[01/07/2022 16:49:55 INFO 140020506400576] #throughput_metric: host=algo-1, train throughput=130114.75600843465 records/second\u001b[0m\n",
      "\u001b[34m[2022-01-07 16:49:55.877] [tensorio] [info] epoch_stats={\"data_pipeline\": \"/opt/ml/input/data/train\", \"epoch\": 21, \"duration\": 120, \"num_examples\": 9, \"num_bytes\": 19670508}\u001b[0m\n",
      "\u001b[34m#metrics {\"StartTime\": 1641574195.8775437, \"EndTime\": 1641574195.8775966, \"Dimensions\": {\"Algorithm\": \"Linear Learner\", \"Host\": \"algo-1\", \"Operation\": \"training\", \"epoch\": 9, \"model\": 0}, \"Metrics\": {\"train_binary_classification_cross_entropy_objective\": {\"sum\": 0.6523192077636719, \"count\": 1, \"min\": 0.6523192077636719, \"max\": 0.6523192077636719}}}\u001b[0m\n",
      "\u001b[34m[01/07/2022 16:49:55 INFO 140020506400576] #quality_metric: host=algo-1, epoch=9, train binary_classification_cross_entropy_objective <loss>=0.6523192077636719\u001b[0m\n",
      "\u001b[34m[2022-01-07 16:49:56.018] [tensorio] [info] epoch_stats={\"data_pipeline\": \"/opt/ml/input/data/validation\", \"epoch\": 29, \"duration\": 139, \"num_examples\": 5, \"num_bytes\": 9688536}\u001b[0m\n",
      "\u001b[34m#metrics {\"StartTime\": 1641574196.0464625, \"EndTime\": 1641574196.0465217, \"Dimensions\": {\"Algorithm\": \"Linear Learner\", \"Host\": \"algo-1\", \"Operation\": \"training\", \"epoch\": 9, \"model\": 0}, \"Metrics\": {\"validation_binary_classification_cross_entropy_objective\": {\"sum\": 0.6533857744887835, \"count\": 1, \"min\": 0.6533857744887835, \"max\": 0.6533857744887835}}}\u001b[0m\n",
      "\u001b[34m[01/07/2022 16:49:56 INFO 140020506400576] #quality_metric: host=algo-1, epoch=9, validation binary_classification_cross_entropy_objective <loss>=0.6533857744887835\u001b[0m\n",
      "\u001b[34m[01/07/2022 16:49:56 INFO 140020506400576] #early_stopping_criteria_metric: host=algo-1, epoch=9, criteria=sampled_accuracy, value=0.6231282001738981\u001b[0m\n",
      "\u001b[34m[01/07/2022 16:49:56 INFO 140020506400576] Epoch 9: Loss improved. Updating best model\u001b[0m\n",
      "\u001b[34m[01/07/2022 16:49:56 INFO 140020506400576] Saving model for epoch: 9\u001b[0m\n",
      "\u001b[34m[01/07/2022 16:49:56 INFO 140020506400576] Saved checkpoint to \"/tmp/tmp5zfne0gx/mx-mod-0000.params\"\u001b[0m\n",
      "\u001b[34m[01/07/2022 16:49:56 INFO 140020506400576] #progress_metric: host=algo-1, completed 66.66666666666667 % of epochs\u001b[0m\n",
      "\u001b[34m#metrics {\"StartTime\": 1641574195.7568004, \"EndTime\": 1641574196.0524719, \"Dimensions\": {\"Algorithm\": \"Linear Learner\", \"Host\": \"algo-1\", \"Operation\": \"training\", \"epoch\": 9, \"Meta\": \"training_data_iter\"}, \"Metrics\": {\"Total Records Seen\": {\"sum\": 440310.0, \"count\": 1, \"min\": 440310, \"max\": 440310}, \"Total Batches Seen\": {\"sum\": 94.0, \"count\": 1, \"min\": 94, \"max\": 94}, \"Max Records Seen Between Resets\": {\"sum\": 42031.0, \"count\": 1, \"min\": 42031, \"max\": 42031}, \"Max Batches Seen Between Resets\": {\"sum\": 9.0, \"count\": 1, \"min\": 9, \"max\": 9}, \"Reset Count\": {\"sum\": 12.0, \"count\": 1, \"min\": 12, \"max\": 12}, \"Number of Records Since Last Reset\": {\"sum\": 42031.0, \"count\": 1, \"min\": 42031, \"max\": 42031}, \"Number of Batches Since Last Reset\": {\"sum\": 9.0, \"count\": 1, \"min\": 9, \"max\": 9}}}\u001b[0m\n",
      "\u001b[34m[01/07/2022 16:49:56 INFO 140020506400576] #throughput_metric: host=algo-1, train throughput=142086.23095900723 records/second\u001b[0m\n",
      "\u001b[34m[2022-01-07 16:49:56.138] [tensorio] [info] epoch_stats={\"data_pipeline\": \"/opt/ml/input/data/train\", \"epoch\": 23, \"duration\": 84, \"num_examples\": 9, \"num_bytes\": 19670508}\u001b[0m\n",
      "\u001b[34m#metrics {\"StartTime\": 1641574196.1382995, \"EndTime\": 1641574196.1384056, \"Dimensions\": {\"Algorithm\": \"Linear Learner\", \"Host\": \"algo-1\", \"Operation\": \"training\", \"epoch\": 10, \"model\": 0}, \"Metrics\": {\"train_binary_classification_cross_entropy_objective\": {\"sum\": 0.6517676513671875, \"count\": 1, \"min\": 0.6517676513671875, \"max\": 0.6517676513671875}}}\u001b[0m\n",
      "\u001b[34m[01/07/2022 16:49:56 INFO 140020506400576] #quality_metric: host=algo-1, epoch=10, train binary_classification_cross_entropy_objective <loss>=0.6517676513671875\u001b[0m\n",
      "\u001b[34m[2022-01-07 16:49:56.263] [tensorio] [info] epoch_stats={\"data_pipeline\": \"/opt/ml/input/data/validation\", \"epoch\": 32, \"duration\": 123, \"num_examples\": 5, \"num_bytes\": 9688536}\u001b[0m\n",
      "\u001b[34m#metrics {\"StartTime\": 1641574196.29147, \"EndTime\": 1641574196.2915337, \"Dimensions\": {\"Algorithm\": \"Linear Learner\", \"Host\": \"algo-1\", \"Operation\": \"training\", \"epoch\": 10, \"model\": 0}, \"Metrics\": {\"validation_binary_classification_cross_entropy_objective\": {\"sum\": 0.6522004771792316, \"count\": 1, \"min\": 0.6522004771792316, \"max\": 0.6522004771792316}}}\u001b[0m\n",
      "\u001b[34m[01/07/2022 16:49:56 INFO 140020506400576] #quality_metric: host=algo-1, epoch=10, validation binary_classification_cross_entropy_objective <loss>=0.6522004771792316\u001b[0m\n",
      "\u001b[34m[01/07/2022 16:49:56 INFO 140020506400576] #early_stopping_criteria_metric: host=algo-1, epoch=10, criteria=sampled_accuracy, value=0.6239010723601603\u001b[0m\n",
      "\u001b[34m[01/07/2022 16:49:56 INFO 140020506400576] Epoch 10: Loss improved. Updating best model\u001b[0m\n",
      "\u001b[34m[01/07/2022 16:49:56 INFO 140020506400576] Saving model for epoch: 10\u001b[0m\n",
      "\u001b[34m[01/07/2022 16:49:56 INFO 140020506400576] Saved checkpoint to \"/tmp/tmp8i3uiiz4/mx-mod-0000.params\"\u001b[0m\n",
      "\u001b[34m[01/07/2022 16:49:56 INFO 140020506400576] #progress_metric: host=algo-1, completed 73.33333333333333 % of epochs\u001b[0m\n",
      "\u001b[34m#metrics {\"StartTime\": 1641574196.0532732, \"EndTime\": 1641574196.2981038, \"Dimensions\": {\"Algorithm\": \"Linear Learner\", \"Host\": \"algo-1\", \"Operation\": \"training\", \"epoch\": 10, \"Meta\": \"training_data_iter\"}, \"Metrics\": {\"Total Records Seen\": {\"sum\": 482341.0, \"count\": 1, \"min\": 482341, \"max\": 482341}, \"Total Batches Seen\": {\"sum\": 103.0, \"count\": 1, \"min\": 103, \"max\": 103}, \"Max Records Seen Between Resets\": {\"sum\": 42031.0, \"count\": 1, \"min\": 42031, \"max\": 42031}, \"Max Batches Seen Between Resets\": {\"sum\": 9.0, \"count\": 1, \"min\": 9, \"max\": 9}, \"Reset Count\": {\"sum\": 13.0, \"count\": 1, \"min\": 13, \"max\": 13}, \"Number of Records Since Last Reset\": {\"sum\": 42031.0, \"count\": 1, \"min\": 42031, \"max\": 42031}, \"Number of Batches Since Last Reset\": {\"sum\": 9.0, \"count\": 1, \"min\": 9, \"max\": 9}}}\u001b[0m\n",
      "\u001b[34m[01/07/2022 16:49:56 INFO 140020506400576] #throughput_metric: host=algo-1, train throughput=171569.20685144814 records/second\u001b[0m\n",
      "\u001b[34m[2022-01-07 16:49:56.391] [tensorio] [info] epoch_stats={\"data_pipeline\": \"/opt/ml/input/data/train\", \"epoch\": 25, \"duration\": 91, \"num_examples\": 9, \"num_bytes\": 19670508}\u001b[0m\n",
      "\u001b[34m#metrics {\"StartTime\": 1641574196.3912137, \"EndTime\": 1641574196.3912656, \"Dimensions\": {\"Algorithm\": \"Linear Learner\", \"Host\": \"algo-1\", \"Operation\": \"training\", \"epoch\": 11, \"model\": 0}, \"Metrics\": {\"train_binary_classification_cross_entropy_objective\": {\"sum\": 0.6514238891601563, \"count\": 1, \"min\": 0.6514238891601563, \"max\": 0.6514238891601563}}}\u001b[0m\n",
      "\u001b[34m[01/07/2022 16:49:56 INFO 140020506400576] #quality_metric: host=algo-1, epoch=11, train binary_classification_cross_entropy_objective <loss>=0.6514238891601563\u001b[0m\n",
      "\u001b[34m[2022-01-07 16:49:56.522] [tensorio] [info] epoch_stats={\"data_pipeline\": \"/opt/ml/input/data/validation\", \"epoch\": 35, \"duration\": 129, \"num_examples\": 5, \"num_bytes\": 9688536}\u001b[0m\n",
      "\u001b[34m#metrics {\"StartTime\": 1641574196.546892, \"EndTime\": 1641574196.5469341, \"Dimensions\": {\"Algorithm\": \"Linear Learner\", \"Host\": \"algo-1\", \"Operation\": \"training\", \"epoch\": 11, \"model\": 0}, \"Metrics\": {\"validation_binary_classification_cross_entropy_objective\": {\"sum\": 0.6520219901807872, \"count\": 1, \"min\": 0.6520219901807872, \"max\": 0.6520219901807872}}}\u001b[0m\n",
      "\u001b[34m[01/07/2022 16:49:56 INFO 140020506400576] #quality_metric: host=algo-1, epoch=11, validation binary_classification_cross_entropy_objective <loss>=0.6520219901807872\u001b[0m\n",
      "\u001b[34m[01/07/2022 16:49:56 INFO 140020506400576] #early_stopping_criteria_metric: host=algo-1, epoch=11, criteria=sampled_accuracy, value=0.6240942904067258\u001b[0m\n",
      "\u001b[34m[01/07/2022 16:49:56 INFO 140020506400576] Epoch 11: Loss improved. Updating best model\u001b[0m\n",
      "\u001b[34m[01/07/2022 16:49:56 INFO 140020506400576] Saving model for epoch: 11\u001b[0m\n",
      "\u001b[34m[01/07/2022 16:49:56 INFO 140020506400576] Saved checkpoint to \"/tmp/tmpqcobl2ot/mx-mod-0000.params\"\u001b[0m\n",
      "\u001b[34m[01/07/2022 16:49:56 INFO 140020506400576] #progress_metric: host=algo-1, completed 80.0 % of epochs\u001b[0m\n",
      "\u001b[34m#metrics {\"StartTime\": 1641574196.2991197, \"EndTime\": 1641574196.5536675, \"Dimensions\": {\"Algorithm\": \"Linear Learner\", \"Host\": \"algo-1\", \"Operation\": \"training\", \"epoch\": 11, \"Meta\": \"training_data_iter\"}, \"Metrics\": {\"Total Records Seen\": {\"sum\": 524372.0, \"count\": 1, \"min\": 524372, \"max\": 524372}, \"Total Batches Seen\": {\"sum\": 112.0, \"count\": 1, \"min\": 112, \"max\": 112}, \"Max Records Seen Between Resets\": {\"sum\": 42031.0, \"count\": 1, \"min\": 42031, \"max\": 42031}, \"Max Batches Seen Between Resets\": {\"sum\": 9.0, \"count\": 1, \"min\": 9, \"max\": 9}, \"Reset Count\": {\"sum\": 14.0, \"count\": 1, \"min\": 14, \"max\": 14}, \"Number of Records Since Last Reset\": {\"sum\": 42031.0, \"count\": 1, \"min\": 42031, \"max\": 42031}, \"Number of Batches Since Last Reset\": {\"sum\": 9.0, \"count\": 1, \"min\": 9, \"max\": 9}}}\u001b[0m\n",
      "\u001b[34m[01/07/2022 16:49:56 INFO 140020506400576] #throughput_metric: host=algo-1, train throughput=165021.16595837093 records/second\u001b[0m\n",
      "\u001b[34m[2022-01-07 16:49:56.646] [tensorio] [info] epoch_stats={\"data_pipeline\": \"/opt/ml/input/data/train\", \"epoch\": 27, \"duration\": 91, \"num_examples\": 9, \"num_bytes\": 19670508}\u001b[0m\n",
      "\u001b[34m#metrics {\"StartTime\": 1641574196.646915, \"EndTime\": 1641574196.6469731, \"Dimensions\": {\"Algorithm\": \"Linear Learner\", \"Host\": \"algo-1\", \"Operation\": \"training\", \"epoch\": 12, \"model\": 0}, \"Metrics\": {\"train_binary_classification_cross_entropy_objective\": {\"sum\": 0.6516009460449219, \"count\": 1, \"min\": 0.6516009460449219, \"max\": 0.6516009460449219}}}\u001b[0m\n",
      "\u001b[34m[01/07/2022 16:49:56 INFO 140020506400576] #quality_metric: host=algo-1, epoch=12, train binary_classification_cross_entropy_objective <loss>=0.6516009460449219\u001b[0m\n",
      "\u001b[34m[2022-01-07 16:49:56.784] [tensorio] [info] epoch_stats={\"data_pipeline\": \"/opt/ml/input/data/validation\", \"epoch\": 38, \"duration\": 135, \"num_examples\": 5, \"num_bytes\": 9688536}\u001b[0m\n",
      "\u001b[34m#metrics {\"StartTime\": 1641574196.8077326, \"EndTime\": 1641574196.8077729, \"Dimensions\": {\"Algorithm\": \"Linear Learner\", \"Host\": \"algo-1\", \"Operation\": \"training\", \"epoch\": 12, \"model\": 0}, \"Metrics\": {\"validation_binary_classification_cross_entropy_objective\": {\"sum\": 0.6523414385536421, \"count\": 1, \"min\": 0.6523414385536421, \"max\": 0.6523414385536421}}}\u001b[0m\n",
      "\u001b[34m[01/07/2022 16:49:56 INFO 140020506400576] #quality_metric: host=algo-1, epoch=12, validation binary_classification_cross_entropy_objective <loss>=0.6523414385536421\u001b[0m\n",
      "\u001b[34m[01/07/2022 16:49:56 INFO 140020506400576] #early_stopping_criteria_metric: host=algo-1, epoch=12, criteria=sampled_accuracy, value=0.6237078543135948\u001b[0m\n",
      "\u001b[34m[01/07/2022 16:49:56 INFO 140020506400576] Epoch 12: Loss improved. Updating best model\u001b[0m\n",
      "\u001b[34m[01/07/2022 16:49:56 INFO 140020506400576] Saving model for epoch: 12\u001b[0m\n",
      "\u001b[34m[01/07/2022 16:49:56 INFO 140020506400576] Saved checkpoint to \"/tmp/tmp0c_jn6jk/mx-mod-0000.params\"\u001b[0m\n",
      "\u001b[34m[01/07/2022 16:49:56 INFO 140020506400576] #progress_metric: host=algo-1, completed 86.66666666666667 % of epochs\u001b[0m\n",
      "\u001b[34m#metrics {\"StartTime\": 1641574196.5545883, \"EndTime\": 1641574196.8133473, \"Dimensions\": {\"Algorithm\": \"Linear Learner\", \"Host\": \"algo-1\", \"Operation\": \"training\", \"epoch\": 12, \"Meta\": \"training_data_iter\"}, \"Metrics\": {\"Total Records Seen\": {\"sum\": 566403.0, \"count\": 1, \"min\": 566403, \"max\": 566403}, \"Total Batches Seen\": {\"sum\": 121.0, \"count\": 1, \"min\": 121, \"max\": 121}, \"Max Records Seen Between Resets\": {\"sum\": 42031.0, \"count\": 1, \"min\": 42031, \"max\": 42031}, \"Max Batches Seen Between Resets\": {\"sum\": 9.0, \"count\": 1, \"min\": 9, \"max\": 9}, \"Reset Count\": {\"sum\": 15.0, \"count\": 1, \"min\": 15, \"max\": 15}, \"Number of Records Since Last Reset\": {\"sum\": 42031.0, \"count\": 1, \"min\": 42031, \"max\": 42031}, \"Number of Batches Since Last Reset\": {\"sum\": 9.0, \"count\": 1, \"min\": 9, \"max\": 9}}}\u001b[0m\n",
      "\u001b[34m[01/07/2022 16:49:56 INFO 140020506400576] #throughput_metric: host=algo-1, train throughput=162358.1860465973 records/second\u001b[0m\n",
      "\u001b[34m[2022-01-07 16:49:56.904] [tensorio] [info] epoch_stats={\"data_pipeline\": \"/opt/ml/input/data/train\", \"epoch\": 29, \"duration\": 90, \"num_examples\": 9, \"num_bytes\": 19670508}\u001b[0m\n",
      "\u001b[34m#metrics {\"StartTime\": 1641574196.9048324, \"EndTime\": 1641574196.9048872, \"Dimensions\": {\"Algorithm\": \"Linear Learner\", \"Host\": \"algo-1\", \"Operation\": \"training\", \"epoch\": 13, \"model\": 0}, \"Metrics\": {\"train_binary_classification_cross_entropy_objective\": {\"sum\": 0.6517423278808594, \"count\": 1, \"min\": 0.6517423278808594, \"max\": 0.6517423278808594}}}\u001b[0m\n",
      "\u001b[34m[01/07/2022 16:49:56 INFO 140020506400576] #quality_metric: host=algo-1, epoch=13, train binary_classification_cross_entropy_objective <loss>=0.6517423278808594\u001b[0m\n",
      "\u001b[34m[2022-01-07 16:49:57.030] [tensorio] [info] epoch_stats={\"data_pipeline\": \"/opt/ml/input/data/validation\", \"epoch\": 41, \"duration\": 123, \"num_examples\": 5, \"num_bytes\": 9688536}\u001b[0m\n",
      "\u001b[34m#metrics {\"StartTime\": 1641574197.0506516, \"EndTime\": 1641574197.0506942, \"Dimensions\": {\"Algorithm\": \"Linear Learner\", \"Host\": \"algo-1\", \"Operation\": \"training\", \"epoch\": 13, \"model\": 0}, \"Metrics\": {\"validation_binary_classification_cross_entropy_objective\": {\"sum\": 0.6523605669515626, \"count\": 1, \"min\": 0.6523605669515626, \"max\": 0.6523605669515626}}}\u001b[0m\n",
      "\u001b[34m[01/07/2022 16:49:57 INFO 140020506400576] #quality_metric: host=algo-1, epoch=13, validation binary_classification_cross_entropy_objective <loss>=0.6523605669515626\u001b[0m\n",
      "\u001b[34m[01/07/2022 16:49:57 INFO 140020506400576] #early_stopping_criteria_metric: host=algo-1, epoch=13, criteria=sampled_accuracy, value=0.6232248091971809\u001b[0m\n",
      "\u001b[34m[01/07/2022 16:49:57 INFO 140020506400576] Epoch 13: Loss improved. Updating best model\u001b[0m\n",
      "\u001b[34m[01/07/2022 16:49:57 INFO 140020506400576] Saving model for epoch: 13\u001b[0m\n",
      "\u001b[34m[01/07/2022 16:49:57 INFO 140020506400576] Saved checkpoint to \"/tmp/tmpn69ecsud/mx-mod-0000.params\"\u001b[0m\n",
      "\u001b[34m[01/07/2022 16:49:57 INFO 140020506400576] #progress_metric: host=algo-1, completed 93.33333333333333 % of epochs\u001b[0m\n",
      "\u001b[34m#metrics {\"StartTime\": 1641574196.8141706, \"EndTime\": 1641574197.0559433, \"Dimensions\": {\"Algorithm\": \"Linear Learner\", \"Host\": \"algo-1\", \"Operation\": \"training\", \"epoch\": 13, \"Meta\": \"training_data_iter\"}, \"Metrics\": {\"Total Records Seen\": {\"sum\": 608434.0, \"count\": 1, \"min\": 608434, \"max\": 608434}, \"Total Batches Seen\": {\"sum\": 130.0, \"count\": 1, \"min\": 130, \"max\": 130}, \"Max Records Seen Between Resets\": {\"sum\": 42031.0, \"count\": 1, \"min\": 42031, \"max\": 42031}, \"Max Batches Seen Between Resets\": {\"sum\": 9.0, \"count\": 1, \"min\": 9, \"max\": 9}, \"Reset Count\": {\"sum\": 16.0, \"count\": 1, \"min\": 16, \"max\": 16}, \"Number of Records Since Last Reset\": {\"sum\": 42031.0, \"count\": 1, \"min\": 42031, \"max\": 42031}, \"Number of Batches Since Last Reset\": {\"sum\": 9.0, \"count\": 1, \"min\": 9, \"max\": 9}}}\u001b[0m\n",
      "\u001b[34m[01/07/2022 16:49:57 INFO 140020506400576] #throughput_metric: host=algo-1, train throughput=173760.4911518468 records/second\u001b[0m\n",
      "\u001b[34m[2022-01-07 16:49:57.154] [tensorio] [info] epoch_stats={\"data_pipeline\": \"/opt/ml/input/data/train\", \"epoch\": 31, \"duration\": 97, \"num_examples\": 9, \"num_bytes\": 19670508}\u001b[0m\n",
      "\u001b[34m#metrics {\"StartTime\": 1641574197.154916, \"EndTime\": 1641574197.1549757, \"Dimensions\": {\"Algorithm\": \"Linear Learner\", \"Host\": \"algo-1\", \"Operation\": \"training\", \"epoch\": 14, \"model\": 0}, \"Metrics\": {\"train_binary_classification_cross_entropy_objective\": {\"sum\": 0.6517241760253907, \"count\": 1, \"min\": 0.6517241760253907, \"max\": 0.6517241760253907}}}\u001b[0m\n",
      "\u001b[34m[01/07/2022 16:49:57 INFO 140020506400576] #quality_metric: host=algo-1, epoch=14, train binary_classification_cross_entropy_objective <loss>=0.6517241760253907\u001b[0m\n",
      "\u001b[34m[2022-01-07 16:49:57.276] [tensorio] [info] epoch_stats={\"data_pipeline\": \"/opt/ml/input/data/validation\", \"epoch\": 44, \"duration\": 119, \"num_examples\": 5, \"num_bytes\": 9688536}\u001b[0m\n",
      "\u001b[34m#metrics {\"StartTime\": 1641574197.2943132, \"EndTime\": 1641574197.294354, \"Dimensions\": {\"Algorithm\": \"Linear Learner\", \"Host\": \"algo-1\", \"Operation\": \"training\", \"epoch\": 14, \"model\": 0}, \"Metrics\": {\"validation_binary_classification_cross_entropy_objective\": {\"sum\": 0.6521765445697804, \"count\": 1, \"min\": 0.6521765445697804, \"max\": 0.6521765445697804}}}\u001b[0m\n",
      "\u001b[34m[01/07/2022 16:49:57 INFO 140020506400576] #quality_metric: host=algo-1, epoch=14, validation binary_classification_cross_entropy_objective <loss>=0.6521765445697804\u001b[0m\n",
      "\u001b[34m[01/07/2022 16:49:57 INFO 140020506400576] #early_stopping_criteria_metric: host=algo-1, epoch=14, criteria=sampled_accuracy, value=0.6241425949183672\u001b[0m\n",
      "\u001b[34m[01/07/2022 16:49:57 INFO 140020506400576] Epoch 14: Loss improved. Updating best model\u001b[0m\n",
      "\u001b[34m[01/07/2022 16:49:57 INFO 140020506400576] Saving model for epoch: 14\u001b[0m\n",
      "\u001b[34m[01/07/2022 16:49:57 INFO 140020506400576] Saved checkpoint to \"/tmp/tmp3dgcuf1x/mx-mod-0000.params\"\u001b[0m\n",
      "\u001b[34m[01/07/2022 16:49:57 INFO 140020506400576] #progress_metric: host=algo-1, completed 100.0 % of epochs\u001b[0m\n",
      "\u001b[34m#metrics {\"StartTime\": 1641574197.056757, \"EndTime\": 1641574197.2998784, \"Dimensions\": {\"Algorithm\": \"Linear Learner\", \"Host\": \"algo-1\", \"Operation\": \"training\", \"epoch\": 14, \"Meta\": \"training_data_iter\"}, \"Metrics\": {\"Total Records Seen\": {\"sum\": 650465.0, \"count\": 1, \"min\": 650465, \"max\": 650465}, \"Total Batches Seen\": {\"sum\": 139.0, \"count\": 1, \"min\": 139, \"max\": 139}, \"Max Records Seen Between Resets\": {\"sum\": 42031.0, \"count\": 1, \"min\": 42031, \"max\": 42031}, \"Max Batches Seen Between Resets\": {\"sum\": 9.0, \"count\": 1, \"min\": 9, \"max\": 9}, \"Reset Count\": {\"sum\": 17.0, \"count\": 1, \"min\": 17, \"max\": 17}, \"Number of Records Since Last Reset\": {\"sum\": 42031.0, \"count\": 1, \"min\": 42031, \"max\": 42031}, \"Number of Batches Since Last Reset\": {\"sum\": 9.0, \"count\": 1, \"min\": 9, \"max\": 9}}}\u001b[0m\n",
      "\u001b[34m[01/07/2022 16:49:57 INFO 140020506400576] #throughput_metric: host=algo-1, train throughput=172779.90377920654 records/second\u001b[0m\n",
      "\u001b[34m[01/07/2022 16:49:57 WARNING 140020506400576] wait_for_all_workers will not sync workers since the kv store is not running distributed\u001b[0m\n",
      "\u001b[34m[01/07/2022 16:49:57 WARNING 140020506400576] wait_for_all_workers will not sync workers since the kv store is not running distributed\u001b[0m\n",
      "\u001b[34m[2022-01-07 16:49:57.430] [tensorio] [info] epoch_stats={\"data_pipeline\": \"/opt/ml/input/data/validation\", \"epoch\": 47, \"duration\": 129, \"num_examples\": 5, \"num_bytes\": 9688536}\u001b[0m\n",
      "\u001b[34m[01/07/2022 16:49:57 INFO 140020506400576] #early_stopping_criteria_metric: host=algo-1, epoch=14, criteria=sampled_accuracy, value=0.6241425949183672\u001b[0m\n",
      "\u001b[34m[01/07/2022 16:49:57 INFO 140020506400576] Epoch 14: Loss improved. Updating best model\u001b[0m\n",
      "\u001b[34m[2022-01-07 16:49:57.514] [tensorio] [info] epoch_stats={\"data_pipeline\": \"/opt/ml/input/data/validation\", \"epoch\": 49, \"duration\": 56, \"num_examples\": 5, \"num_bytes\": 9688536}\u001b[0m\n",
      "\u001b[34m[01/07/2022 16:49:57 INFO 140020506400576] #validation_score (algo-1) : ('binary_classification_cross_entropy_objective', 0.6521765445697804)\u001b[0m\n",
      "\u001b[34m[01/07/2022 16:49:57 INFO 140020506400576] #validation_score (algo-1) : ('binary_classification_accuracy', 0.624094290406724)\u001b[0m\n",
      "\u001b[34m[01/07/2022 16:49:57 INFO 140020506400576] #validation_score (algo-1) : ('binary_f_1.000', 0.6094941790445604)\u001b[0m\n",
      "\u001b[34m[01/07/2022 16:49:57 INFO 140020506400576] #validation_score (algo-1) : ('precision', 0.6345872518286312)\u001b[0m\n",
      "\u001b[34m[01/07/2022 16:49:57 INFO 140020506400576] #validation_score (algo-1) : ('recall', 0.586310098474609)\u001b[0m\n",
      "\u001b[34m[01/07/2022 16:49:57 INFO 140020506400576] #validation_score (algo-1) : ('roc_auc_score', 0.6679913476878112)\u001b[0m\n",
      "\u001b[34m[01/07/2022 16:49:57 INFO 140020506400576] #validation_score (algo-1) : ('binary_balanced_accuracy', 0.5)\u001b[0m\n",
      "\u001b[34m[01/07/2022 16:49:57 INFO 140020506400576] #validation_score (algo-1) : ('binary_log_loss', 0.7114019802309346)\u001b[0m\n",
      "\u001b[34m[01/07/2022 16:49:57 INFO 140020506400576] #quality_metric: host=algo-1, validation binary_classification_cross_entropy_objective <loss>=0.6521765445697804\u001b[0m\n",
      "\u001b[34m[01/07/2022 16:49:57 INFO 140020506400576] #quality_metric: host=algo-1, validation binary_classification_accuracy <score>=0.624094290406724\u001b[0m\n",
      "\u001b[34m[01/07/2022 16:49:57 INFO 140020506400576] #quality_metric: host=algo-1, validation binary_f_1.000 <score>=0.6094941790445604\u001b[0m\n",
      "\u001b[34m[01/07/2022 16:49:57 INFO 140020506400576] #quality_metric: host=algo-1, validation precision <score>=0.6345872518286312\u001b[0m\n",
      "\u001b[34m[01/07/2022 16:49:57 INFO 140020506400576] #quality_metric: host=algo-1, validation recall <score>=0.586310098474609\u001b[0m\n",
      "\u001b[34m[01/07/2022 16:49:57 INFO 140020506400576] #quality_metric: host=algo-1, validation roc_auc_score <score>=0.6679913476878112\u001b[0m\n",
      "\u001b[34m[01/07/2022 16:49:57 INFO 140020506400576] #quality_metric: host=algo-1, validation binary_balanced_accuracy <score>=0.5\u001b[0m\n",
      "\u001b[34m[01/07/2022 16:49:57 INFO 140020506400576] #quality_metric: host=algo-1, validation binary_log_loss <score>=0.7114019802309346\u001b[0m\n",
      "\u001b[34m[01/07/2022 16:49:57 INFO 140020506400576] Best model found for hyperparameters: {\"optimizer\": \"adam\", \"learning_rate\": 0.11187150420506253, \"l1\": 0.8272565685996943, \"wd\": 0.11650104652635215, \"lr_scheduler_step\": 10, \"lr_scheduler_factor\": 0.99, \"lr_scheduler_minimum_lr\": 1e-05}\u001b[0m\n",
      "\u001b[34m[01/07/2022 16:49:57 INFO 140020506400576] Saved checkpoint to \"/tmp/tmp7vtuei31/mx-mod-0000.params\"\u001b[0m\n",
      "\u001b[34m[01/07/2022 16:49:57 INFO 140020506400576] Test data is not provided.\u001b[0m\n",
      "\u001b[34m#metrics {\"StartTime\": 1641574192.8010178, \"EndTime\": 1641574197.561491, \"Dimensions\": {\"Algorithm\": \"Linear Learner\", \"Host\": \"algo-1\", \"Operation\": \"training\"}, \"Metrics\": {\"initialize.time\": {\"sum\": 223.83427619934082, \"count\": 1, \"min\": 223.83427619934082, \"max\": 223.83427619934082}, \"epochs\": {\"sum\": 15.0, \"count\": 1, \"min\": 15, \"max\": 15}, \"check_early_stopping.time\": {\"sum\": 22.103071212768555, \"count\": 16, \"min\": 0.8184909820556641, \"max\": 7.235288619995117}, \"update.time\": {\"sum\": 4173.498630523682, \"count\": 15, \"min\": 239.4115924835205, \"max\": 342.2279357910156}, \"finalize.time\": {\"sum\": 257.9336166381836, \"count\": 1, \"min\": 257.9336166381836, \"max\": 257.9336166381836}, \"setuptime\": {\"sum\": 28.371095657348633, \"count\": 1, \"min\": 28.371095657348633, \"max\": 28.371095657348633}, \"totaltime\": {\"sum\": 5015.913248062134, \"count\": 1, \"min\": 5015.913248062134, \"max\": 5015.913248062134}}}\u001b[0m\n",
      "\u001b[34m[01/07/2022 16:49:57 INFO 140020506400576 integration.py:636] worker closed\u001b[0m\n"
     ]
    },
    {
     "name": "stderr",
     "output_type": "stream",
     "text": [
      "Parameter image will be renamed to image_uri in SageMaker Python SDK v2.\n"
     ]
    },
    {
     "name": "stdout",
     "output_type": "stream",
     "text": [
      "Training seconds: 58\n",
      "Billable seconds: 58\n",
      "...................................\u001b[34mDocker entrypoint called with argument(s): serve\u001b[0m\n",
      "\u001b[34mRunning default environment configuration script\u001b[0m\n",
      "\u001b[34m[01/07/2022 16:59:08 INFO 139853593048896] loaded entry point class algorithm.serve.server_config:config_api\u001b[0m\n",
      "\u001b[34m[01/07/2022 16:59:08 INFO 139853593048896] loading entry points\u001b[0m\n",
      "\u001b[34m[01/07/2022 16:59:08 INFO 139853593048896] loaded request iterator application/json\u001b[0m\n",
      "\u001b[34m[01/07/2022 16:59:08 INFO 139853593048896] loaded request iterator application/jsonlines\u001b[0m\n",
      "\u001b[34m[01/07/2022 16:59:08 INFO 139853593048896] loaded request iterator application/x-recordio-protobuf\u001b[0m\n",
      "\u001b[34m[01/07/2022 16:59:08 INFO 139853593048896] loaded request iterator text/csv\u001b[0m\n",
      "\u001b[34m[01/07/2022 16:59:08 INFO 139853593048896] loaded response encoder application/json\u001b[0m\n",
      "\u001b[34m[01/07/2022 16:59:08 INFO 139853593048896] loaded response encoder application/jsonlines\u001b[0m\n",
      "\u001b[34m[01/07/2022 16:59:08 INFO 139853593048896] loaded response encoder application/x-recordio-protobuf\u001b[0m\n",
      "\u001b[34m[01/07/2022 16:59:08 INFO 139853593048896] loaded response encoder text/csv\u001b[0m\n",
      "\u001b[34m[01/07/2022 16:59:08 INFO 139853593048896] loaded entry point class algorithm:model\u001b[0m\n",
      "\u001b[34m[01/07/2022 16:59:08 INFO 139853593048896] Number of server workers: 4\u001b[0m\n",
      "\u001b[35mDocker entrypoint called with argument(s): serve\u001b[0m\n",
      "\u001b[35mRunning default environment configuration script\u001b[0m\n",
      "\u001b[35m[01/07/2022 16:59:08 INFO 139853593048896] loaded entry point class algorithm.serve.server_config:config_api\u001b[0m\n",
      "\u001b[35m[01/07/2022 16:59:08 INFO 139853593048896] loading entry points\u001b[0m\n",
      "\u001b[35m[01/07/2022 16:59:08 INFO 139853593048896] loaded request iterator application/json\u001b[0m\n",
      "\u001b[35m[01/07/2022 16:59:08 INFO 139853593048896] loaded request iterator application/jsonlines\u001b[0m\n",
      "\u001b[35m[01/07/2022 16:59:08 INFO 139853593048896] loaded request iterator application/x-recordio-protobuf\u001b[0m\n",
      "\u001b[35m[01/07/2022 16:59:08 INFO 139853593048896] loaded request iterator text/csv\u001b[0m\n",
      "\u001b[35m[01/07/2022 16:59:08 INFO 139853593048896] loaded response encoder application/json\u001b[0m\n",
      "\u001b[35m[01/07/2022 16:59:08 INFO 139853593048896] loaded response encoder application/jsonlines\u001b[0m\n",
      "\u001b[35m[01/07/2022 16:59:08 INFO 139853593048896] loaded response encoder application/x-recordio-protobuf\u001b[0m\n",
      "\u001b[35m[01/07/2022 16:59:08 INFO 139853593048896] loaded response encoder text/csv\u001b[0m\n",
      "\u001b[35m[01/07/2022 16:59:08 INFO 139853593048896] loaded entry point class algorithm:model\u001b[0m\n",
      "\u001b[35m[01/07/2022 16:59:08 INFO 139853593048896] Number of server workers: 4\u001b[0m\n",
      "\u001b[34m[01/07/2022 16:59:08 INFO 139853593048896] loading model...\u001b[0m\n",
      "\u001b[34m[01/07/2022 16:59:08 INFO 139853593048896] ...model loaded.\u001b[0m\n",
      "\u001b[34m[2022-01-07 16:59:08 +0000] [1] [INFO] Starting gunicorn 20.1.0\u001b[0m\n",
      "\u001b[34m[2022-01-07 16:59:08 +0000] [1] [INFO] Listening at: http://0.0.0.0:8080 (1)\u001b[0m\n",
      "\u001b[34m[2022-01-07 16:59:08 +0000] [1] [INFO] Using worker: sync\u001b[0m\n",
      "\u001b[35m[01/07/2022 16:59:08 INFO 139853593048896] loading model...\u001b[0m\n",
      "\u001b[35m[01/07/2022 16:59:08 INFO 139853593048896] ...model loaded.\u001b[0m\n",
      "\u001b[35m[2022-01-07 16:59:08 +0000] [1] [INFO] Starting gunicorn 20.1.0\u001b[0m\n",
      "\u001b[35m[2022-01-07 16:59:08 +0000] [1] [INFO] Listening at: http://0.0.0.0:8080 (1)\u001b[0m\n",
      "\u001b[35m[2022-01-07 16:59:08 +0000] [1] [INFO] Using worker: sync\u001b[0m\n",
      "\u001b[34m[2022-01-07 16:59:08 +0000] [60] [INFO] Booting worker with pid: 60\u001b[0m\n",
      "\u001b[35m[2022-01-07 16:59:08 +0000] [60] [INFO] Booting worker with pid: 60\u001b[0m\n",
      "\u001b[34m[2022-01-07 16:59:08 +0000] [69] [INFO] Booting worker with pid: 69\u001b[0m\n",
      "\u001b[34m[2022-01-07 16:59:08 +0000] [78] [INFO] Booting worker with pid: 78\u001b[0m\n",
      "\u001b[34m[2022-01-07 16:59:09 +0000] [87] [INFO] Booting worker with pid: 87\u001b[0m\n",
      "\u001b[35m[2022-01-07 16:59:08 +0000] [69] [INFO] Booting worker with pid: 69\u001b[0m\n",
      "\u001b[35m[2022-01-07 16:59:08 +0000] [78] [INFO] Booting worker with pid: 78\u001b[0m\n",
      "\u001b[35m[2022-01-07 16:59:09 +0000] [87] [INFO] Booting worker with pid: 87\u001b[0m\n",
      "\u001b[34m#metrics {\"StartTime\": 1641574748.8174188, \"EndTime\": 1641574750.3187659, \"Dimensions\": {\"Algorithm\": \"LinearLearnerModel\", \"Host\": \"UNKNOWN\", \"Operation\": \"scoring\"}, \"Metrics\": {\"execution_parameters.count\": {\"sum\": 1.0, \"count\": 1, \"min\": 1, \"max\": 1}}}\u001b[0m\n",
      "\u001b[35m#metrics {\"StartTime\": 1641574748.8174188, \"EndTime\": 1641574750.3187659, \"Dimensions\": {\"Algorithm\": \"LinearLearnerModel\", \"Host\": \"UNKNOWN\", \"Operation\": \"scoring\"}, \"Metrics\": {\"execution_parameters.count\": {\"sum\": 1.0, \"count\": 1, \"min\": 1, \"max\": 1}}}\u001b[0m\n",
      "\u001b[34m#metrics {\"StartTime\": 1641574748.8174188, \"EndTime\": 1641574751.1025698, \"Dimensions\": {\"Algorithm\": \"LinearLearnerModel\", \"Host\": \"UNKNOWN\", \"Operation\": \"scoring\"}, \"Metrics\": {\"json.encoder.time\": {\"sum\": 5.327463150024414, \"count\": 1, \"min\": 5.327463150024414, \"max\": 5.327463150024414}, \"invocations.count\": {\"sum\": 1.0, \"count\": 1, \"min\": 1, \"max\": 1}}}\u001b[0m\n",
      "\u001b[35m#metrics {\"StartTime\": 1641574748.8174188, \"EndTime\": 1641574751.1025698, \"Dimensions\": {\"Algorithm\": \"LinearLearnerModel\", \"Host\": \"UNKNOWN\", \"Operation\": \"scoring\"}, \"Metrics\": {\"json.encoder.time\": {\"sum\": 5.327463150024414, \"count\": 1, \"min\": 5.327463150024414, \"max\": 5.327463150024414}, \"invocations.count\": {\"sum\": 1.0, \"count\": 1, \"min\": 1, \"max\": 1}}}\u001b[0m\n",
      "\u001b[34m#metrics {\"StartTime\": 1641574750.318999, \"EndTime\": 1641574752.1091526, \"Dimensions\": {\"Algorithm\": \"LinearLearnerModel\", \"Host\": \"UNKNOWN\", \"Operation\": \"scoring\"}, \"Metrics\": {\"json.encoder.time\": {\"sum\": 66.09511375427246, \"count\": 1, \"min\": 66.09511375427246, \"max\": 66.09511375427246}, \"invocations.count\": {\"sum\": 1.0, \"count\": 1, \"min\": 1, \"max\": 1}}}\u001b[0m\n",
      "\u001b[35m#metrics {\"StartTime\": 1641574750.318999, \"EndTime\": 1641574752.1091526, \"Dimensions\": {\"Algorithm\": \"LinearLearnerModel\", \"Host\": \"UNKNOWN\", \"Operation\": \"scoring\"}, \"Metrics\": {\"json.encoder.time\": {\"sum\": 66.09511375427246, \"count\": 1, \"min\": 66.09511375427246, \"max\": 66.09511375427246}, \"invocations.count\": {\"sum\": 1.0, \"count\": 1, \"min\": 1, \"max\": 1}}}\u001b[0m\n",
      "\u001b[32m2022-01-07T16:59:10.325:[sagemaker logs]: MaxConcurrentTransforms=4, MaxPayloadInMB=6, BatchStrategy=MULTI_RECORD\u001b[0m\n",
      "\n"
     ]
    }
   ],
   "source": [
    "## Create a new estimator object using the \"best training job\" ##\n",
    "lin_best = sagemaker.estimator.Estimator.attach(lin_hyperparameter_tuner.best_training_job())\n",
    "\n",
    "## Create a batch transform job and point to s3 training data location ##\n",
    "lin_transformer = lin_best.transformer(instance_count = 1, instance_type = 'ml.m4.xlarge')\n",
    "lin_transformer.transform(test_location, content_type='text/csv', split_type='Line')\n",
    "lin_transformer.wait()"
   ]
  },
  {
   "cell_type": "code",
   "execution_count": 16,
   "id": "f21aeda2",
   "metadata": {},
   "outputs": [
    {
     "name": "stdout",
     "output_type": "stream",
     "text": [
      "download: s3://sagemaker-us-east-1-345989147144/linear-learner-220107-1620-019-4bee4bc2-2022-01-07-16-53-30-081/X_test.csv.out to data/linreg/linreg_results/X_test.csv.out\n"
     ]
    }
   ],
   "source": [
    "## Download tranform output from s3 location ##\n",
    "!aws s3 cp --recursive $lin_transformer.output_path $data_dir/linreg_results"
   ]
  },
  {
   "cell_type": "code",
   "execution_count": 17,
   "id": "c124f3e1",
   "metadata": {},
   "outputs": [
    {
     "name": "stdout",
     "output_type": "stream",
     "text": [
      "LinLearner test accuracy: 0.6274960354704036\n",
      "LinLearner test auc: 0.6743540445370801\n"
     ]
    }
   ],
   "source": [
    "## Calculate test accuracy and auc performance ##\n",
    "results = pd.read_csv(os.path.join(data_dir, 'linreg_results/X_test.csv.out'), header=None)\n",
    "predictions = [int(p.split(':')[1]) for p in results[0]]\n",
    "probs = [float(p.split(':')[1].split('}')[0]) for p in results[1]]\n",
    "\n",
    "from sklearn.metrics import accuracy_score, roc_auc_score\n",
    "print ('LinLearner test accuracy: {}'.format(accuracy_score(y_test, predictions)))\n",
    "print ('LinLearner test auc: {}'.format(roc_auc_score(y_test, probs)))"
   ]
  }
 ],
 "metadata": {
  "kernelspec": {
   "display_name": "conda_amazonei_mxnet_p36",
   "language": "python",
   "name": "conda_amazonei_mxnet_p36"
  },
  "language_info": {
   "codemirror_mode": {
    "name": "ipython",
    "version": 3
   },
   "file_extension": ".py",
   "mimetype": "text/x-python",
   "name": "python",
   "nbconvert_exporter": "python",
   "pygments_lexer": "ipython3",
   "version": "3.6.13"
  }
 },
 "nbformat": 4,
 "nbformat_minor": 5
}
