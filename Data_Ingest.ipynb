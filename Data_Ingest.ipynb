{
 "cells": [
  {
   "cell_type": "code",
   "execution_count": null,
   "id": "690d3d96",
   "metadata": {},
   "outputs": [],
   "source": [
    "## Ingestion Script ##"
   ]
  },
  {
   "cell_type": "code",
   "execution_count": 106,
   "id": "65613ef5",
   "metadata": {},
   "outputs": [],
   "source": [
    "import wget\n",
    "import numpy as np\n",
    "import os\n",
    "import zipfile"
   ]
  },
  {
   "cell_type": "code",
   "execution_count": 146,
   "id": "5f595285",
   "metadata": {},
   "outputs": [],
   "source": [
    "## Download and extract hospital admissions dataset ##\n",
    "source_url = 'https://archive.ics.uci.edu/ml/machine-learning-databases/00296/dataset_diabetes.zip'\n",
    "data_dir = 'datasources/raw/'\n",
    "\n",
    "def getData(source_url, data_dir):\n",
    "    if not os.path.exists(data_dir):\n",
    "        os.makedirs(data_dir)\n",
    "    \n",
    "    ## Download ##\n",
    "    wget.download(source_url, out=data_dir)\n",
    "    \n",
    "    ## Extract ##\n",
    "    with zipfile.ZipFile(data_dir + '/dataset_diabetes.zip', 'r') as zip_ref:\n",
    "        zip_ref.extractall(data_dir)\n",
    "    \n",
    "getData(source_url, data_dir)"
   ]
  },
  {
   "cell_type": "code",
   "execution_count": 147,
   "id": "5e4d50ab",
   "metadata": {},
   "outputs": [],
   "source": [
    "! mv /Users/connorphoenix/ML_Projects/diabetes_readmissions/datasources/raw/dataset_diabetes/IDs_mapping.csv /Users/connorphoenix/ML_Projects/diabetes_readmissions/datasources/raw/\n",
    "! mv /Users/connorphoenix/ML_Projects/diabetes_readmissions/datasources/raw/dataset_diabetes/diabetic_data.csv /Users/connorphoenix/ML_Projects/diabetes_readmissions/datasources/raw/\n",
    "! rm -r /Users/connorphoenix/ML_Projects/diabetes_readmissions/datasources/raw/dataset_diabetes/\n",
    "! rm -r /Users/connorphoenix/ML_Projects/diabetes_readmissions/datasources/raw/dataset_diabetes.zip"
   ]
  },
  {
   "cell_type": "code",
   "execution_count": 148,
   "id": "bd526e2a",
   "metadata": {},
   "outputs": [
    {
     "name": "stdout",
     "output_type": "stream",
     "text": [
      "IDs_mapping.csv   diabetic_data.csv\r\n"
     ]
    }
   ],
   "source": [
    "! ls /Users/connorphoenix/ML_Projects/diabetes_readmissions/datasources/raw"
   ]
  }
 ],
 "metadata": {
  "kernelspec": {
   "display_name": "Python 3",
   "language": "python",
   "name": "python3"
  },
  "language_info": {
   "codemirror_mode": {
    "name": "ipython",
    "version": 3
   },
   "file_extension": ".py",
   "mimetype": "text/x-python",
   "name": "python",
   "nbconvert_exporter": "python",
   "pygments_lexer": "ipython3",
   "version": "3.8.8"
  }
 },
 "nbformat": 4,
 "nbformat_minor": 5
}
